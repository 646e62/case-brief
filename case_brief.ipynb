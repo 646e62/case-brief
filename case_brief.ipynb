{
 "cells": [
  {
   "cell_type": "markdown",
   "id": "4f80e669-3893-4185-a3ac-c1ca14a0df8b",
   "metadata": {},
   "source": [
    "# NLP workflow (from Natural Language Processing Fundamentals)\n",
    "* Data collection\n",
    "* Data preprocessing\n",
    "* Feature extraction\n",
    "* Model development\n",
    "* Model assessment\n",
    "* Model deployment"
   ]
  },
  {
   "cell_type": "markdown",
   "id": "118c72f6-a376-4451-bc64-fb3dd4885388",
   "metadata": {
    "tags": []
   },
   "source": [
    "## Data collection\n",
    "Because CanLII blocks web scraping with captchas and because high-volume web scraping violates CanLII's ToS, this program will have to rely on manually downloaded HTML pages for now. The ToS suggest that individuals may be able to secure mass-downloading rights, so I will look into this as the program develops.\n",
    "\n",
    "The HTML files listed are copies of all reported criminal (and some quasi-criminal) decisions on CanLII from 2023 as of 2023-01-31. I selected cases based solely on the style of cause, including all cases that followed the style *R v Defendant* or *Defendant v R*. As this is a NLP project, I only selected English decisions, thereby limiting the number of reported (quasi-)criminal cases from Quebec."
   ]
  },
  {
   "cell_type": "markdown",
   "id": "fdd93b71-3f7a-48b0-aed8-e80637535321",
   "metadata": {
    "tags": []
   },
   "source": [
    "### Compiled decisions\n",
    "Decisions listed in this dictionary have been processed and have a TXT equivalent saved to file."
   ]
  },
  {
   "cell_type": "code",
   "execution_count": 1,
   "id": "2d4e87d3-3856-49ba-b0c9-1d4da7201144",
   "metadata": {
    "jupyter": {
     "source_hidden": true
    },
    "tags": []
   },
   "outputs": [],
   "source": [
    "completed = {\"scc\": [\"./canlii_crim_corpus/html/2023/ca/scc/2023scc2.html\",\n",
    "                     \"./canlii_crim_corpus/html/2023/ca/scc/2023scc3.html\",],\n",
    "             \"bcca\": [\"./canlii_crim_corpus/html/2023/bc/ca/2023bcca2.html\",\n",
    "                      \"./canlii_crim_corpus/html/2023/bc/ca/2023bcca3.html\",\n",
    "                      \"./canlii_crim_corpus/html/2023/bc/ca/2023bcca4.html\",\n",
    "                      \"./canlii_crim_corpus/html/2023/bc/ca/2023bcca6.html\",\n",
    "                      \"./canlii_crim_corpus/html/2023/bc/ca/2023bcca8.html\",\n",
    "                      \"./canlii_crim_corpus/html/2023/bc/ca/2023bcca13.html\",\n",
    "                      \"./canlii_crim_corpus/html/2023/bc/ca/2023bcca19.html\",\n",
    "                      \"./canlii_crim_corpus/html/2023/bc/ca/2023bcca29.html\",\n",
    "                      \"./canlii_crim_corpus/html/2023/bc/ca/2023bcca33.html\",\n",
    "                      \"./canlii_crim_corpus/html/2023/bc/ca/2023bcca37.html\",\n",
    "                      \"./canlii_crim_corpus/html/2023/bc/ca/2023bcca50.html\",],\n",
    "             \"bcsc\": [\"./canlii_crim_corpus/html/2023/bc/sc/2023bcsc50.html\",\n",
    "                      \"./canlii_crim_corpus/html/2023/bc/sc/2023bcsc147.html\",\n",
    "                      \"./canlii_crim_corpus/html/2023/bc/sc/2023bcsc72.html\",\n",
    "                      \"./canlii_crim_corpus/html/2023/bc/sc/2023bcsc85.html\",\n",
    "                      \"./canlii_crim_corpus/html/2023/bc/sc/2023bcsc92.html\",\n",
    "                      \"./canlii_crim_corpus/html/2023/bc/sc/2023bcsc96.html\",\n",
    "                      \"./canlii_crim_corpus/html/2023/bc/sc/2023bcsc106.html\",\n",
    "                      \"./canlii_crim_corpus/html/2023/bc/sc/2023bcsc134.html\",\n",
    "                      \"./canlii_crim_corpus/html/2023/bc/sc/2023bcsc141.html\",],\n",
    "             \"bcpc\": [\"./canlii_crim_corpus/html/2023/bc/pc/2023bcpc3.html\",\n",
    "                      \"./canlii_crim_corpus/html/2023/bc/pc/2023bcpc14.html\",\n",
    "                      \"./canlii_crim_corpus/html/2023/bc/pc/2023bcpc4.html\",\n",
    "                      \"./canlii_crim_corpus/html/2023/bc/pc/2023bcpc5.html\",\n",
    "                      \"./canlii_crim_corpus/html/2023/bc/pc/2023bcpc6.html\",\n",
    "                      \"./canlii_crim_corpus/html/2023/bc/pc/2023bcpc7.html\",\n",
    "                      \"./canlii_crim_corpus/html/2023/bc/pc/2023bcpc11.html\",\n",
    "                      \"./canlii_crim_corpus/html/2023/bc/pc/2023bcpc12.html\",\n",
    "                      \"./canlii_crim_corpus/html/2023/bc/pc/2023bcpc13.html\",],\n",
    "             \"abca\": [\"./canlii_crim_corpus/html/2023/ab/ca/2023abca2.html\",\n",
    "                      \"./canlii_crim_corpus/html/2023/ab/ca/2023abca26.html\",\n",
    "                      \"./canlii_crim_corpus/html/2023/ab/ca/2023abca3.html\",\n",
    "                      \"./canlii_crim_corpus/html/2023/ab/ca/2023abca5.html\",\n",
    "                      \"./canlii_crim_corpus/html/2023/ab/ca/2023abca7.html\",\n",
    "                      \"./canlii_crim_corpus/html/2023/ab/ca/2023abca10.html\",\n",
    "                      \"./canlii_crim_corpus/html/2023/ab/ca/2023abca11.html\",\n",
    "                      \"./canlii_crim_corpus/html/2023/ab/ca/2023abca18.html\",\n",
    "                      \"./canlii_crim_corpus/html/2023/ab/ca/2023abca20.html\",\n",
    "                      \"./canlii_crim_corpus/html/2023/ab/ca/2023abca23.html\",\n",
    "                      \"./canlii_crim_corpus/html/2023/ab/ca/2023abca29.html\",],\n",
    "             \"abkb\": [\"./canlii_crim_corpus/html/2023/ab/kb/2023abkb45.html\",\n",
    "                      \"./canlii_crim_corpus/html/2023/ab/kb/2023abkb13.html\",\n",
    "                      \"./canlii_crim_corpus/html/2023/ab/kb/2023abkb26.html\",\n",
    "                      \"./canlii_crim_corpus/html/2023/ab/kb/2023abkb9.html\",\n",
    "                      \"./canlii_crim_corpus/html/2023/ab/kb/2023abkb39.html\",],\n",
    "             \"abpc\": [\"./canlii_crim_corpus/html/2023/ab/pc/2023abpc17.html\",\n",
    "                      \"./canlii_crim_corpus/html/2023/ab/pc/2023abpc3.html\",\n",
    "                      \"./canlii_crim_corpus/html/2023/ab/pc/2023abpc9.html\",\n",
    "                      \"./canlii_crim_corpus/html/2023/ab/pc/2023abpc6.html\",\n",
    "                      \"./canlii_crim_corpus/html/2023/ab/pc/2023abpc1.html\",\n",
    "                      \"./canlii_crim_corpus/html/2023/ab/pc/2023abpc16.html\",\n",
    "                      \"./canlii_crim_corpus/html/2023/ab/pc/2023abpc8.html\",\n",
    "                      \"./canlii_crim_corpus/html/2023/ab/pc/2023abpc7.html\",],\n",
    "             \"skca\": [\"./canlii_crim_corpus/html/2023/sk/ca/2023skca15.html\",\n",
    "                      \"./canlii_crim_corpus/html/2023/sk/ca/2023skca1.html\",\n",
    "                      \"./canlii_crim_corpus/html/2023/sk/ca/2023skca2.html\",\n",
    "                      \"./canlii_crim_corpus/html/2023/sk/ca/2023skca12.html\",\n",
    "                      \"./canlii_crim_corpus/html/2023/sk/ca/2023skca7.html\",\n",
    "                      \"./canlii_crim_corpus/html/2023/sk/ca/2023skca6.html\",],\n",
    "             \"skkb\": [\"./canlii_crim_corpus/html/2023/sk/kb/2023skkb1.html\",\n",
    "                      \"./canlii_crim_corpus/html/2023/sk/kb/2023skkb8.html\",],\n",
    "             \"skpc\": [\"./canlii_crim_corpus/html/2023/sk/pc/2023skpc6.html\",\n",
    "                      \"./canlii_crim_corpus/html/2023/sk/pc/2023skpc10.html\",\n",
    "                      \"./canlii_crim_corpus/html/2023/sk/pc/2023skpc2.html\",\n",
    "                      \"./canlii_crim_corpus/html/2023/sk/pc/2023skpc9.html\",\n",
    "                      \"./canlii_crim_corpus/html/2023/sk/pc/2023skpc5.html\",\n",
    "                      \"./canlii_crim_corpus/html/2023/sk/pc/2023skpc14.html\",\n",
    "                      \"./canlii_crim_corpus/html/2023/sk/pc/2023skpc1.html\",\n",
    "                      \"./canlii_crim_corpus/html/2023/sk/pc/2023skpc3.html\",\n",
    "                      \"./canlii_crim_corpus/html/2023/sk/pc/2023skpc4.html\",\n",
    "                      \"./canlii_crim_corpus/html/2023/sk/pc/2023skpc12.html\",\n",
    "                      \"./canlii_crim_corpus/html/2023/sk/pc/2023skpc8.html\",\n",
    "                      \"./canlii_crim_corpus/html/2023/sk/pc/2023skpc7.html\",],\n",
    "             \"mbca\": [\"./canlii_crim_corpus/html/2023/mb/ca/2023mbca5.html\",\n",
    "                      \"./canlii_crim_corpus/html/2023/mb/ca/2023mbca8.html\",\n",
    "                      \"./canlii_crim_corpus/html/2023/mb/ca/2023mbca2.html\",\n",
    "                      \"./canlii_crim_corpus/html/2023/mb/ca/2023mbca4.html\",\n",
    "                      \"./canlii_crim_corpus/html/2023/mb/ca/2023mbca6.html\",\n",
    "                      \"./canlii_crim_corpus/html/2023/mb/ca/2023mbca1.html\",],\n",
    "             \"mbkb\": [\"./canlii_crim_corpus/html/2023/mb/kb/2023mbkb7.html\",\n",
    "                      \"./canlii_crim_corpus/html/2023/mb/kb/2023mbkb2.html\",\n",
    "                      \"./canlii_crim_corpus/html/2023/mb/kb/2023mbkb10.html\",\n",
    "                      \"./canlii_crim_corpus/html/2023/mb/kb/2023mbkb12.html\",\n",
    "                      \"./canlii_crim_corpus/html/2023/mb/kb/2023mbkb6.html\",\n",
    "                      \"./canlii_crim_corpus/html/2023/mb/kb/2023mbkb1.html\",],\n",
    "             \"mbpc\": [],\n",
    "             \"onca\": [\"./canlii_crim_corpus/html/2023/on/ca/2023onca19.html\",\n",
    "                      \"./canlii_crim_corpus/html/2023/on/ca/2023onca33.html\",\n",
    "                      \"./canlii_crim_corpus/html/2023/on/ca/2023onca40.html\",\n",
    "                      \"./canlii_crim_corpus/html/2023/on/ca/2023onca23.html\",\n",
    "                      \"./canlii_crim_corpus/html/2023/on/ca/2023onca2.html\",\n",
    "                      \"./canlii_crim_corpus/html/2023/on/ca/2023onca24.html\",\n",
    "                      \"./canlii_crim_corpus/html/2023/on/ca/2023onca45.html\",\n",
    "                      \"./canlii_crim_corpus/html/2023/on/ca/2023onca6.html\",\n",
    "                      \"./canlii_crim_corpus/html/2023/on/ca/2023onca10.html\",\n",
    "                      \"./canlii_crim_corpus/html/2023/on/ca/2023onca38.html\",\n",
    "                      \"./canlii_crim_corpus/html/2023/on/ca/2023onca13.html\",\n",
    "                      \"./canlii_crim_corpus/html/2023/on/ca/2023onca48.html\",\n",
    "                      \"./canlii_crim_corpus/html/2023/on/ca/2023onca5.html\",\n",
    "                      \"./canlii_crim_corpus/html/2023/on/ca/2023onca35.html\",\n",
    "                      \"./canlii_crim_corpus/html/2023/on/ca/2023onca8.html\",\n",
    "                      \"./canlii_crim_corpus/html/2023/on/ca/2023onca31.html\",\n",
    "                      \"./canlii_crim_corpus/html/2023/on/ca/2023onca32.html\",\n",
    "                      \"./canlii_crim_corpus/html/2023/on/ca/2023onca47.html\",\n",
    "                      \"./canlii_crim_corpus/html/2023/on/ca/2023onca53.html\",\n",
    "                      \"./canlii_crim_corpus/html/2023/on/ca/2023onca7.html\",\n",
    "                      \"./canlii_crim_corpus/html/2023/on/ca/2023onca20.html\",\n",
    "                      \"./canlii_crim_corpus/html/2023/on/ca/2023onca12.html\",\n",
    "                      \"./canlii_crim_corpus/html/2023/on/ca/2023onca3.html\",\n",
    "                      \"./canlii_crim_corpus/html/2023/on/ca/2023onca36.html\",\n",
    "                      \"./canlii_crim_corpus/html/2023/on/ca/2023onca4.html\",],\n",
    "             \"onsc\": [\"./canlii_crim_corpus/html/2023/on/sc/2023onsc538.html\",\n",
    "                      \"./canlii_crim_corpus/html/2023/on/sc/2023onsc414.html\",\n",
    "                      \"./canlii_crim_corpus/html/2023/on/sc/2023onsc124.html\",\n",
    "                      \"./canlii_crim_corpus/html/2023/on/sc/2023onsc496.html\",\n",
    "                      \"./canlii_crim_corpus/html/2023/on/sc/2023onsc103.html\",\n",
    "                      \"./canlii_crim_corpus/html/2023/on/sc/2023onsc286.html\",\n",
    "                      \"./canlii_crim_corpus/html/2023/on/sc/2023onsc547.html\",\n",
    "                      \"./canlii_crim_corpus/html/2023/on/sc/2023onsc254.html\",\n",
    "                      \"./canlii_crim_corpus/html/2023/on/sc/2023onsc347.html\",\n",
    "                      \"./canlii_crim_corpus/html/2023/on/sc/2023onsc549.html\",\n",
    "                      \"./canlii_crim_corpus/html/2023/on/sc/2023onsc62.html\",\n",
    "                      \"./canlii_crim_corpus/html/2023/on/sc/2023onsc396.html\",\n",
    "                      \"./canlii_crim_corpus/html/2023/on/sc/2023onsc64.html\",\n",
    "                      \"./canlii_crim_corpus/html/2023/on/sc/2023onsc283.html\",\n",
    "                      \"./canlii_crim_corpus/html/2023/on/sc/2023onsc452.html\",\n",
    "                      \"./canlii_crim_corpus/html/2023/on/sc/2023onsc640.html\",\n",
    "                      \"./canlii_crim_corpus/html/2023/on/sc/2023onsc220.html\",\n",
    "                      \"./canlii_crim_corpus/html/2023/on/sc/2023onsc14.html\",\n",
    "                      \"./canlii_crim_corpus/html/2023/on/sc/2023onsc97.html\",\n",
    "                      \"./canlii_crim_corpus/html/2023/on/sc/2023onsc268.html\",\n",
    "                      \"./canlii_crim_corpus/html/2023/on/sc/2023onsc662.html\",\n",
    "                      \"./canlii_crim_corpus/html/2023/on/sc/2023onsc568.html\",\n",
    "                      \"./canlii_crim_corpus/html/2023/on/sc/2023onsc621.html\",\n",
    "                      \"./canlii_crim_corpus/html/2023/on/sc/2023onsc146.html\",\n",
    "                      \"./canlii_crim_corpus/html/2023/on/sc/2023onsc296.html\",\n",
    "                      \"./canlii_crim_corpus/html/2023/on/sc/2023onsc555.html\",\n",
    "                      \"./canlii_crim_corpus/html/2023/on/sc/2023onsc190.html\",\n",
    "                      \"./canlii_crim_corpus/html/2023/on/sc/2023onsc200.html\",\n",
    "                      \"./canlii_crim_corpus/html/2023/on/sc/2023onsc416.html\",\n",
    "                      \"./canlii_crim_corpus/html/2023/on/sc/2023onsc166.html\",\n",
    "                      \"./canlii_crim_corpus/html/2023/on/sc/2023onsc567.html\",\n",
    "                      \"./canlii_crim_corpus/html/2023/on/sc/2023onsc400.html\",\n",
    "                      \"./canlii_crim_corpus/html/2023/on/sc/2023onsc300.html\",\n",
    "                      \"./canlii_crim_corpus/html/2023/on/sc/2023onsc406.html\",\n",
    "                      \"./canlii_crim_corpus/html/2023/on/sc/2023onsc516.html\",],\n",
    "             \"oncj\": [\"./canlii_crim_corpus/html/2023/on/cj/2023oncj18.html\",\n",
    "                      \"./canlii_crim_corpus/html/2023/on/cj/2023oncj24.html\",\n",
    "                      \"./canlii_crim_corpus/html/2023/on/cj/2023oncj10.html\",\n",
    "                      \"./canlii_crim_corpus/html/2023/on/cj/2023oncj9.html\",\n",
    "                      \"./canlii_crim_corpus/html/2023/on/cj/2023oncj20.html\",\n",
    "                      \"./canlii_crim_corpus/html/2023/on/cj/2023oncj25.html\",\n",
    "                      \"./canlii_crim_corpus/html/2023/on/cj/2023oncj16.html\",\n",
    "                      \"./canlii_crim_corpus/html/2023/on/cj/2023oncj12.html\",\n",
    "                      \"./canlii_crim_corpus/html/2023/on/cj/2023oncj45.html\",\n",
    "                      \"./canlii_crim_corpus/html/2023/on/cj/2023oncj43.html\",\n",
    "                      \"./canlii_crim_corpus/html/2023/on/cj/2023oncj17.html\",\n",
    "                      \"./canlii_crim_corpus/html/2023/on/cj/2023oncj28.html\",\n",
    "                      \"./canlii_crim_corpus/html/2023/on/cj/2023oncj40.html\",\n",
    "                      \"./canlii_crim_corpus/html/2023/on/cj/2023oncj6.html\",\n",
    "                      \"./canlii_crim_corpus/html/2023/on/cj/2023oncj14.html\",\n",
    "                      \"./canlii_crim_corpus/html/2023/on/cj/2023oncj36.html\",\n",
    "                      \"./canlii_crim_corpus/html/2023/on/cj/2023oncj15.html\",\n",
    "                      \"./canlii_crim_corpus/html/2023/on/cj/2023oncj11.html\",\n",
    "                      \"./canlii_crim_corpus/html/2023/on/cj/2023oncj29.html\",\n",
    "                      \"./canlii_crim_corpus/html/2023/on/cj/2023oncj5.html\",\n",
    "                      \"./canlii_crim_corpus/html/2023/on/cj/2023oncj31.html\",\n",
    "                      \"./canlii_crim_corpus/html/2023/on/cj/2023oncj27.html\",\n",
    "                      \"./canlii_crim_corpus/html/2023/on/cj/2023oncj21.html\",\n",
    "                      \"./canlii_crim_corpus/html/2023/on/cj/2023oncj4.html\",\n",
    "                      \"./canlii_crim_corpus/html/2023/on/cj/2023oncj41.html\",\n",
    "                      \"./canlii_crim_corpus/html/2023/on/cj/2023oncj22.html\",],\n",
    "             \"qcca\": [\"./canlii_crim_corpus/html/2023/qc/ca/2023qcca34.html\",\n",
    "                      \"./canlii_crim_corpus/html/2023/qc/ca/2023qcca13.html\",\n",
    "                      \"./canlii_crim_corpus/html/2023/qc/ca/2023qcca89.html\",\n",
    "                      \"./canlii_crim_corpus/html/2023/qc/ca/2023qcca57.html\",],\n",
    "             \"qccs\": [],\n",
    "             \"qccq\": [\"./canlii_crim_corpus/html/2023/qc/cq/2023qccq86.html\",\n",
    "                      \"./canlii_crim_corpus/html/2023/qc/cq/2023qccq15.html\",],\n",
    "             \"nbca\": [\"./canlii_crim_corpus/html/2023/nb/ca/2023nbca6.html\",],\n",
    "             \"nbkb\": [],\n",
    "             \"nbpc\": [\"./canlii_crim_corpus/html/2023/nb/pc/2023nbpc1.html\",],\n",
    "             \"nsca\": [\"./canlii_crim_corpus/html/2023/ns/ca/2023nsca3.html\",\n",
    "                      \"./canlii_crim_corpus/html/2023/ns/ca/2023nsca2.html\",\n",
    "                      \"./canlii_crim_corpus/html/2023/ns/ca/2023nsca1.html\",],\n",
    "             \"nssc\": [\"./canlii_crim_corpus/html/2023/ns/sc/2023nssc25.html\",\n",
    "                      \"./canlii_crim_corpus/html/2023/ns/sc/2023nssc9.html\",\n",
    "                      \"./canlii_crim_corpus/html/2023/ns/sc/2023nssc3.html\",\n",
    "                      \"./canlii_crim_corpus/html/2023/ns/sc/2023nssc4.html\",\n",
    "                      \"./canlii_crim_corpus/html/2023/ns/sc/2023nssc2.html\",\n",
    "                      \"./canlii_crim_corpus/html/2023/ns/sc/2023nssc28.html\",],\n",
    "             \"nspc\": [],\n",
    "             \"peca\": [],\n",
    "             \"pesc\": [\"./canlii_crim_corpus/html/2023/pe/sc/2023pesc4.html\",],\n",
    "             \"nlca\": [],\n",
    "             \"nlsc\": [\"./canlii_crim_corpus/html/2023/nl/sc/2023nlsc6.html\",],\n",
    "             \"nlpc\": [\"./canlii_crim_corpus/html/2023/nl/pc/2023canlii605.html\", \n",
    "                      \"./canlii_crim_corpus/html/2023/nl/pc/2023canlii460.html\",\n",
    "                      \"./canlii_crim_corpus/html/2023/nl/pc/2023canlii466.html\",\n",
    "                      \"./canlii_crim_corpus/html/2023/nl/pc/2023canlii2060.html\",\n",
    "                      \"./canlii_crim_corpus/html/2023/nl/pc/2023canlii2521.html\",\n",
    "                      \"./canlii_crim_corpus/html/2023/nl/pc/2023canlii3051.html\",],\n",
    "             \"ykca\": [],\n",
    "             \"yksc\": [],\n",
    "             \"yktc\": [\"./canlii_crim_corpus/html/2023/yk/tc/2023yktc1.html\",],\n",
    "             \"ntca\": [\"./canlii_crim_corpus/html/2023/nt/ca/2023ntca1.html\",],\n",
    "             \"ntsc\": [],\n",
    "             \"nttc\": [],\n",
    "             \"nuca\": [],\n",
    "             \"nucj\": []\n",
    "            }\n",
    "\n",
    "scc_2022 = [\"./canlii_scc_corpus/html/2022/2022scc1.html\",\n",
    "            \"./canlii_scc_corpus/html/2022/2022scc2.html\",\n",
    "            \"./canlii_scc_corpus/html/2022/2022scc3.html\",\n",
    "            \"./canlii_scc_corpus/html/2022/2022scc4.html\",\n",
    "            \"./canlii_scc_corpus/html/2022/2022scc5.html\",\n",
    "            \"./canlii_scc_corpus/html/2022/2022scc6.html\",\n",
    "            \"./canlii_scc_corpus/html/2022/2022scc7.html\",\n",
    "            \"./canlii_scc_corpus/html/2022/2022scc8.html\",\n",
    "            \"./canlii_scc_corpus/html/2022/2022scc9.html\",\n",
    "            \"./canlii_scc_corpus/html/2022/2022scc10.html\",\n",
    "            \"./canlii_scc_corpus/html/2022/2022scc11.html\",\n",
    "            \"./canlii_scc_corpus/html/2022/2022scc12.html\",\n",
    "            \"./canlii_scc_corpus/html/2022/2022scc13.html\",\n",
    "            \"./canlii_scc_corpus/html/2022/2022scc14.html\",\n",
    "            \"./canlii_scc_corpus/html/2022/2022scc15.html\",\n",
    "            \"./canlii_scc_corpus/html/2022/2022scc16.html\",\n",
    "            \"./canlii_scc_corpus/html/2022/2022scc17.html\",\n",
    "            \"./canlii_scc_corpus/html/2022/2022scc18.html\",\n",
    "            \"./canlii_scc_corpus/html/2022/2022scc19.html\",\n",
    "            \"./canlii_scc_corpus/html/2022/2022scc20.html\",\n",
    "            \"./canlii_scc_corpus/html/2022/2022scc21.html\",\n",
    "            \"./canlii_scc_corpus/html/2022/2022scc22.html\",\n",
    "            \"./canlii_scc_corpus/html/2022/2022scc23.html\",\n",
    "            \"./canlii_scc_corpus/html/2022/2022scc24.html\",\n",
    "            \"./canlii_scc_corpus/html/2022/2022scc25.html\",\n",
    "            \"./canlii_scc_corpus/html/2022/2022scc26.html\",\n",
    "            \"./canlii_scc_corpus/html/2022/2022scc27.html\",\n",
    "            \"./canlii_scc_corpus/html/2022/2022scc28.html\",\n",
    "            \"./canlii_scc_corpus/html/2022/2022scc29.html\",\n",
    "            \"./canlii_scc_corpus/html/2022/2022scc30.html\",\n",
    "            \"./canlii_scc_corpus/html/2022/2022scc31.html\",\n",
    "            \"./canlii_scc_corpus/html/2022/2022scc32.html\",\n",
    "            \"./canlii_scc_corpus/html/2022/2022scc33.html\",\n",
    "            \"./canlii_scc_corpus/html/2022/2022scc34.html\",\n",
    "            \"./canlii_scc_corpus/html/2022/2022scc35.html\",\n",
    "            \"./canlii_scc_corpus/html/2022/2022scc36.html\",\n",
    "            \"./canlii_scc_corpus/html/2022/2022scc37.html\",\n",
    "            \"./canlii_scc_corpus/html/2022/2022scc38.html\",\n",
    "            \"./canlii_scc_corpus/html/2022/2022scc39.html\",\n",
    "            \"./canlii_scc_corpus/html/2022/2022scc40.html\",\n",
    "            \"./canlii_scc_corpus/html/2022/2022scc41.html\",\n",
    "            \"./canlii_scc_corpus/html/2022/2022scc42.html\",\n",
    "            \"./canlii_scc_corpus/html/2022/2022scc43.html\",\n",
    "            \"./canlii_scc_corpus/html/2022/2022scc44.html\",\n",
    "            \"./canlii_scc_corpus/html/2022/2022scc45.html\",\n",
    "            \"./canlii_scc_corpus/html/2022/2022scc46.html\",\n",
    "            \"./canlii_scc_corpus/html/2022/2022scc47.html\",\n",
    "            \"./canlii_scc_corpus/html/2022/2022scc48.html\",\n",
    "            \"./canlii_scc_corpus/html/2022/2022scc49.html\",\n",
    "            \"./canlii_scc_corpus/html/2022/2022scc50.html\",\n",
    "            \"./canlii_scc_corpus/html/2022/2022scc51.html\",\n",
    "            \"./canlii_scc_corpus/html/2022/2022scc52.html\",\n",
    "            \"./canlii_scc_corpus/html/2022/2022scc53.html\",\n",
    "            \"./canlii_scc_corpus/html/2022/2022scc54.html\",\n",
    "           ]"
   ]
  },
  {
   "cell_type": "markdown",
   "id": "97de4571-7491-456c-97f4-cf52e103d41b",
   "metadata": {
    "tags": []
   },
   "source": [
    "### Defective files\n",
    "Holding cell for files that have either been downloaded and cannot be processed using the normal compliation process, or decisions that are \"published\" on CanLII but don't have reasons available yet."
   ]
  },
  {
   "cell_type": "code",
   "execution_count": 100,
   "id": "6caf80e9-1775-4f80-9506-764a3925d58f",
   "metadata": {
    "jupyter": {
     "source_hidden": true
    },
    "tags": []
   },
   "outputs": [],
   "source": [
    "# Defects\n",
    "## The defect files listed here each posted NoneType errors when run through the decision_paragraph function\n",
    "defects_nonetype = [\"./canlii_crim_corpus/html/2023/ca/scc/2023scc1.html\",\n",
    "                    \"./canlii_crim_corpus/html/2023/bc/ca/2023bcca16.html\",\n",
    "                    \"./canlii_crim_corpus/html/2023/bc/ca/2023bcca38.html\",\n",
    "                    \"./canlii_crim_corpus/html/2023/ab/pc/2023abpc22.html\",\n",
    "                    \"./canlii_crim_corpus/html/2023/on/sc/2023onsc462.html\",\n",
    "                    \"./canlii_crim_corpus/html/2023/on/sc/2023onsc519.html\",]\n",
    "\n",
    "## Paragraphs in PECA decisions don't appear to follow the \"paragWrapper\" div convention, and thus aren't caught up by the compiler\n",
    "defects_peca = [\"./canlii_crim_corpus/html/2023/pe/ca/2023peca1.html\",\n",
    "                \"./canlii_crim_corpus/html/2023/pe/ca/2023peca2.html\",]\n",
    "\n",
    "# Reasons currently unavailable\n",
    "## Decisions published without reasons are listed here for future follow-up\n",
    "reasons_unavailable = [\".canlii_crim_corpus/html/2023/mb/pc/2023mbpc1.html\"]\n",
    "\n",
    "assorted_defects = []"
   ]
  },
  {
   "cell_type": "markdown",
   "id": "b0f62130-6ea8-4972-a54d-71056e1e2b59",
   "metadata": {
    "tags": []
   },
   "source": [
    "### Unprocessed decisions\n",
    "Staging ground for decisions that have been downloaded but still need to be processed"
   ]
  },
  {
   "cell_type": "code",
   "execution_count": 125,
   "id": "39dfb29c-1c9c-4356-9820-71894259be01",
   "metadata": {
    "jupyter": {
     "source_hidden": true
    },
    "tags": []
   },
   "outputs": [],
   "source": [
    "# Unprocessed decisions\n",
    "\n",
    "## Federal\n",
    "scc_list = []\n",
    "\n",
    "## British Columbia\n",
    "bcca_list = []\n",
    "bcsc_list = []\n",
    "bcpc_list = []\n",
    "       \n",
    "    \n",
    "## Alberta\n",
    "abca_list = []\n",
    "abkb_list = []\n",
    "abpc_list = []\n",
    "\n",
    "\n",
    "## Saskatchewan\n",
    "skca_list = []\n",
    "skkb_list = []\n",
    "skpc_list = []\n",
    "\n",
    "\n",
    "## Manitoba\n",
    "mbca_list = []\n",
    "mbkb_list = []\n",
    "mbpc_list = []\n",
    "\n",
    "\n",
    "## Ontario\n",
    "onca_list = []\n",
    "onsc_list = []\n",
    "oncj_list = []\n",
    "\n",
    "\n",
    "## Quebec\n",
    "qcca_list = []\n",
    "qccq_list = []\n",
    "qccs_list = []\n",
    "\n",
    "\n",
    "## New Brunswick\n",
    "nbca_list = []\n",
    "nbkb_list = []\n",
    "nbpc_list = []\n",
    "\n",
    "\n",
    "## Newfoundland & Labrador\n",
    "nlsc_list = []\n",
    "nlpc_list = []\n",
    "nlca_list = []\n",
    "\n",
    "\n",
    "## Prince Edward Island\n",
    "peca_list = []\n",
    "pesc_list = []\n",
    "pepc_list = []\n",
    "\n",
    "\n",
    "## Nova Scotia\n",
    "nsca_list = []\n",
    "nssc_list = []\n",
    "nspc_list = []\n",
    "\n",
    "\n",
    "## Yukon\n",
    "ykca_list = []\n",
    "yksc_list = []\n",
    "yktc_list = []\n",
    "\n",
    "\n",
    "## Northwest Territories\n",
    "ntca_list = []\n",
    "ntsc_list = []\n",
    "nttc_list = []\n",
    "\n",
    "\n",
    "## Nunavut\n",
    "nuca_list = []\n",
    "nucj_list = []\n",
    "\n",
    "\n",
    "## Aggregate variable\n",
    "unprocessed = [scc_list,\n",
    "               bcca_list, bcsc_list, bcpc_list,\n",
    "               abca_list, abkb_list, abpc_list,\n",
    "               skca_list, skkb_list, skpc_list,\n",
    "               mbca_list, mbkb_list, mbpc_list,\n",
    "               onca_list, onsc_list, oncj_list,\n",
    "               qcca_list, qccs_list, qccq_list,\n",
    "               nbca_list, nbkb_list, nbpc_list,\n",
    "               nsca_list, nssc_list, nspc_list,\n",
    "               peca_list, pesc_list, pepc_list,\n",
    "               nlca_list, nlsc_list, nlpc_list,\n",
    "               ykca_list, yksc_list, yktc_list,\n",
    "               ntca_list, ntsc_list, nttc_list,\n",
    "               nuca_list, nucj_list\n",
    "              ]"
   ]
  },
  {
   "cell_type": "markdown",
   "id": "89fdb1c9-e6a2-47e6-80d6-60e22b510049",
   "metadata": {
    "tags": []
   },
   "source": [
    "### Tree structure\n",
    "The following code snippet shows the HTML files that will be used to build the first test mini-corpus in a tree format."
   ]
  },
  {
   "cell_type": "code",
   "execution_count": 262,
   "id": "68e5fa50-c1d3-4d22-8d1b-3d2eb708fd8d",
   "metadata": {
    "jupyter": {
     "source_hidden": true
    },
    "tags": []
   },
   "outputs": [],
   "source": [
    "import os\n",
    "\n",
    "def list_directory_tree(directory):\n",
    "    print(directory)\n",
    "    for path, dirs, files in os.walk(directory):\n",
    "        level = path.replace(directory, '').count(os.sep)\n",
    "        indent = ' ' * 4 * (level)\n",
    "        print('{}{}/'.format(indent, os.path.basename(path)))\n",
    "        subindent = ' ' * 4 * (level + 1)\n",
    "        for f in files:\n",
    "            print('{}{}'.format(subindent, f))\n",
    "\n",
    "#list_directory_tree(\"./canlii_crim_corpus/html/2023/\")"
   ]
  },
  {
   "cell_type": "markdown",
   "id": "947a8b43-0b47-45ae-9c6b-0fbebfb0897d",
   "metadata": {
    "tags": []
   },
   "source": [
    "## Data preprocessing\n",
    "These functions remove extraneous HTML and save the clean text to file. Where available, the preprocessing functions split the decision into the decision's numbered paragraphs. Where the decision doesn't come with pre-formatted paragraph numbers, the functions should infer them from the document's structure. For some older decisions, it may be possible to infer pagination, though this functionality may not be necessary or useful."
   ]
  },
  {
   "cell_type": "markdown",
   "id": "d808a1d0-2b3f-4547-8411-363e0584f9e9",
   "metadata": {
    "tags": []
   },
   "source": [
    "### NLP language base\n",
    "The case-brief program uses spaCy for NLP. After some cursory testing, the medium English library appears best suited to this program's use case. Specifically, it appears to detect LAW entities much more accurately than either the small or large models do."
   ]
  },
  {
   "cell_type": "code",
   "execution_count": 2,
   "id": "39d1231b-d1a2-496e-ac8a-3d1f6d08c74b",
   "metadata": {
    "jupyter": {
     "source_hidden": true
    },
    "tags": []
   },
   "outputs": [],
   "source": [
    "import spacy\n",
    "nlp = spacy.load(\"en_core_web_md\")\n",
    "nlp.max_length=10000000"
   ]
  },
  {
   "cell_type": "markdown",
   "id": "a80e2675-70c9-47bb-99d3-6db29f72d22d",
   "metadata": {
    "tags": []
   },
   "source": [
    "### HTML to TXT\n",
    "The HTML to TXT functions extract text from raw HTML files. "
   ]
  },
  {
   "cell_type": "code",
   "execution_count": 3,
   "id": "7ca2e8f0-a2fd-4bf7-8fef-f7a0e73b6afa",
   "metadata": {
    "jupyter": {
     "source_hidden": true
    },
    "tags": []
   },
   "outputs": [],
   "source": [
    "import re\n",
    "from bs4 import BeautifulSoup\n",
    "\n",
    "nlp = spacy.load(\"en_core_web_md\")\n",
    "\n",
    "# Reads an HTML file and returns a BeautifulSoup object\n",
    "def read_html_file(filename: str)->BeautifulSoup:\n",
    "    '''\n",
    "    Reads an HTML file and returns a BeautifulSoup object.\n",
    "    '''\n",
    "    with open(filename, 'r', encoding=\"utf-8\") as file:\n",
    "        soup: BeautifulSoup = BeautifulSoup(file, 'html.parser')\n",
    "    return soup\n",
    "\n",
    "\n",
    "def create_title(filepath: str)-> str:\n",
    "    \"\"\"Create a title for the text file from the html file name\"\"\"\n",
    "    path_list = filepath.split(\"/\")\n",
    "    title_list = path_list[-1].split(\".\")\n",
    "    title = title_list[0]\n",
    "    \n",
    "    # The first group of numbers is the year\n",
    "    year = re.findall(r\"\\d+\", title)[0]\n",
    "    # The second group of numbers is the file number\n",
    "    file_number = re.findall(r\"\\d+\", title)[1]\n",
    "    # The group of letters is the jurisdiction and court\n",
    "    jurisdiction = re.findall(r\"[a-z]+\", title)[0]\n",
    "    \n",
    "    if jurisdiction == \"canlii\":\n",
    "        jurisdiction = \"CanLII\"\n",
    "        title = f\"{year} {jurisdiction} {file_number}\"\n",
    "    else:\n",
    "        title = f\"{year} {jurisdiction.upper()} {file_number}\"\n",
    " \n",
    "    return title\n",
    "\n",
    "\n",
    "def decision_paragraphs(filename: str)->tuple:\n",
    "    '''\n",
    "    Extracts the decision paragraphs. The decision text\n",
    "    is contained in the <div class=\"paragWrapper\"> tags. This function extracts\n",
    "    the text from these tags and appends it to a list.\n",
    "    '''\n",
    "    \n",
    "    decision = read_html_file(filename)\n",
    "    \n",
    "    # Find the first and last instances of the \"paragWrapper\" div\n",
    "    first_div = decision.find(\"div\", class_=\"paragWrapper\")\n",
    "    last_div = decision.find_all(\"div\", class_=\"paragWrapper\")[-1]\n",
    "\n",
    "    paragraphs = []\n",
    "    footnotes = []\n",
    "\n",
    "    # Iterate over all siblings between the first and last instances of the \"paragWrapper\" div\n",
    "    sibling = first_div\n",
    "    paragraphs.append(first_div)\n",
    "    while sibling != last_div:\n",
    "        sibling = sibling.find_next_sibling()\n",
    "        paragraphs.append(sibling)\n",
    "        \n",
    "    # Finds and appends footnotes where applicable\n",
    "    if decision.find(\"SPAN\", class_=\"MsoFootnoteReference\"):\n",
    "        decision_footnotes(decision)\n",
    "        \n",
    "    return paragraphs, footnotes\n",
    "\n",
    "\n",
    "def decision_footnotes(decision: str)->list:\n",
    "    '''\n",
    "    Generates a list of footnotes in decisions containing them.\n",
    "    '''\n",
    "    footnote = decision.find(\"SPAN\", class_=\"MsoFootnoteReference\")\n",
    "    footnotes.append(footnote)\n",
    "    while footnote.find_next_sibling(\"SPAN\", class_=\"MsoFootnoteReference\"):\n",
    "        footnote = footnote.find_next_sibling(\"SPAN\", class_=\"MsoFootnoteReference\")\n",
    "        footnotes.append(footnote)\n",
    "    \n",
    "    return footnotes\n",
    "\n",
    "\n",
    "def clean_text(paragraph: str, remove_para_nums: bool=False)->list:\n",
    "    '''\n",
    "    Returns text with problematic characters removed. These include paragraph\n",
    "    numbers enclosed in square brackets and superfluous periods after paragraph\n",
    "    and section pinpoints, as these can sometimes confuse the sentence \n",
    "    detectors.\n",
    "    '''\n",
    "    doc = nlp(paragraph)\n",
    "    try:\n",
    "        if remove_para_nums and paragraph[0] == \"[\" and paragraph[1].isdigit():\n",
    "            doc = re.sub(r\"\\[\\d+\\]\\s\", \"\", paragraph)\n",
    "            return nlp(doc)\n",
    "        else:\n",
    "            return doc\n",
    "    except:\n",
    "        pass\n",
    "\n",
    "\n",
    "def compile_decision_text(filename)->list:\n",
    "    '''\n",
    "    The aggregate function that runs the others.\n",
    "    '''\n",
    "    \n",
    "    decision = decision_paragraphs(filename)[0]\n",
    "    footnotes = decision_paragraphs(filename)[1]\n",
    "    clean_decision = []\n",
    "    clean_decision.append(filename)\n",
    "    \n",
    "    for paragraph in decision:\n",
    "        clean_decision.append(clean_text(paragraph.text))\n",
    "\n",
    "    for item in clean_decision:\n",
    "        try:\n",
    "            if len(item) == 0:\n",
    "                clean_decision.remove(item)\n",
    "        except:\n",
    "            pass\n",
    "        \n",
    "    if footnotes:\n",
    "        for footnote in footnotes:\n",
    "            decision.append(clean_text(footnote, False))\n",
    "    \n",
    "    return clean_decision\n"
   ]
  },
  {
   "cell_type": "code",
   "execution_count": 5,
   "id": "ffe59973-db07-4fc7-9a59-e09cf527bcb0",
   "metadata": {},
   "outputs": [
    {
     "ename": "IndexError",
     "evalue": "list index out of range",
     "output_type": "error",
     "traceback": [
      "\u001b[0;31m---------------------------------------------------------------------------\u001b[0m",
      "\u001b[0;31mIndexError\u001b[0m                                Traceback (most recent call last)",
      "\u001b[0;32m/tmp/ipykernel_55529/2714627255.py\u001b[0m in \u001b[0;36m<module>\u001b[0;34m\u001b[0m\n\u001b[1;32m      1\u001b[0m \u001b[0;32mfor\u001b[0m \u001b[0mcase\u001b[0m \u001b[0;32min\u001b[0m \u001b[0mscc_2022\u001b[0m\u001b[0;34m:\u001b[0m\u001b[0;34m\u001b[0m\u001b[0;34m\u001b[0m\u001b[0m\n\u001b[0;32m----> 2\u001b[0;31m     \u001b[0mcompile_decision_text\u001b[0m\u001b[0;34m(\u001b[0m\u001b[0mcase\u001b[0m\u001b[0;34m)\u001b[0m\u001b[0;34m\u001b[0m\u001b[0;34m\u001b[0m\u001b[0m\n\u001b[0m",
      "\u001b[0;32m/tmp/ipykernel_55529/3727323292.py\u001b[0m in \u001b[0;36mcompile_decision_text\u001b[0;34m(filename)\u001b[0m\n\u001b[1;32m    102\u001b[0m     '''\n\u001b[1;32m    103\u001b[0m \u001b[0;34m\u001b[0m\u001b[0m\n\u001b[0;32m--> 104\u001b[0;31m     \u001b[0mdecision\u001b[0m \u001b[0;34m=\u001b[0m \u001b[0mdecision_paragraphs\u001b[0m\u001b[0;34m(\u001b[0m\u001b[0mfilename\u001b[0m\u001b[0;34m)\u001b[0m\u001b[0;34m[\u001b[0m\u001b[0;36m0\u001b[0m\u001b[0;34m]\u001b[0m\u001b[0;34m\u001b[0m\u001b[0;34m\u001b[0m\u001b[0m\n\u001b[0m\u001b[1;32m    105\u001b[0m     \u001b[0mfootnotes\u001b[0m \u001b[0;34m=\u001b[0m \u001b[0mdecision_paragraphs\u001b[0m\u001b[0;34m(\u001b[0m\u001b[0mfilename\u001b[0m\u001b[0;34m)\u001b[0m\u001b[0;34m[\u001b[0m\u001b[0;36m1\u001b[0m\u001b[0;34m]\u001b[0m\u001b[0;34m\u001b[0m\u001b[0;34m\u001b[0m\u001b[0m\n\u001b[1;32m    106\u001b[0m     \u001b[0mclean_decision\u001b[0m \u001b[0;34m=\u001b[0m \u001b[0;34m[\u001b[0m\u001b[0;34m]\u001b[0m\u001b[0;34m\u001b[0m\u001b[0;34m\u001b[0m\u001b[0m\n",
      "\u001b[0;32m/tmp/ipykernel_55529/3727323292.py\u001b[0m in \u001b[0;36mdecision_paragraphs\u001b[0;34m(filename)\u001b[0m\n\u001b[1;32m     47\u001b[0m     \u001b[0;31m# Find the first and last instances of the \"paragWrapper\" div\u001b[0m\u001b[0;34m\u001b[0m\u001b[0;34m\u001b[0m\u001b[0m\n\u001b[1;32m     48\u001b[0m     \u001b[0mfirst_div\u001b[0m \u001b[0;34m=\u001b[0m \u001b[0mdecision\u001b[0m\u001b[0;34m.\u001b[0m\u001b[0mfind\u001b[0m\u001b[0;34m(\u001b[0m\u001b[0;34m\"div\"\u001b[0m\u001b[0;34m,\u001b[0m \u001b[0mclass_\u001b[0m\u001b[0;34m=\u001b[0m\u001b[0;34m\"paragWrapper\"\u001b[0m\u001b[0;34m)\u001b[0m\u001b[0;34m\u001b[0m\u001b[0;34m\u001b[0m\u001b[0m\n\u001b[0;32m---> 49\u001b[0;31m     \u001b[0mlast_div\u001b[0m \u001b[0;34m=\u001b[0m \u001b[0mdecision\u001b[0m\u001b[0;34m.\u001b[0m\u001b[0mfind_all\u001b[0m\u001b[0;34m(\u001b[0m\u001b[0;34m\"div\"\u001b[0m\u001b[0;34m,\u001b[0m \u001b[0mclass_\u001b[0m\u001b[0;34m=\u001b[0m\u001b[0;34m\"paragWrapper\"\u001b[0m\u001b[0;34m)\u001b[0m\u001b[0;34m[\u001b[0m\u001b[0;34m-\u001b[0m\u001b[0;36m1\u001b[0m\u001b[0;34m]\u001b[0m\u001b[0;34m\u001b[0m\u001b[0;34m\u001b[0m\u001b[0m\n\u001b[0m\u001b[1;32m     50\u001b[0m \u001b[0;34m\u001b[0m\u001b[0m\n\u001b[1;32m     51\u001b[0m     \u001b[0mparagraphs\u001b[0m \u001b[0;34m=\u001b[0m \u001b[0;34m[\u001b[0m\u001b[0;34m]\u001b[0m\u001b[0;34m\u001b[0m\u001b[0;34m\u001b[0m\u001b[0m\n",
      "\u001b[0;31mIndexError\u001b[0m: list index out of range"
     ]
    }
   ],
   "source": [
    "for case in scc_2022:\n",
    "    compile_decision_text(case)"
   ]
  },
  {
   "cell_type": "markdown",
   "id": "d7825f68-7a8e-45e4-8957-7966bf7f8534",
   "metadata": {
    "tags": []
   },
   "source": [
    "### TXT to file\n",
    "The next set of functions sort and save the newly-created text files."
   ]
  },
  {
   "cell_type": "code",
   "execution_count": 4,
   "id": "d2e8b200-5e8c-4611-bcaf-890559190b05",
   "metadata": {
    "jupyter": {
     "source_hidden": true
    },
    "tags": []
   },
   "outputs": [],
   "source": [
    "def html_path_to_txt(filename: str) -> str:\n",
    "    file_path_list = filename.split(\"/\")\n",
    "    del file_path_list[2]\n",
    "    file_path_list.insert(2,\"txt\")\n",
    "    save_path = \"/\".join(file_path_list)\n",
    "    \n",
    "    save_path_corrected = save_path.split(\".\")\n",
    "    del save_path_corrected[-1]\n",
    "    save_path_corrected.append(\"txt\")\n",
    "    save_path_corrected = \".\".join(save_path_corrected)\n",
    "    \n",
    "    return save_path_corrected\n",
    "\n",
    "def export_to_file(clean_decision: list, filename: str):\n",
    "    '''\n",
    "    Saves a copy of the cleaned decision text to file.\n",
    "    '''\n",
    "    save_path_corrected = html_path_to_txt(filename)    \n",
    "    with open(save_path_corrected, \"w\") as f:\n",
    "        for paragraph in clean_decision:\n",
    "            try:\n",
    "                f.write(paragraph + \"\\n\")\n",
    "            except:\n",
    "                if paragraph:\n",
    "                    f.write(paragraph.text + \"\\n\")\n",
    "    \n",
    "    print(f\"Wrote {save_path_corrected}\")\n",
    "\n",
    "def export_all(jurisdiction_list: list):\n",
    "    '''\n",
    "    Takes file paths from the jurisdiction list and exports them to text en\n",
    "    masse.\n",
    "    '''\n",
    "    for court_list in jurisdiction_list:\n",
    "        for decision in court_list:\n",
    "            decision_text = compile_decision_text(decision)\n",
    "            decision_text_file = export_to_file(decision_text, decision)\n",
    "            "
   ]
  },
  {
   "cell_type": "markdown",
   "id": "32523006-75aa-4810-96a3-874d4c373df7",
   "metadata": {
    "tags": []
   },
   "source": [
    "### Text post-processing"
   ]
  },
  {
   "cell_type": "markdown",
   "id": "58044a71-01c1-427c-8736-56eed16eaca9",
   "metadata": {
    "tags": []
   },
   "source": [
    "#### Correcting fixed-width paragraphs\n",
    "Some of the HTML files converted to text were written with line breaks inside paragraph tags. When extracted, these line breaks make their way into the text files. These functions correct the affected files so that they can be more easily loaded into text classifier and NER functions later on. The correct_split_paragraphs function solves this problem by iterating through these files, removing intra-paragraph line breaks, and separating each newly-merged paragraph from the next with a single line space.\n",
    "\n",
    "HTML files susceptible to this problem are known to occur in the following jurisdiction lists:\n",
    "\n"
   ]
  },
  {
   "cell_type": "markdown",
   "id": "b5380571-7ad0-4cf0-a06e-a9360e73427d",
   "metadata": {
    "tags": []
   },
   "source": [
    "##### British Columbia\n",
    "* BCCA\n",
    "* BSCS\n",
    "* BCPC\n",
    "\n",
    "##### Saskatchewan\n",
    "* SKCA\n",
    "* SKKB\n",
    "* SKPC\n",
    "\n",
    "##### Manitoba\n",
    "* MBCA\n",
    "* MBKB\n",
    "\n",
    "##### Ontario\n",
    "* ONSC\n",
    "* ONCJ\n",
    "\n",
    "##### Quebec\n",
    "* QCCA\n",
    "* QCCQ\n",
    "\n",
    "##### New Brunswick\n",
    "* NBCA\n",
    "* NBPC\n",
    "\n",
    "##### Prince Edward Island\n",
    "* PESC\n",
    "\n",
    "##### Newfoundland & Labrador\n",
    "* NLSC\n",
    "* NLPC\n",
    "\n",
    "##### Yukon\n",
    "* YKTC\n"
   ]
  },
  {
   "cell_type": "code",
   "execution_count": 5,
   "id": "3a270813-05c9-4a11-9be2-04b9fd167b66",
   "metadata": {
    "jupyter": {
     "source_hidden": true
    },
    "tags": []
   },
   "outputs": [],
   "source": [
    "split_line_jurisdictions = [\"bcca\", \"bcsc\", \"bcpc\",\n",
    "                            \"skca\", \"skkb\", \"skpc\",\n",
    "                            \"mbca\", \"mbkb\",\n",
    "                            \"onsc\", \"oncj\",\n",
    "                            \"qcca\", \"qccq\",\n",
    "                            \"nbca\", \"nbpc\",\n",
    "                            \"pesc\",\n",
    "                            \"nlsc\", \"nlpc\",\n",
    "                            \"yktc\",]\n",
    "\n",
    "def create_split_lines():\n",
    "    '''\n",
    "    This function recreates the split line decisions.\n",
    "    '''\n",
    "    for jurisdiction in split_line_jurisdictions:\n",
    "        if jurisdiction in completed:\n",
    "            file_paths = completed[jurisdiction]\n",
    "            for file_path in file_paths:\n",
    "                clean_decision = compile_decision_text(file_path)\n",
    "                export_to_file(clean_decision, file_path)\n",
    "                print(f\"Wrote {file_path}\")\n",
    "\n",
    "def correct_split_paragraphs():\n",
    "\n",
    "    for jurisdiction in split_line_jurisdictions:\n",
    "        if jurisdiction in completed:\n",
    "            file_paths = completed[jurisdiction]\n",
    "            for file_path in file_paths:\n",
    "                text_file_path = html_path_to_txt(file_path)\n",
    "                \n",
    "                with open(text_file_path, 'r') as f:\n",
    "                    text = f.read()\n",
    "                \n",
    "                text = re.sub(r'(\\S)\\n(\\S)', r'\\1 \\2', text)\n",
    "                text = re.sub(r'\\n{2,}', '\\n', text)\n",
    "                \n",
    "                with open(text_file_path, 'w') as f:\n",
    "                    f.write(text)\n",
    "                    print(f\"Wrote {text_file_path}\")\n"
   ]
  },
  {
   "cell_type": "code",
   "execution_count": 204,
   "id": "5221a8eb-dcff-4a2a-a8f6-167a4f56e4d0",
   "metadata": {},
   "outputs": [],
   "source": [
    "#create_split_lines()\n",
    "#correct_split_paragraphs()"
   ]
  },
  {
   "cell_type": "markdown",
   "id": "265d6c1a-e23c-43c7-8cb2-b84bb4892965",
   "metadata": {
    "tags": []
   },
   "source": [
    "### Corpus construction\n",
    "Once the data is cleaned up, sorted out, and saved to file it needs to be added to the common corpus."
   ]
  },
  {
   "cell_type": "markdown",
   "id": "5058e5a7-513d-4d6a-ace3-d1487a8f63f6",
   "metadata": {
    "tags": []
   },
   "source": [
    "#### File amalgamation\n",
    "Reads disparate file contents into a single text file. The amalgamation is broken up into five different regions, as the full version was unwieldy on the equipment I tried compiling it on."
   ]
  },
  {
   "cell_type": "code",
   "execution_count": 29,
   "id": "4b8c8167-38ec-4452-99dc-518bb97906e5",
   "metadata": {
    "jupyter": {
     "source_hidden": true
    },
    "tags": []
   },
   "outputs": [],
   "source": [
    "# Federal\n",
    "directory_federal = [\"./canlii_crim_corpus/txt/2023/ca/scc\"]\n",
    "\n",
    "corpus_federal = \"./canlii_crim_corpus/canlii_crim_corpus_2023_01_fed.txt\"\n",
    "\n",
    "# Western Canada\n",
    "directories_west = [\"./canlii_crim_corpus/txt/2023/bc/ca\",\n",
    "                    \"./canlii_crim_corpus/txt/2023/bc/sc\",\n",
    "                    \"./canlii_crim_corpus/txt/2023/bc/pc\",\n",
    "                    \"./canlii_crim_corpus/txt/2023/ab/ca\",\n",
    "                    \"./canlii_crim_corpus/txt/2023/ab/kb\",\n",
    "                    \"./canlii_crim_corpus/txt/2023/ab/pc\",\n",
    "                    \"./canlii_crim_corpus/txt/2023/mb/ca\",\n",
    "                    \"./canlii_crim_corpus/txt/2023/mb/kb\",\n",
    "                    \"./canlii_crim_corpus/txt/2023/mb/pc\",]\n",
    "\n",
    "corpus_west = \"./canlii_crim_corpus/canlii_crim_corpus_2023_01_west.txt\"\n",
    "\n",
    "# Northern Canada\n",
    "directories_north = [\"./canlii_crim_corpus/txt/2023/yk/ca\",\n",
    "                     \"./canlii_crim_corpus/txt/2023/yk/sc\",\n",
    "                     \"./canlii_crim_corpus/txt/2023/yk/tc\",\n",
    "                     \"./canlii_crim_corpus/txt/2023/nt/ca\",\n",
    "                     \"./canlii_crim_corpus/txt/2023/nt/sc\",\n",
    "                     \"./canlii_crim_corpus/txt/2023/nt/tc\",\n",
    "                     \"./canlii_crim_corpus/txt/2023/nu/ca\",\n",
    "                     \"./canlii_crim_corpus/txt/2023/nu/cj\",]\n",
    "\n",
    "corpus_north = \"./canlii_crim_corpus/canlii_crim_corpus_2023_01_north.txt\"\n",
    "\n",
    "# Central Canada\n",
    "directories_central = [\"./canlii_crim_corpus/txt/2023/on/ca\",\n",
    "                       \"./canlii_crim_corpus/txt/2023/on/sc\",\n",
    "                       \"./canlii_crim_corpus/txt/2023/on/cj\",]\n",
    "\n",
    "corpus_central = \"./canlii_crim_corpus/canlii_crim_corpus_2023_01_central.txt\"\n",
    "\n",
    "# Eastrn Canada\n",
    "directories_east = [\"./canlii_crim_corpus/txt/2023/qc/ca\",\n",
    "                    \"./canlii_crim_corpus/txt/2023/qc/cs\",\n",
    "                    \"./canlii_crim_corpus/txt/2023/qc/cq\",\n",
    "                    \"./canlii_crim_corpus/txt/2023/nb/ca\",\n",
    "                    \"./canlii_crim_corpus/txt/2023/nb/kb\",\n",
    "                    \"./canlii_crim_corpus/txt/2023/nb/pc\",\n",
    "                    \"./canlii_crim_corpus/txt/2023/ns/ca\",\n",
    "                    \"./canlii_crim_corpus/txt/2023/ns/sc\",\n",
    "                    \"./canlii_crim_corpus/txt/2023/ns/pc\",\n",
    "                    \"./canlii_crim_corpus/txt/2023/pe/ca\",\n",
    "                    \"./canlii_crim_corpus/txt/2023/pe/sc\",\n",
    "                    \"./canlii_crim_corpus/txt/2023/pe/pc\",\n",
    "                    \"./canlii_crim_corpus/txt/2023/nl/ca\",\n",
    "                    \"./canlii_crim_corpus/txt/2023/nl/sc\",\n",
    "                    \"./canlii_crim_corpus/txt/2023/nl/pc\",]\n",
    "\n",
    "corpus_east = \"./canlii_crim_corpus/canlii_crim_corpus_2023_01_central.txt\"\n",
    "\n",
    "# Full corpus\n",
    "directories = [\"./canlii_crim_corpus/txt/2023/bc/ca\",\n",
    "               \"./canlii_crim_corpus/txt/2023/bc/sc\",\n",
    "               \"./canlii_crim_corpus/txt/2023/bc/pc\",\n",
    "               \"./canlii_crim_corpus/txt/2023/ab/ca\",\n",
    "               \"./canlii_crim_corpus/txt/2023/ab/kb\",\n",
    "               \"./canlii_crim_corpus/txt/2023/ab/pc\",\n",
    "               \"./canlii_crim_corpus/txt/2023/mb/ca\",\n",
    "               \"./canlii_crim_corpus/txt/2023/mb/kb\",\n",
    "               \"./canlii_crim_corpus/txt/2023/mb/pc\",\n",
    "               \"./canlii_crim_corpus/txt/2023/on/ca\",\n",
    "               \"./canlii_crim_corpus/txt/2023/on/sc\",\n",
    "               \"./canlii_crim_corpus/txt/2023/on/cj\",\n",
    "               \"./canlii_crim_corpus/txt/2023/qc/ca\",\n",
    "               \"./canlii_crim_corpus/txt/2023/qc/cs\",\n",
    "               \"./canlii_crim_corpus/txt/2023/qc/cq\",\n",
    "               \"./canlii_crim_corpus/txt/2023/nb/ca\",\n",
    "               \"./canlii_crim_corpus/txt/2023/nb/kb\",\n",
    "               \"./canlii_crim_corpus/txt/2023/nb/pc\",\n",
    "               \"./canlii_crim_corpus/txt/2023/ns/ca\",\n",
    "               \"./canlii_crim_corpus/txt/2023/ns/sc\",\n",
    "               \"./canlii_crim_corpus/txt/2023/ns/pc\",\n",
    "               \"./canlii_crim_corpus/txt/2023/pe/ca\",\n",
    "               \"./canlii_crim_corpus/txt/2023/pe/sc\",\n",
    "               \"./canlii_crim_corpus/txt/2023/pe/pc\",\n",
    "               \"./canlii_crim_corpus/txt/2023/nl/ca\",\n",
    "               \"./canlii_crim_corpus/txt/2023/nl/sc\",\n",
    "               \"./canlii_crim_corpus/txt/2023/nl/pc\",\n",
    "               \"./canlii_crim_corpus/txt/2023/yk/ca\",\n",
    "               \"./canlii_crim_corpus/txt/2023/yk/sc\",\n",
    "               \"./canlii_crim_corpus/txt/2023/yk/tc\",\n",
    "               \"./canlii_crim_corpus/txt/2023/nt/ca\",\n",
    "               \"./canlii_crim_corpus/txt/2023/nt/sc\",\n",
    "               \"./canlii_crim_corpus/txt/2023/nt/tc\",\n",
    "               \"./canlii_crim_corpus/txt/2023/nu/ca\",\n",
    "               \"./canlii_crim_corpus/txt/2023/nu/cj\",\n",
    "              ]\n",
    "\n",
    "corpus_file_full = \"./canlii_crim_corpus/canlii_crim_corpus_2023_01_full.txt\"\n"
   ]
  },
  {
   "cell_type": "code",
   "execution_count": 3,
   "id": "2a6876bf-84bc-442c-b756-691b6971995a",
   "metadata": {
    "jupyter": {
     "source_hidden": true
    },
    "tags": []
   },
   "outputs": [],
   "source": [
    "import os\n",
    "\n",
    "def generate_corpus(directories: list, corpus_file: str):\n",
    "    '''\n",
    "    Amalgamates the processed text files into a single corpus. Individual \n",
    "    decisions can still be distinguished by their file path in the corpus file\n",
    "    proper.\n",
    "    '''\n",
    "    contents = \"\"\n",
    "\n",
    "    for directory in directories:\n",
    "        for filename in os.listdir(directory):\n",
    "            # check if the file is a text file\n",
    "            if filename.endswith(\".txt\"):\n",
    "                # open the text file\n",
    "                with open(os.path.join(directory, filename), \"r\") as file:\n",
    "                    # read the contents of the text file\n",
    "                    file_contents = file.read()\n",
    "                    # add the contents of the text file to the contents string\n",
    "                    contents += file_contents\n",
    "    \n",
    "    if os.path.exists(corpus_file):\n",
    "        os.remove(corpus_file)\n",
    "    \n",
    "    with open(corpus_file, \"w\") as outfile:\n",
    "        outfile.write(contents)\n",
    "        print(f\"Wrote the corpus to {corpus_file}\")\n"
   ]
  },
  {
   "cell_type": "code",
   "execution_count": 30,
   "id": "abafa6a7-a433-488b-86ef-08e80e6ade77",
   "metadata": {},
   "outputs": [
    {
     "name": "stdout",
     "output_type": "stream",
     "text": [
      "Wrote the corpus to ./canlii_crim_corpus/canlii_crim_corpus_2023_01_fed.txt\n"
     ]
    }
   ],
   "source": [
    "generate_corpus(directory_federal, corpus_federal)"
   ]
  },
  {
   "cell_type": "markdown",
   "id": "e82f9531-7760-4717-9204-809c6204f3f4",
   "metadata": {
    "tags": []
   },
   "source": [
    "#### Tokenization\n",
    "Once the corpora are properly assembled into text files, the next step is to tokenize them so that they can be examined using spaCy."
   ]
  },
  {
   "cell_type": "code",
   "execution_count": null,
   "id": "69528d81-0704-4387-9c4e-bc68a8f95a69",
   "metadata": {
    "jupyter": {
     "source_hidden": true
    },
    "tags": []
   },
   "outputs": [],
   "source": [
    "with open(corpus_federal, \"r\") as f:\n",
    "    text = f.read()\n",
    "    doc = nlp(text)"
   ]
  },
  {
   "cell_type": "code",
   "execution_count": null,
   "id": "1eb00473-4dda-4a6e-9105-470c38abcaa0",
   "metadata": {
    "jupyter": {
     "source_hidden": true
    },
    "tags": []
   },
   "outputs": [],
   "source": [
    "with open(\"./canlii_crim_corpus/canlii_crim_corpus_2023_01_west_n.bin\", \"wb\") as file:\n",
    "    file.write(doc.to_bytes())"
   ]
  },
  {
   "cell_type": "markdown",
   "id": "dfc82b7f-e4e2-41e0-8ad8-ef30479f3145",
   "metadata": {
    "tags": []
   },
   "source": [
    "## Feature extraction"
   ]
  },
  {
   "cell_type": "markdown",
   "id": "c7e7c57e-5b52-4188-b449-dfae71f9e9ef",
   "metadata": {},
   "source": [
    "### Citations\n",
    "\n",
    "Citations are an important part of a reported case. They signify *stare decisis*, and in **most** cases imply that the words or axioms cited are true and authoritative. Identifying citations inside a reported case is a key step to understanding its internal logic. And because citations are lexicgraphically distinct from all other tokens in a reported decision, they make for a good subject for early experiments with named entity recognition (NER).\n"
   ]
  },
  {
   "cell_type": "markdown",
   "id": "5d017856-73f5-4fdb-8234-32bfb8903c7c",
   "metadata": {},
   "source": [
    "#### ner_citations_v1\n",
    "\n",
    "Version 1 uses three labels to identify citations as **case citations**, **statute citations**, or **other citations** (books, journal articles, factums, etc.). It treats full citations and citation fragments as fundamentally the same entities.\n",
    "\n",
    "##### Labels\n",
    "\n",
    "* CASE_CITATION\n",
    "* STATUTE_CITATION\n",
    "* OTHER_CITATION\n",
    "\n",
    "##### Corpus\n",
    "\n",
    "* [canlii_crim_corpus_2023_01_west_n.txt](canlii_crim_corpus/canlii_crim_corpus_2023_01_west_n.txt)\n",
    "* Same as [canlii_crim_corpus_2023_01_west.txt](canlii_crim_corpus/canlii_crim_corpus_2023_01_west.txt), but with some manual formatting\n",
    "\n",
    "##### Sample size & dimensions\n",
    "\n",
    "* Size: 1468 lines/paragraphs\n",
    "* Cases used:\n",
    "  * *R v Campbell*, 2023 BCCA 19\n",
    "  * *R v Kehoe*, 2023 BCCA 2\n",
    "  * *R v Zsombor*, 2023 BCCA 37\n",
    "  * *R v Kooner*, 2023 BCCA 8\n",
    "  * *R v Mohsenipour*, 2023 BCCA 6\n",
    "  * *R v Wilkinson*, 2023 BCCA 3\n",
    "  * *R v PRJ*, 2023 BCCA 13\n",
    "  * *R v Armstrong*, 2023 BCCA 50\n",
    "  * *R v Clayton*, 2023 BCCA 33\n",
    "  * *R v Prins*, 2023 BCCA 4\n",
    "  * *R v Richardson*, 2023 BCCA 29 \n",
    "  \n",
    "##### Efficacy\n",
    "\n",
    "The model claims accuracy scores up to 82% after training on just under 1500 cases consisting of about 82,350 words. Field accuracy leaves much to be desired, though, as the model has a great deal of difficulty correctly identifying citation fragments (eg. \"at para 34\", \"p. 708\", etc).\n",
    "\n",
    "The sample output is from a case I argued a few years back. \n"
   ]
  },
  {
   "cell_type": "markdown",
   "id": "a95a22a8-2b44-4b36-940a-0f6dd523ee97",
   "metadata": {},
   "source": [
    "#### span_citations_min_v1\n"
   ]
  },
  {
   "cell_type": "code",
   "execution_count": null,
   "id": "69d62a66-54c4-4b90-870c-d18b2cca0e4c",
   "metadata": {},
   "outputs": [],
   "source": []
  },
  {
   "cell_type": "code",
   "execution_count": 1,
   "id": "ed2d2af1-8b15-47ef-b420-0640b10b94ee",
   "metadata": {},
   "outputs": [],
   "source": [
    "import spacy\n",
    "from spacy import displacy"
   ]
  },
  {
   "cell_type": "code",
   "execution_count": 6,
   "id": "d66c5228-5d2c-4659-9c90-aa699f39b7b3",
   "metadata": {},
   "outputs": [],
   "source": [
    "with open(\"./data/training_data/2022scc.txt\") as file:\n",
    "    sample_decision = file.read()"
   ]
  },
  {
   "cell_type": "code",
   "execution_count": null,
   "id": "a3c1183d-dbb3-4bcb-8e40-030e99c7869b",
   "metadata": {
    "tags": []
   },
   "outputs": [],
   "source": [
    "# Sample v1 output\n",
    "\n",
    "nlp = spacy.load(\"./models/ner_legislation_min_v1//model-last/\")\n",
    "nlp.max_length = 5000000\n",
    "doc = nlp(sample_decision)\n",
    "\n",
    "#displacy.render(doc, style='ent')\n",
    "\n",
    "from apps.analytic_functions import retrieve_citations\n",
    "\n",
    "retrieve_citations(sample_decision)"
   ]
  },
  {
   "cell_type": "markdown",
   "id": "99437ad5-de5b-470b-b6a3-6176c2b6dabd",
   "metadata": {},
   "source": [
    "## Model development"
   ]
  },
  {
   "cell_type": "markdown",
   "id": "d0a03ce7-4d29-4708-a448-1615eb53f63f",
   "metadata": {
    "tags": []
   },
   "source": [
    "#### ner_citations_v2\n",
    "\n",
    "V2 uses ten labels to describe the same three general citation classes as V1. It treats full citations and citation fragments as different entities.\n",
    "\n",
    "##### Lables\n",
    "\n",
    "* Cases\n",
    "    * CASE_CITATION\n",
    "    * CASE_PINPOINT\n",
    "    * CASE_SHORTFORM\n",
    "    * CASE_HISTORY\n",
    "* Statutes\n",
    "    * STATUTE_CITATION\n",
    "    * STATUTE_PINPOINT\n",
    "    * STATUTE_SHORTFORM\n",
    "* Other\n",
    "    * OTHER_CITATION\n",
    "    * OTHER_PINPOINT\n",
    "    * OTHER_SHORTFORM\n",
    "    \n",
    "##### Efficacy\n",
    "\n",
    "The model began claiming accuracy scores up to 83% after training on just a few hundred paragraphs, and was more accurate on random unlabelled samples than the more fully-trained V1."
   ]
  },
  {
   "cell_type": "code",
   "execution_count": null,
   "id": "e012d991-fb4b-4486-b32a-f404fa12495b",
   "metadata": {
    "collapsed": true,
    "jupyter": {
     "outputs_hidden": true
    },
    "tags": []
   },
   "outputs": [
    {
     "ename": "ValueError",
     "evalue": "[E030] Sentence boundaries unset. You can add the 'sentencizer' component to the pipeline with: `nlp.add_pipe('sentencizer')`. Alternatively, add the dependency parser or sentence recognizer, or set sentence boundaries by setting `doc[i].is_sent_start`.",
     "output_type": "error",
     "traceback": [
      "\u001b[0;31m---------------------------------------------------------------------------\u001b[0m",
      "\u001b[0;31mValueError\u001b[0m                                Traceback (most recent call last)",
      "\u001b[0;32m/tmp/ipykernel_12298/497719562.py\u001b[0m in \u001b[0;36m<module>\u001b[0;34m\u001b[0m\n\u001b[1;32m      5\u001b[0m \u001b[0mnlp\u001b[0m \u001b[0;34m=\u001b[0m \u001b[0mspacy\u001b[0m\u001b[0;34m.\u001b[0m\u001b[0mload\u001b[0m\u001b[0;34m(\u001b[0m\u001b[0;34m\"./models/texcat_firac_v1/model-last/\"\u001b[0m\u001b[0;34m)\u001b[0m\u001b[0;34m\u001b[0m\u001b[0;34m\u001b[0m\u001b[0m\n\u001b[1;32m      6\u001b[0m \u001b[0mdoc\u001b[0m \u001b[0;34m=\u001b[0m \u001b[0mnlp\u001b[0m\u001b[0;34m(\u001b[0m\u001b[0msample_decision\u001b[0m\u001b[0;34m)\u001b[0m\u001b[0;34m\u001b[0m\u001b[0;34m\u001b[0m\u001b[0m\n\u001b[0;32m----> 7\u001b[0;31m \u001b[0msentences\u001b[0m \u001b[0;34m=\u001b[0m \u001b[0;34m[\u001b[0m\u001b[0msent\u001b[0m\u001b[0;34m.\u001b[0m\u001b[0mtext\u001b[0m \u001b[0;32mfor\u001b[0m \u001b[0msent\u001b[0m \u001b[0;32min\u001b[0m \u001b[0mdoc\u001b[0m\u001b[0;34m.\u001b[0m\u001b[0msents\u001b[0m\u001b[0;34m]\u001b[0m\u001b[0;34m\u001b[0m\u001b[0;34m\u001b[0m\u001b[0m\n\u001b[0m\u001b[1;32m      8\u001b[0m \u001b[0;32mfor\u001b[0m \u001b[0msentence\u001b[0m \u001b[0;32min\u001b[0m \u001b[0msentences\u001b[0m\u001b[0;34m:\u001b[0m\u001b[0;34m\u001b[0m\u001b[0;34m\u001b[0m\u001b[0m\n\u001b[1;32m      9\u001b[0m     \u001b[0mprint\u001b[0m\u001b[0;34m(\u001b[0m\u001b[0msentence\u001b[0m\u001b[0;34m.\u001b[0m\u001b[0mcats\u001b[0m\u001b[0;34m)\u001b[0m\u001b[0;34m\u001b[0m\u001b[0;34m\u001b[0m\u001b[0m\n",
      "\u001b[0;32m/tmp/ipykernel_12298/497719562.py\u001b[0m in \u001b[0;36m<listcomp>\u001b[0;34m(.0)\u001b[0m\n\u001b[1;32m      5\u001b[0m \u001b[0mnlp\u001b[0m \u001b[0;34m=\u001b[0m \u001b[0mspacy\u001b[0m\u001b[0;34m.\u001b[0m\u001b[0mload\u001b[0m\u001b[0;34m(\u001b[0m\u001b[0;34m\"./models/texcat_firac_v1/model-last/\"\u001b[0m\u001b[0;34m)\u001b[0m\u001b[0;34m\u001b[0m\u001b[0;34m\u001b[0m\u001b[0m\n\u001b[1;32m      6\u001b[0m \u001b[0mdoc\u001b[0m \u001b[0;34m=\u001b[0m \u001b[0mnlp\u001b[0m\u001b[0;34m(\u001b[0m\u001b[0msample_decision\u001b[0m\u001b[0;34m)\u001b[0m\u001b[0;34m\u001b[0m\u001b[0;34m\u001b[0m\u001b[0m\n\u001b[0;32m----> 7\u001b[0;31m \u001b[0msentences\u001b[0m \u001b[0;34m=\u001b[0m \u001b[0;34m[\u001b[0m\u001b[0msent\u001b[0m\u001b[0;34m.\u001b[0m\u001b[0mtext\u001b[0m \u001b[0;32mfor\u001b[0m \u001b[0msent\u001b[0m \u001b[0;32min\u001b[0m \u001b[0mdoc\u001b[0m\u001b[0;34m.\u001b[0m\u001b[0msents\u001b[0m\u001b[0;34m]\u001b[0m\u001b[0;34m\u001b[0m\u001b[0;34m\u001b[0m\u001b[0m\n\u001b[0m\u001b[1;32m      8\u001b[0m \u001b[0;32mfor\u001b[0m \u001b[0msentence\u001b[0m \u001b[0;32min\u001b[0m \u001b[0msentences\u001b[0m\u001b[0;34m:\u001b[0m\u001b[0;34m\u001b[0m\u001b[0;34m\u001b[0m\u001b[0m\n\u001b[1;32m      9\u001b[0m     \u001b[0mprint\u001b[0m\u001b[0;34m(\u001b[0m\u001b[0msentence\u001b[0m\u001b[0;34m.\u001b[0m\u001b[0mcats\u001b[0m\u001b[0;34m)\u001b[0m\u001b[0;34m\u001b[0m\u001b[0;34m\u001b[0m\u001b[0m\n",
      "\u001b[0;32m~/.local/lib/python3.10/site-packages/spacy/tokens/doc.pyx\u001b[0m in \u001b[0;36msents\u001b[0;34m()\u001b[0m\n",
      "\u001b[0;31mValueError\u001b[0m: [E030] Sentence boundaries unset. You can add the 'sentencizer' component to the pipeline with: `nlp.add_pipe('sentencizer')`. Alternatively, add the dependency parser or sentence recognizer, or set sentence boundaries by setting `doc[i].is_sent_start`."
     ]
    }
   ],
   "source": [
    "# Sample v2 output\n",
    "\n",
    "nlp = spacy.load(\"./models/ner_citations_v2/model-last/\")\n",
    "doc = nlp(sample_decision)\n",
    "displacy.render(doc, style='ent')"
   ]
  },
  {
   "cell_type": "markdown",
   "id": "2f37a01c-bb79-4381-b64f-10144fc69fee",
   "metadata": {},
   "source": [
    "### Text classification"
   ]
  },
  {
   "cell_type": "markdown",
   "id": "1420f0dc-8df5-4a06-b62c-2ebbabea4e65",
   "metadata": {
    "tags": []
   },
   "source": [
    "#### textcat_firac_v1"
   ]
  },
  {
   "cell_type": "markdown",
   "id": "46fecb44-1a4a-4502-9338-eaa4c13ba5dd",
   "metadata": {},
   "source": [
    "The methodology for text classification should comply with the following guidelines:\n",
    "\n",
    "##### **General**\n",
    "* Classify sentences, not whole paragraphs\n",
    "* The fewer labels, the better\n",
    "  * Try to stick with just one label per text block to the extent possible\n",
    "  * Anything more than two labels needs an explanation\n",
    "\n",
    "##### **Facts**\n",
    "* Any fact of factual finding related to an appeal issue\n",
    "  * May include procedural history where prior procedural events are a direct appellate issue (eg, ineffective assistance of counsel)\n",
    "\n",
    "##### *History*\n",
    "* (Procedural) History is a factual subset\n",
    "* This category covers the proceedings at trial and any subsequent appeals\n",
    "* Separating this category from **Facts** right off the bat will make for more economic factual summaries, as procedural history generally isn't relevant to an appeal issue\n",
    "\n",
    "##### **Issue**\n",
    "* The questions that the decision answers\n",
    "* These roughly correspond to the arguments one would define in argdown\n",
    "* Issues can be tricky to spot, as they are often phrased in their argumentative form\n",
    "  * Eg, The argument \"the defendant argues his detention was unlawful\" corresponds to the issue \"Was the defendant's detention unlawful?\"\n",
    "\n",
    "##### **Rule**\n",
    "* Axioms, legal tests, statutetory provisions and definitions\n",
    "* A rule should either be a major premise or readily capable of being translated into one\n",
    "\n",
    "##### **Analysis**\n",
    "- Parties' submissions at the appeal\n",
    "- Facts and decisions in cited cases\n",
    "- Court's opinion on the facts, history, and submissions\n",
    "\n",
    "##### **Conclusion**\n",
    "* Argument conclusions and issue resolutions\n",
    "* Dispositions"
   ]
  },
  {
   "cell_type": "code",
   "execution_count": 66,
   "id": "bdbec54b-acb8-4cb1-bc0f-a8a04b963a0c",
   "metadata": {},
   "outputs": [
    {
     "name": "stdout",
     "output_type": "stream",
     "text": [
      "  In the final analysis, I find it unnecessary to deal with the issue of extraterritoriality to dispose of this appeal. CONCLUSION\n",
      "This is so because the CFNIS did not violate the Charter. ANALYSIS\n",
      "Working within the constraints of its authority in Virginia, the CFNIS sought the cooperation of local authorities to obtain and execute a warrant under Virginia law. CONCLUSION\n",
      "The warrant which issued authorized the search, seizure, and analysis of Cpl. FACTS\n",
      "McGregor’s electronic devices expressly. ANALYSIS\n",
      "The evidence of sexual assault was discovered inadvertently by the investigators in the process of triaging the devices at the scene of the search; its incriminating nature was immediately apparent. ANALYSIS\n",
      "Although the warrant did not contemplate such evidence, the digital files in issue fell squarely within the purview of the plain view doctrine. ANALYSIS\n",
      "Furthermore, the CFNIS obtained Canadian warrants before conducting an in‑depth analysis of these devices. ANALYSIS\n",
      "It is difficult to see how the CFNIS investigators could have acted differently to attain their legitimate investigative objectives. ANALYSIS\n",
      "I conclude that they did not infringe Cpl. HISTORY\n",
      "McGregor’s rights under s. 8 of the Charter. ANALYSIS\n"
     ]
    }
   ],
   "source": [
    "import spacy\n",
    "from spacy import displacy\n",
    "\n",
    "nlp = spacy.load(\"./models/texcat_firac_v1/model-last/\")\n",
    "nlp.add_pipe(\"sentencizer\")\n",
    "\n",
    "paragraph = \"  In the final analysis, I find it unnecessary to deal with the issue of extraterritoriality to dispose of this appeal. This is so because the CFNIS did not violate the Charter. Working within the constraints of its authority in Virginia, the CFNIS sought the cooperation of local authorities to obtain and execute a warrant under Virginia law. The warrant which issued authorized the search, seizure, and analysis of Cpl. McGregor’s electronic devices expressly. The evidence of sexual assault was discovered inadvertently by the investigators in the process of triaging the devices at the scene of the search; its incriminating nature was immediately apparent. Although the warrant did not contemplate such evidence, the digital files in issue fell squarely within the purview of the plain view doctrine. Furthermore, the CFNIS obtained Canadian warrants before conducting an in‑depth analysis of these devices. It is difficult to see how the CFNIS investigators could have acted differently to attain their legitimate investigative objectives. I conclude that they did not infringe Cpl. McGregor’s rights under s. 8 of the Charter.\"\n",
    "doc = nlp(paragraph)\n",
    "\n",
    "sentence_list = []\n",
    "for sentence in doc.sents:\n",
    "    sentence_list.append(sentence)\n",
    "    categories = nlp(sentence.text).cats\n",
    "    max_key = max(categories, key=lambda k: categories[k])\n",
    "    print(sentence, max_key)\n",
    "    \n"
   ]
  },
  {
   "cell_type": "markdown",
   "id": "450e99ee-5157-45cd-aba0-86a25245e79f",
   "metadata": {},
   "source": [
    "#### textcat_firac_v2"
   ]
  },
  {
   "cell_type": "markdown",
   "id": "7e10ad06-ce7c-4fe7-9bf3-2486948b27d3",
   "metadata": {},
   "source": [
    "The methodology for text classification should comply with the following guidelines:\n",
    "\n",
    "##### **General**\n",
    "* Classify sentences, not whole paragraphs\n",
    "* The fewer labels, the better\n",
    "  * Try to stick with just one label per text block to the extent possible\n",
    "  * Anything more than two labels needs an explanation\n",
    "\n",
    "##### **Facts**\n",
    "* Events occurring prior to a court's involvement are facts\n",
    "* Events occurring after a court gets involved are generally not facts\n",
    "\n",
    "##### *History*\n",
    "* (Procedural) History is a factual subset\n",
    "* This category covers the proceedings at trial and any subsequent appeals\n",
    "\n",
    "##### **Issue**\n",
    "* The questions that the decision answers\n",
    "* These roughly correspond to the arguments one would define in argdown\n",
    "* Issues can be tricky to spot, as they are often phrased in their argumentative form\n",
    "  * Eg, The argument \"the defendant argues his detention was unlawful\" corresponds to the issue \"Was the defendant's detention unlawful?\"\n",
    "  * The courts will sometimes answer an issue prior to properly raising it\n",
    "    * I label these issue/conclusion\n",
    "\n",
    "##### **Rule**\n",
    "* Axioms, legal tests, statutetory provisions and definitions\n",
    "* A rule should either be a major premise or readily capable of being translated into one\n",
    "\n",
    "##### **Analysis**\n",
    "- Parties' submissions at the appeal\n",
    "- Facts and decisions in cited cases\n",
    "- Court's opinion on the facts, history, and submissions\n",
    "\n",
    "##### **Conclusion**\n",
    "* Argument conclusions and issue resolutions\n",
    "* Dispositions"
   ]
  },
  {
   "cell_type": "code",
   "execution_count": 1,
   "id": "e74415c2-172c-4291-870f-9e69ed139ebb",
   "metadata": {},
   "outputs": [
    {
     "name": "stdout",
     "output_type": "stream",
     "text": [
      "Section 8 of the Charter guarantees “the right to be secure against unreasonable search or seizure”. PROCEDURE\n",
      "A search is reasonable within the meaning of s. 8 “if it is authorized by law, if the law itself is reasonable and if the manner in which the search was carried out is reasonable” (R. v. Collins, 1987 CanLII 84 (SCC), [1987] 1 S.C.R. 265, at p. 278; see also R. v. Caslake, 1998 CanLII 838 (SCC), [1998] 1 S.C.R. 51, at para. ANALYSIS\n",
      "10; R. v. Nolet, 2010 SCC 24, [2010] 1 S.C.R. 851, at para. ANALYSIS\n",
      "21; R. v. Vu, 2013 SCC 60, [2013] 3 S.C.R. 657, at paras. RULE\n",
      "21‑23; Wakeling v. United States of America, 2014 SCC 72, [2014] 3 S.C.R. 549, at para. RULE\n",
      "41; R. v. Fearon, 2014 SCC 77, [2014] 3 S.C.R. 621, at para. RULE\n",
      "12; Goodwin v. British Columbia (Superintendent of Motor Vehicles), 2015 SCC 46, [2015] 3 S.C.R. 250, at para. RULE\n",
      "48; R. v. Saeed, 2016 SCC 24, [2016] 1 S.C.R. 518, at para. PROCEDURE\n",
      "36; R. v. Tim, 2022 SCC 12, at para. RULE\n",
      "46). ANALYSIS\n",
      "This Court has established a presumption that “a search requires prior authorization, usually in the form of a warrant, from a neutral arbiter” (R. v. M. (M.R.), 1998 CanLII 770 (SCC), [1998] 3 S.C.R. 393, at para. ANALYSIS\n",
      "44, referring to Hunter v. Southam Inc., 1984 CanLII 33 (SCC), [1984] 2 S.C.R. 145, at pp. RULE\n",
      "160‑62; see also Vu, at para. CONCLUSION\n",
      "22; R. v. Grant, 1993 CanLII 68 (SCC), [1993] 3 S.C.R. 223, at pp. RULE\n",
      "238‑39). HEADING\n"
     ]
    }
   ],
   "source": [
    "import spacy\n",
    "from spacy import displacy\n",
    "\n",
    "nlp = spacy.load(\"./models/texcat_firac_v2/model-last/\")\n",
    "nlp.add_pipe(\"sentencizer\")\n",
    "\n",
    "paragraph = \"Section 8 of the Charter guarantees “the right to be secure against unreasonable search or seizure”. A search is reasonable within the meaning of s. 8 “if it is authorized by law, if the law itself is reasonable and if the manner in which the search was carried out is reasonable” (R. v. Collins, 1987 CanLII 84 (SCC), [1987] 1 S.C.R. 265, at p. 278; see also R. v. Caslake, 1998 CanLII 838 (SCC), [1998] 1 S.C.R. 51, at para. 10; R. v. Nolet, 2010 SCC 24, [2010] 1 S.C.R. 851, at para. 21; R. v. Vu, 2013 SCC 60, [2013] 3 S.C.R. 657, at paras. 21‑23; Wakeling v. United States of America, 2014 SCC 72, [2014] 3 S.C.R. 549, at para. 41; R. v. Fearon, 2014 SCC 77, [2014] 3 S.C.R. 621, at para. 12; Goodwin v. British Columbia (Superintendent of Motor Vehicles), 2015 SCC 46, [2015] 3 S.C.R. 250, at para. 48; R. v. Saeed, 2016 SCC 24, [2016] 1 S.C.R. 518, at para. 36; R. v. Tim, 2022 SCC 12, at para. 46). This Court has established a presumption that “a search requires prior authorization, usually in the form of a warrant, from a neutral arbiter” (R. v. M. (M.R.), 1998 CanLII 770 (SCC), [1998] 3 S.C.R. 393, at para. 44, referring to Hunter v. Southam Inc., 1984 CanLII 33 (SCC), [1984] 2 S.C.R. 145, at pp. 160‑62; see also Vu, at para. 22; R. v. Grant, 1993 CanLII 68 (SCC), [1993] 3 S.C.R. 223, at pp. 238‑39).\"\n",
    "doc = nlp(paragraph)\n",
    "\n",
    "sentence_list = []\n",
    "for sentence in doc.sents:\n",
    "    sentence_list.append(sentence)\n",
    "    categories = nlp(sentence.text).cats\n",
    "    max_key = max(categories, key=lambda k: categories[k])\n",
    "    print(sentence, max_key)\n",
    "    \n"
   ]
  },
  {
   "cell_type": "markdown",
   "id": "c89eda79-4719-4ed5-8fee-d6dd89882c07",
   "metadata": {},
   "source": [
    "## Model assessment"
   ]
  },
  {
   "cell_type": "code",
   "execution_count": null,
   "id": "c5012dac-7fbe-4080-82e9-28a4ca216fe4",
   "metadata": {},
   "outputs": [],
   "source": []
  },
  {
   "cell_type": "markdown",
   "id": "e22e9c5a-7aab-4c94-84aa-5c7b43ddbdc2",
   "metadata": {},
   "source": [
    "## Model deployment"
   ]
  },
  {
   "cell_type": "code",
   "execution_count": null,
   "id": "8de2c362-25ec-4690-bd04-36bfe284c80d",
   "metadata": {},
   "outputs": [],
   "source": []
  }
 ],
 "metadata": {
  "kernelspec": {
   "display_name": "Python 3 (ipykernel)",
   "language": "python",
   "name": "python3"
  },
  "language_info": {
   "codemirror_mode": {
    "name": "ipython",
    "version": 3
   },
   "file_extension": ".py",
   "mimetype": "text/x-python",
   "name": "python",
   "nbconvert_exporter": "python",
   "pygments_lexer": "ipython3",
   "version": "3.10.6"
  }
 },
 "nbformat": 4,
 "nbformat_minor": 5
}
