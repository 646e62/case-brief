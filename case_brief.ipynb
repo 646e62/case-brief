{
 "cells": [
  {
   "cell_type": "markdown",
   "id": "4f80e669-3893-4185-a3ac-c1ca14a0df8b",
   "metadata": {},
   "source": [
    "# NLP workflow (from Natural Language Processing Fundamentals)\n",
    "* Data collection\n",
    "* Data preprocessing\n",
    "* Feature extraction\n",
    "* Model development\n",
    "* Model assessment\n",
    "* Model deployment"
   ]
  },
  {
   "cell_type": "markdown",
   "id": "118c72f6-a376-4451-bc64-fb3dd4885388",
   "metadata": {
    "tags": []
   },
   "source": [
    "## Data collection\n",
    "Because CanLII blocks web scraping with captchas and because high-volume web scraping violates CanLII's ToS, this program will have to rely on manually downloaded HTML pages for now. The ToS suggest that individuals may be able to secure mass-downloading rights, so I will look into this as the program develops.\n",
    "\n",
    "The HTML files listed are copies of all reported criminal (and some quasi-criminal) decisions on CanLII from 2023 as of 2023-01-31. I selected cases based solely on the style of cause, including all cases that followed the style *R v Defendant* or *Defendant v R*. As this is a NLP project, I only selected English decisions, thereby limiting the number of reported (quasi-)criminal cases from Quebec."
   ]
  },
  {
   "cell_type": "markdown",
   "id": "fdd93b71-3f7a-48b0-aed8-e80637535321",
   "metadata": {
    "tags": []
   },
   "source": [
    "### Compiled decisions\n",
    "Decisions listed in this dictionary have been processed and have a TXT equivalent saved to file."
   ]
  },
  {
   "cell_type": "code",
   "execution_count": 1,
   "id": "2d4e87d3-3856-49ba-b0c9-1d4da7201144",
   "metadata": {
    "jupyter": {
     "source_hidden": true
    },
    "tags": []
   },
   "outputs": [],
   "source": [
    "completed = {\"scc\": [\"./canlii_crim_corpus/html/2023/ca/scc/2023scc2.html\",\n",
    "                     \"./canlii_crim_corpus/html/2023/ca/scc/2023scc3.html\",],\n",
    "             \"bcca\": [\"./canlii_crim_corpus/html/2023/bc/ca/2023bcca2.html\",\n",
    "                      \"./canlii_crim_corpus/html/2023/bc/ca/2023bcca3.html\",\n",
    "                      \"./canlii_crim_corpus/html/2023/bc/ca/2023bcca4.html\",\n",
    "                      \"./canlii_crim_corpus/html/2023/bc/ca/2023bcca6.html\",\n",
    "                      \"./canlii_crim_corpus/html/2023/bc/ca/2023bcca8.html\",\n",
    "                      \"./canlii_crim_corpus/html/2023/bc/ca/2023bcca13.html\",\n",
    "                      \"./canlii_crim_corpus/html/2023/bc/ca/2023bcca19.html\",\n",
    "                      \"./canlii_crim_corpus/html/2023/bc/ca/2023bcca29.html\",\n",
    "                      \"./canlii_crim_corpus/html/2023/bc/ca/2023bcca33.html\",\n",
    "                      \"./canlii_crim_corpus/html/2023/bc/ca/2023bcca37.html\",\n",
    "                      \"./canlii_crim_corpus/html/2023/bc/ca/2023bcca50.html\",],\n",
    "             \"bcsc\": [\"./canlii_crim_corpus/html/2023/bc/sc/2023bcsc50.html\",\n",
    "                      \"./canlii_crim_corpus/html/2023/bc/sc/2023bcsc147.html\",\n",
    "                      \"./canlii_crim_corpus/html/2023/bc/sc/2023bcsc72.html\",\n",
    "                      \"./canlii_crim_corpus/html/2023/bc/sc/2023bcsc85.html\",\n",
    "                      \"./canlii_crim_corpus/html/2023/bc/sc/2023bcsc92.html\",\n",
    "                      \"./canlii_crim_corpus/html/2023/bc/sc/2023bcsc96.html\",\n",
    "                      \"./canlii_crim_corpus/html/2023/bc/sc/2023bcsc106.html\",\n",
    "                      \"./canlii_crim_corpus/html/2023/bc/sc/2023bcsc134.html\",\n",
    "                      \"./canlii_crim_corpus/html/2023/bc/sc/2023bcsc141.html\",],\n",
    "             \"bcpc\": [\"./canlii_crim_corpus/html/2023/bc/pc/2023bcpc3.html\",\n",
    "                      \"./canlii_crim_corpus/html/2023/bc/pc/2023bcpc14.html\",\n",
    "                      \"./canlii_crim_corpus/html/2023/bc/pc/2023bcpc4.html\",\n",
    "                      \"./canlii_crim_corpus/html/2023/bc/pc/2023bcpc5.html\",\n",
    "                      \"./canlii_crim_corpus/html/2023/bc/pc/2023bcpc6.html\",\n",
    "                      \"./canlii_crim_corpus/html/2023/bc/pc/2023bcpc7.html\",\n",
    "                      \"./canlii_crim_corpus/html/2023/bc/pc/2023bcpc11.html\",\n",
    "                      \"./canlii_crim_corpus/html/2023/bc/pc/2023bcpc12.html\",\n",
    "                      \"./canlii_crim_corpus/html/2023/bc/pc/2023bcpc13.html\",],\n",
    "             \"abca\": [\"./canlii_crim_corpus/html/2023/ab/ca/2023abca2.html\",\n",
    "                      \"./canlii_crim_corpus/html/2023/ab/ca/2023abca26.html\",\n",
    "                      \"./canlii_crim_corpus/html/2023/ab/ca/2023abca3.html\",\n",
    "                      \"./canlii_crim_corpus/html/2023/ab/ca/2023abca5.html\",\n",
    "                      \"./canlii_crim_corpus/html/2023/ab/ca/2023abca7.html\",\n",
    "                      \"./canlii_crim_corpus/html/2023/ab/ca/2023abca10.html\",\n",
    "                      \"./canlii_crim_corpus/html/2023/ab/ca/2023abca11.html\",\n",
    "                      \"./canlii_crim_corpus/html/2023/ab/ca/2023abca18.html\",\n",
    "                      \"./canlii_crim_corpus/html/2023/ab/ca/2023abca20.html\",\n",
    "                      \"./canlii_crim_corpus/html/2023/ab/ca/2023abca23.html\",\n",
    "                      \"./canlii_crim_corpus/html/2023/ab/ca/2023abca29.html\",],\n",
    "             \"abkb\": [\"./canlii_crim_corpus/html/2023/ab/kb/2023abkb45.html\",\n",
    "                      \"./canlii_crim_corpus/html/2023/ab/kb/2023abkb13.html\",\n",
    "                      \"./canlii_crim_corpus/html/2023/ab/kb/2023abkb26.html\",\n",
    "                      \"./canlii_crim_corpus/html/2023/ab/kb/2023abkb9.html\",\n",
    "                      \"./canlii_crim_corpus/html/2023/ab/kb/2023abkb39.html\",],\n",
    "             \"abpc\": [\"./canlii_crim_corpus/html/2023/ab/pc/2023abpc17.html\",\n",
    "                      \"./canlii_crim_corpus/html/2023/ab/pc/2023abpc3.html\",\n",
    "                      \"./canlii_crim_corpus/html/2023/ab/pc/2023abpc9.html\",\n",
    "                      \"./canlii_crim_corpus/html/2023/ab/pc/2023abpc6.html\",\n",
    "                      \"./canlii_crim_corpus/html/2023/ab/pc/2023abpc1.html\",\n",
    "                      \"./canlii_crim_corpus/html/2023/ab/pc/2023abpc16.html\",\n",
    "                      \"./canlii_crim_corpus/html/2023/ab/pc/2023abpc8.html\",\n",
    "                      \"./canlii_crim_corpus/html/2023/ab/pc/2023abpc7.html\",],\n",
    "             \"skca\": [\"./canlii_crim_corpus/html/2023/sk/ca/2023skca15.html\",\n",
    "                      \"./canlii_crim_corpus/html/2023/sk/ca/2023skca1.html\",\n",
    "                      \"./canlii_crim_corpus/html/2023/sk/ca/2023skca2.html\",\n",
    "                      \"./canlii_crim_corpus/html/2023/sk/ca/2023skca12.html\",\n",
    "                      \"./canlii_crim_corpus/html/2023/sk/ca/2023skca7.html\",\n",
    "                      \"./canlii_crim_corpus/html/2023/sk/ca/2023skca6.html\",],\n",
    "             \"skkb\": [\"./canlii_crim_corpus/html/2023/sk/kb/2023skkb1.html\",\n",
    "                      \"./canlii_crim_corpus/html/2023/sk/kb/2023skkb8.html\",],\n",
    "             \"skpc\": [\"./canlii_crim_corpus/html/2023/sk/pc/2023skpc6.html\",\n",
    "                      \"./canlii_crim_corpus/html/2023/sk/pc/2023skpc10.html\",\n",
    "                      \"./canlii_crim_corpus/html/2023/sk/pc/2023skpc2.html\",\n",
    "                      \"./canlii_crim_corpus/html/2023/sk/pc/2023skpc9.html\",\n",
    "                      \"./canlii_crim_corpus/html/2023/sk/pc/2023skpc5.html\",\n",
    "                      \"./canlii_crim_corpus/html/2023/sk/pc/2023skpc14.html\",\n",
    "                      \"./canlii_crim_corpus/html/2023/sk/pc/2023skpc1.html\",\n",
    "                      \"./canlii_crim_corpus/html/2023/sk/pc/2023skpc3.html\",\n",
    "                      \"./canlii_crim_corpus/html/2023/sk/pc/2023skpc4.html\",\n",
    "                      \"./canlii_crim_corpus/html/2023/sk/pc/2023skpc12.html\",\n",
    "                      \"./canlii_crim_corpus/html/2023/sk/pc/2023skpc8.html\",\n",
    "                      \"./canlii_crim_corpus/html/2023/sk/pc/2023skpc7.html\",],\n",
    "             \"mbca\": [\"./canlii_crim_corpus/html/2023/mb/ca/2023mbca5.html\",\n",
    "                      \"./canlii_crim_corpus/html/2023/mb/ca/2023mbca8.html\",\n",
    "                      \"./canlii_crim_corpus/html/2023/mb/ca/2023mbca2.html\",\n",
    "                      \"./canlii_crim_corpus/html/2023/mb/ca/2023mbca4.html\",\n",
    "                      \"./canlii_crim_corpus/html/2023/mb/ca/2023mbca6.html\",\n",
    "                      \"./canlii_crim_corpus/html/2023/mb/ca/2023mbca1.html\",],\n",
    "             \"mbkb\": [\"./canlii_crim_corpus/html/2023/mb/kb/2023mbkb7.html\",\n",
    "                      \"./canlii_crim_corpus/html/2023/mb/kb/2023mbkb2.html\",\n",
    "                      \"./canlii_crim_corpus/html/2023/mb/kb/2023mbkb10.html\",\n",
    "                      \"./canlii_crim_corpus/html/2023/mb/kb/2023mbkb12.html\",\n",
    "                      \"./canlii_crim_corpus/html/2023/mb/kb/2023mbkb6.html\",\n",
    "                      \"./canlii_crim_corpus/html/2023/mb/kb/2023mbkb1.html\",],\n",
    "             \"mbpc\": [],\n",
    "             \"onca\": [\"./canlii_crim_corpus/html/2023/on/ca/2023onca19.html\",\n",
    "                      \"./canlii_crim_corpus/html/2023/on/ca/2023onca33.html\",\n",
    "                      \"./canlii_crim_corpus/html/2023/on/ca/2023onca40.html\",\n",
    "                      \"./canlii_crim_corpus/html/2023/on/ca/2023onca23.html\",\n",
    "                      \"./canlii_crim_corpus/html/2023/on/ca/2023onca2.html\",\n",
    "                      \"./canlii_crim_corpus/html/2023/on/ca/2023onca24.html\",\n",
    "                      \"./canlii_crim_corpus/html/2023/on/ca/2023onca45.html\",\n",
    "                      \"./canlii_crim_corpus/html/2023/on/ca/2023onca6.html\",\n",
    "                      \"./canlii_crim_corpus/html/2023/on/ca/2023onca10.html\",\n",
    "                      \"./canlii_crim_corpus/html/2023/on/ca/2023onca38.html\",\n",
    "                      \"./canlii_crim_corpus/html/2023/on/ca/2023onca13.html\",\n",
    "                      \"./canlii_crim_corpus/html/2023/on/ca/2023onca48.html\",\n",
    "                      \"./canlii_crim_corpus/html/2023/on/ca/2023onca5.html\",\n",
    "                      \"./canlii_crim_corpus/html/2023/on/ca/2023onca35.html\",\n",
    "                      \"./canlii_crim_corpus/html/2023/on/ca/2023onca8.html\",\n",
    "                      \"./canlii_crim_corpus/html/2023/on/ca/2023onca31.html\",\n",
    "                      \"./canlii_crim_corpus/html/2023/on/ca/2023onca32.html\",\n",
    "                      \"./canlii_crim_corpus/html/2023/on/ca/2023onca47.html\",\n",
    "                      \"./canlii_crim_corpus/html/2023/on/ca/2023onca53.html\",\n",
    "                      \"./canlii_crim_corpus/html/2023/on/ca/2023onca7.html\",\n",
    "                      \"./canlii_crim_corpus/html/2023/on/ca/2023onca20.html\",\n",
    "                      \"./canlii_crim_corpus/html/2023/on/ca/2023onca12.html\",\n",
    "                      \"./canlii_crim_corpus/html/2023/on/ca/2023onca3.html\",\n",
    "                      \"./canlii_crim_corpus/html/2023/on/ca/2023onca36.html\",\n",
    "                      \"./canlii_crim_corpus/html/2023/on/ca/2023onca4.html\",],\n",
    "             \"onsc\": [\"./canlii_crim_corpus/html/2023/on/sc/2023onsc538.html\",\n",
    "                      \"./canlii_crim_corpus/html/2023/on/sc/2023onsc414.html\",\n",
    "                      \"./canlii_crim_corpus/html/2023/on/sc/2023onsc124.html\",\n",
    "                      \"./canlii_crim_corpus/html/2023/on/sc/2023onsc496.html\",\n",
    "                      \"./canlii_crim_corpus/html/2023/on/sc/2023onsc103.html\",\n",
    "                      \"./canlii_crim_corpus/html/2023/on/sc/2023onsc286.html\",\n",
    "                      \"./canlii_crim_corpus/html/2023/on/sc/2023onsc547.html\",\n",
    "                      \"./canlii_crim_corpus/html/2023/on/sc/2023onsc254.html\",\n",
    "                      \"./canlii_crim_corpus/html/2023/on/sc/2023onsc347.html\",\n",
    "                      \"./canlii_crim_corpus/html/2023/on/sc/2023onsc549.html\",\n",
    "                      \"./canlii_crim_corpus/html/2023/on/sc/2023onsc62.html\",\n",
    "                      \"./canlii_crim_corpus/html/2023/on/sc/2023onsc396.html\",\n",
    "                      \"./canlii_crim_corpus/html/2023/on/sc/2023onsc64.html\",\n",
    "                      \"./canlii_crim_corpus/html/2023/on/sc/2023onsc283.html\",\n",
    "                      \"./canlii_crim_corpus/html/2023/on/sc/2023onsc452.html\",\n",
    "                      \"./canlii_crim_corpus/html/2023/on/sc/2023onsc640.html\",\n",
    "                      \"./canlii_crim_corpus/html/2023/on/sc/2023onsc220.html\",\n",
    "                      \"./canlii_crim_corpus/html/2023/on/sc/2023onsc14.html\",\n",
    "                      \"./canlii_crim_corpus/html/2023/on/sc/2023onsc97.html\",\n",
    "                      \"./canlii_crim_corpus/html/2023/on/sc/2023onsc268.html\",\n",
    "                      \"./canlii_crim_corpus/html/2023/on/sc/2023onsc662.html\",\n",
    "                      \"./canlii_crim_corpus/html/2023/on/sc/2023onsc568.html\",\n",
    "                      \"./canlii_crim_corpus/html/2023/on/sc/2023onsc621.html\",\n",
    "                      \"./canlii_crim_corpus/html/2023/on/sc/2023onsc146.html\",\n",
    "                      \"./canlii_crim_corpus/html/2023/on/sc/2023onsc296.html\",\n",
    "                      \"./canlii_crim_corpus/html/2023/on/sc/2023onsc555.html\",\n",
    "                      \"./canlii_crim_corpus/html/2023/on/sc/2023onsc190.html\",\n",
    "                      \"./canlii_crim_corpus/html/2023/on/sc/2023onsc200.html\",\n",
    "                      \"./canlii_crim_corpus/html/2023/on/sc/2023onsc416.html\",\n",
    "                      \"./canlii_crim_corpus/html/2023/on/sc/2023onsc166.html\",\n",
    "                      \"./canlii_crim_corpus/html/2023/on/sc/2023onsc567.html\",\n",
    "                      \"./canlii_crim_corpus/html/2023/on/sc/2023onsc400.html\",\n",
    "                      \"./canlii_crim_corpus/html/2023/on/sc/2023onsc300.html\",\n",
    "                      \"./canlii_crim_corpus/html/2023/on/sc/2023onsc406.html\",\n",
    "                      \"./canlii_crim_corpus/html/2023/on/sc/2023onsc516.html\",],\n",
    "             \"oncj\": [\"./canlii_crim_corpus/html/2023/on/cj/2023oncj18.html\",\n",
    "                      \"./canlii_crim_corpus/html/2023/on/cj/2023oncj24.html\",\n",
    "                      \"./canlii_crim_corpus/html/2023/on/cj/2023oncj10.html\",\n",
    "                      \"./canlii_crim_corpus/html/2023/on/cj/2023oncj9.html\",\n",
    "                      \"./canlii_crim_corpus/html/2023/on/cj/2023oncj20.html\",\n",
    "                      \"./canlii_crim_corpus/html/2023/on/cj/2023oncj25.html\",\n",
    "                      \"./canlii_crim_corpus/html/2023/on/cj/2023oncj16.html\",\n",
    "                      \"./canlii_crim_corpus/html/2023/on/cj/2023oncj12.html\",\n",
    "                      \"./canlii_crim_corpus/html/2023/on/cj/2023oncj45.html\",\n",
    "                      \"./canlii_crim_corpus/html/2023/on/cj/2023oncj43.html\",\n",
    "                      \"./canlii_crim_corpus/html/2023/on/cj/2023oncj17.html\",\n",
    "                      \"./canlii_crim_corpus/html/2023/on/cj/2023oncj28.html\",\n",
    "                      \"./canlii_crim_corpus/html/2023/on/cj/2023oncj40.html\",\n",
    "                      \"./canlii_crim_corpus/html/2023/on/cj/2023oncj6.html\",\n",
    "                      \"./canlii_crim_corpus/html/2023/on/cj/2023oncj14.html\",\n",
    "                      \"./canlii_crim_corpus/html/2023/on/cj/2023oncj36.html\",\n",
    "                      \"./canlii_crim_corpus/html/2023/on/cj/2023oncj15.html\",\n",
    "                      \"./canlii_crim_corpus/html/2023/on/cj/2023oncj11.html\",\n",
    "                      \"./canlii_crim_corpus/html/2023/on/cj/2023oncj29.html\",\n",
    "                      \"./canlii_crim_corpus/html/2023/on/cj/2023oncj5.html\",\n",
    "                      \"./canlii_crim_corpus/html/2023/on/cj/2023oncj31.html\",\n",
    "                      \"./canlii_crim_corpus/html/2023/on/cj/2023oncj27.html\",\n",
    "                      \"./canlii_crim_corpus/html/2023/on/cj/2023oncj21.html\",\n",
    "                      \"./canlii_crim_corpus/html/2023/on/cj/2023oncj4.html\",\n",
    "                      \"./canlii_crim_corpus/html/2023/on/cj/2023oncj41.html\",\n",
    "                      \"./canlii_crim_corpus/html/2023/on/cj/2023oncj22.html\",],\n",
    "             \"qcca\": [\"./canlii_crim_corpus/html/2023/qc/ca/2023qcca34.html\",\n",
    "                      \"./canlii_crim_corpus/html/2023/qc/ca/2023qcca13.html\",\n",
    "                      \"./canlii_crim_corpus/html/2023/qc/ca/2023qcca89.html\",\n",
    "                      \"./canlii_crim_corpus/html/2023/qc/ca/2023qcca57.html\",],\n",
    "             \"qccs\": [],\n",
    "             \"qccq\": [\"./canlii_crim_corpus/html/2023/qc/cq/2023qccq86.html\",\n",
    "                      \"./canlii_crim_corpus/html/2023/qc/cq/2023qccq15.html\",],\n",
    "             \"nbca\": [\"./canlii_crim_corpus/html/2023/nb/ca/2023nbca6.html\",],\n",
    "             \"nbkb\": [],\n",
    "             \"nbpc\": [\"./canlii_crim_corpus/html/2023/nb/pc/2023nbpc1.html\",],\n",
    "             \"nsca\": [\"./canlii_crim_corpus/html/2023/ns/ca/2023nsca3.html\",\n",
    "                      \"./canlii_crim_corpus/html/2023/ns/ca/2023nsca2.html\",\n",
    "                      \"./canlii_crim_corpus/html/2023/ns/ca/2023nsca1.html\",],\n",
    "             \"nssc\": [\"./canlii_crim_corpus/html/2023/ns/sc/2023nssc25.html\",\n",
    "                      \"./canlii_crim_corpus/html/2023/ns/sc/2023nssc9.html\",\n",
    "                      \"./canlii_crim_corpus/html/2023/ns/sc/2023nssc3.html\",\n",
    "                      \"./canlii_crim_corpus/html/2023/ns/sc/2023nssc4.html\",\n",
    "                      \"./canlii_crim_corpus/html/2023/ns/sc/2023nssc2.html\",\n",
    "                      \"./canlii_crim_corpus/html/2023/ns/sc/2023nssc28.html\",],\n",
    "             \"nspc\": [],\n",
    "             \"peca\": [],\n",
    "             \"pesc\": [\"./canlii_crim_corpus/html/2023/pe/sc/2023pesc4.html\",],\n",
    "             \"nlca\": [],\n",
    "             \"nlsc\": [\"./canlii_crim_corpus/html/2023/nl/sc/2023nlsc6.html\",],\n",
    "             \"nlpc\": [\"./canlii_crim_corpus/html/2023/nl/pc/2023canlii605.html\", \n",
    "                      \"./canlii_crim_corpus/html/2023/nl/pc/2023canlii460.html\",\n",
    "                      \"./canlii_crim_corpus/html/2023/nl/pc/2023canlii466.html\",\n",
    "                      \"./canlii_crim_corpus/html/2023/nl/pc/2023canlii2060.html\",\n",
    "                      \"./canlii_crim_corpus/html/2023/nl/pc/2023canlii2521.html\",\n",
    "                      \"./canlii_crim_corpus/html/2023/nl/pc/2023canlii3051.html\",],\n",
    "             \"ykca\": [],\n",
    "             \"yksc\": [],\n",
    "             \"yktc\": [\"./canlii_crim_corpus/html/2023/yk/tc/2023yktc1.html\",],\n",
    "             \"ntca\": [\"./canlii_crim_corpus/html/2023/nt/ca/2023ntca1.html\",],\n",
    "             \"ntsc\": [],\n",
    "             \"nttc\": [],\n",
    "             \"nuca\": [],\n",
    "             \"nucj\": []\n",
    "            }\n",
    "\n",
    "scc_2022 = [\"./canlii_scc_corpus/html/2022/2022scc1.html\",\n",
    "            \"./canlii_scc_corpus/html/2022/2022scc2.html\",\n",
    "            \"./canlii_scc_corpus/html/2022/2022scc3.html\",\n",
    "            \"./canlii_scc_corpus/html/2022/2022scc4.html\",\n",
    "            \"./canlii_scc_corpus/html/2022/2022scc5.html\",\n",
    "            \"./canlii_scc_corpus/html/2022/2022scc6.html\",\n",
    "            \"./canlii_scc_corpus/html/2022/2022scc7.html\",\n",
    "            \"./canlii_scc_corpus/html/2022/2022scc8.html\",\n",
    "            \"./canlii_scc_corpus/html/2022/2022scc9.html\",\n",
    "            \"./canlii_scc_corpus/html/2022/2022scc10.html\",\n",
    "            \"./canlii_scc_corpus/html/2022/2022scc11.html\",\n",
    "            \"./canlii_scc_corpus/html/2022/2022scc12.html\",\n",
    "            \"./canlii_scc_corpus/html/2022/2022scc13.html\",\n",
    "            \"./canlii_scc_corpus/html/2022/2022scc14.html\",\n",
    "            \"./canlii_scc_corpus/html/2022/2022scc15.html\",\n",
    "            \"./canlii_scc_corpus/html/2022/2022scc16.html\",\n",
    "            \"./canlii_scc_corpus/html/2022/2022scc17.html\",\n",
    "            \"./canlii_scc_corpus/html/2022/2022scc18.html\",\n",
    "            \"./canlii_scc_corpus/html/2022/2022scc19.html\",\n",
    "            \"./canlii_scc_corpus/html/2022/2022scc20.html\",\n",
    "            \"./canlii_scc_corpus/html/2022/2022scc21.html\",\n",
    "            \"./canlii_scc_corpus/html/2022/2022scc22.html\",\n",
    "            \"./canlii_scc_corpus/html/2022/2022scc23.html\",\n",
    "            \"./canlii_scc_corpus/html/2022/2022scc24.html\",\n",
    "            \"./canlii_scc_corpus/html/2022/2022scc25.html\",\n",
    "            \"./canlii_scc_corpus/html/2022/2022scc26.html\",\n",
    "            \"./canlii_scc_corpus/html/2022/2022scc27.html\",\n",
    "            \"./canlii_scc_corpus/html/2022/2022scc28.html\",\n",
    "            \"./canlii_scc_corpus/html/2022/2022scc29.html\",\n",
    "            \"./canlii_scc_corpus/html/2022/2022scc30.html\",\n",
    "            \"./canlii_scc_corpus/html/2022/2022scc31.html\",\n",
    "            \"./canlii_scc_corpus/html/2022/2022scc32.html\",\n",
    "            \"./canlii_scc_corpus/html/2022/2022scc33.html\",\n",
    "            \"./canlii_scc_corpus/html/2022/2022scc34.html\",\n",
    "            \"./canlii_scc_corpus/html/2022/2022scc35.html\",\n",
    "            \"./canlii_scc_corpus/html/2022/2022scc36.html\",\n",
    "            \"./canlii_scc_corpus/html/2022/2022scc37.html\",\n",
    "            \"./canlii_scc_corpus/html/2022/2022scc38.html\",\n",
    "            \"./canlii_scc_corpus/html/2022/2022scc39.html\",\n",
    "            \"./canlii_scc_corpus/html/2022/2022scc40.html\",\n",
    "            \"./canlii_scc_corpus/html/2022/2022scc41.html\",\n",
    "            \"./canlii_scc_corpus/html/2022/2022scc42.html\",\n",
    "            \"./canlii_scc_corpus/html/2022/2022scc43.html\",\n",
    "            \"./canlii_scc_corpus/html/2022/2022scc44.html\",\n",
    "            \"./canlii_scc_corpus/html/2022/2022scc45.html\",\n",
    "            \"./canlii_scc_corpus/html/2022/2022scc46.html\",\n",
    "            \"./canlii_scc_corpus/html/2022/2022scc47.html\",\n",
    "            \"./canlii_scc_corpus/html/2022/2022scc48.html\",\n",
    "            \"./canlii_scc_corpus/html/2022/2022scc49.html\",\n",
    "            \"./canlii_scc_corpus/html/2022/2022scc50.html\",\n",
    "            \"./canlii_scc_corpus/html/2022/2022scc51.html\",\n",
    "            \"./canlii_scc_corpus/html/2022/2022scc52.html\",\n",
    "            \"./canlii_scc_corpus/html/2022/2022scc53.html\",\n",
    "            \"./canlii_scc_corpus/html/2022/2022scc54.html\",\n",
    "           ]"
   ]
  },
  {
   "cell_type": "markdown",
   "id": "97de4571-7491-456c-97f4-cf52e103d41b",
   "metadata": {
    "tags": []
   },
   "source": [
    "### Defective files\n",
    "Holding cell for files that have either been downloaded and cannot be processed using the normal compliation process, or decisions that are \"published\" on CanLII but don't have reasons available yet."
   ]
  },
  {
   "cell_type": "code",
   "execution_count": 100,
   "id": "6caf80e9-1775-4f80-9506-764a3925d58f",
   "metadata": {
    "jupyter": {
     "source_hidden": true
    },
    "tags": []
   },
   "outputs": [],
   "source": [
    "# Defects\n",
    "## The defect files listed here each posted NoneType errors when run through the decision_paragraph function\n",
    "defects_nonetype = [\"./canlii_crim_corpus/html/2023/ca/scc/2023scc1.html\",\n",
    "                    \"./canlii_crim_corpus/html/2023/bc/ca/2023bcca16.html\",\n",
    "                    \"./canlii_crim_corpus/html/2023/bc/ca/2023bcca38.html\",\n",
    "                    \"./canlii_crim_corpus/html/2023/ab/pc/2023abpc22.html\",\n",
    "                    \"./canlii_crim_corpus/html/2023/on/sc/2023onsc462.html\",\n",
    "                    \"./canlii_crim_corpus/html/2023/on/sc/2023onsc519.html\",]\n",
    "\n",
    "## Paragraphs in PECA decisions don't appear to follow the \"paragWrapper\" div convention, and thus aren't caught up by the compiler\n",
    "defects_peca = [\"./canlii_crim_corpus/html/2023/pe/ca/2023peca1.html\",\n",
    "                \"./canlii_crim_corpus/html/2023/pe/ca/2023peca2.html\",]\n",
    "\n",
    "# Reasons currently unavailable\n",
    "## Decisions published without reasons are listed here for future follow-up\n",
    "reasons_unavailable = [\".canlii_crim_corpus/html/2023/mb/pc/2023mbpc1.html\"]\n",
    "\n",
    "assorted_defects = []"
   ]
  },
  {
   "cell_type": "markdown",
   "id": "b0f62130-6ea8-4972-a54d-71056e1e2b59",
   "metadata": {
    "tags": []
   },
   "source": [
    "### Unprocessed decisions\n",
    "Staging ground for decisions that have been downloaded but still need to be processed"
   ]
  },
  {
   "cell_type": "code",
   "execution_count": 125,
   "id": "39dfb29c-1c9c-4356-9820-71894259be01",
   "metadata": {
    "jupyter": {
     "source_hidden": true
    },
    "tags": []
   },
   "outputs": [],
   "source": [
    "# Unprocessed decisions\n",
    "\n",
    "## Federal\n",
    "scc_list = []\n",
    "\n",
    "## British Columbia\n",
    "bcca_list = []\n",
    "bcsc_list = []\n",
    "bcpc_list = []\n",
    "       \n",
    "    \n",
    "## Alberta\n",
    "abca_list = []\n",
    "abkb_list = []\n",
    "abpc_list = []\n",
    "\n",
    "\n",
    "## Saskatchewan\n",
    "skca_list = []\n",
    "skkb_list = []\n",
    "skpc_list = []\n",
    "\n",
    "\n",
    "## Manitoba\n",
    "mbca_list = []\n",
    "mbkb_list = []\n",
    "mbpc_list = []\n",
    "\n",
    "\n",
    "## Ontario\n",
    "onca_list = []\n",
    "onsc_list = []\n",
    "oncj_list = []\n",
    "\n",
    "\n",
    "## Quebec\n",
    "qcca_list = []\n",
    "qccq_list = []\n",
    "qccs_list = []\n",
    "\n",
    "\n",
    "## New Brunswick\n",
    "nbca_list = []\n",
    "nbkb_list = []\n",
    "nbpc_list = []\n",
    "\n",
    "\n",
    "## Newfoundland & Labrador\n",
    "nlsc_list = []\n",
    "nlpc_list = []\n",
    "nlca_list = []\n",
    "\n",
    "\n",
    "## Prince Edward Island\n",
    "peca_list = []\n",
    "pesc_list = []\n",
    "pepc_list = []\n",
    "\n",
    "\n",
    "## Nova Scotia\n",
    "nsca_list = []\n",
    "nssc_list = []\n",
    "nspc_list = []\n",
    "\n",
    "\n",
    "## Yukon\n",
    "ykca_list = []\n",
    "yksc_list = []\n",
    "yktc_list = []\n",
    "\n",
    "\n",
    "## Northwest Territories\n",
    "ntca_list = []\n",
    "ntsc_list = []\n",
    "nttc_list = []\n",
    "\n",
    "\n",
    "## Nunavut\n",
    "nuca_list = []\n",
    "nucj_list = []\n",
    "\n",
    "\n",
    "## Aggregate variable\n",
    "unprocessed = [scc_list,\n",
    "               bcca_list, bcsc_list, bcpc_list,\n",
    "               abca_list, abkb_list, abpc_list,\n",
    "               skca_list, skkb_list, skpc_list,\n",
    "               mbca_list, mbkb_list, mbpc_list,\n",
    "               onca_list, onsc_list, oncj_list,\n",
    "               qcca_list, qccs_list, qccq_list,\n",
    "               nbca_list, nbkb_list, nbpc_list,\n",
    "               nsca_list, nssc_list, nspc_list,\n",
    "               peca_list, pesc_list, pepc_list,\n",
    "               nlca_list, nlsc_list, nlpc_list,\n",
    "               ykca_list, yksc_list, yktc_list,\n",
    "               ntca_list, ntsc_list, nttc_list,\n",
    "               nuca_list, nucj_list\n",
    "              ]"
   ]
  },
  {
   "cell_type": "markdown",
   "id": "89fdb1c9-e6a2-47e6-80d6-60e22b510049",
   "metadata": {
    "tags": []
   },
   "source": [
    "### Tree structure\n",
    "The following code snippet shows the HTML files that will be used to build the first test mini-corpus in a tree format."
   ]
  },
  {
   "cell_type": "code",
   "execution_count": 262,
   "id": "68e5fa50-c1d3-4d22-8d1b-3d2eb708fd8d",
   "metadata": {
    "jupyter": {
     "source_hidden": true
    },
    "tags": []
   },
   "outputs": [],
   "source": [
    "import os\n",
    "\n",
    "def list_directory_tree(directory):\n",
    "    print(directory)\n",
    "    for path, dirs, files in os.walk(directory):\n",
    "        level = path.replace(directory, '').count(os.sep)\n",
    "        indent = ' ' * 4 * (level)\n",
    "        print('{}{}/'.format(indent, os.path.basename(path)))\n",
    "        subindent = ' ' * 4 * (level + 1)\n",
    "        for f in files:\n",
    "            print('{}{}'.format(subindent, f))\n",
    "\n",
    "#list_directory_tree(\"./canlii_crim_corpus/html/2023/\")"
   ]
  },
  {
   "cell_type": "markdown",
   "id": "947a8b43-0b47-45ae-9c6b-0fbebfb0897d",
   "metadata": {
    "tags": []
   },
   "source": [
    "## Data preprocessing\n",
    "These functions remove extraneous HTML and save the clean text to file. Where available, the preprocessing functions split the decision into the decision's numbered paragraphs. Where the decision doesn't come with pre-formatted paragraph numbers, the functions should infer them from the document's structure. For some older decisions, it may be possible to infer pagination, though this functionality may not be necessary or useful."
   ]
  },
  {
   "cell_type": "markdown",
   "id": "d808a1d0-2b3f-4547-8411-363e0584f9e9",
   "metadata": {
    "tags": []
   },
   "source": [
    "### NLP language base\n",
    "The case-brief program uses spaCy for NLP. After some cursory testing, the medium English library appears best suited to this program's use case. Specifically, it appears to detect LAW entities much more accurately than either the small or large models do."
   ]
  },
  {
   "cell_type": "code",
   "execution_count": 2,
   "id": "39d1231b-d1a2-496e-ac8a-3d1f6d08c74b",
   "metadata": {
    "jupyter": {
     "source_hidden": true
    },
    "tags": []
   },
   "outputs": [],
   "source": [
    "import spacy\n",
    "nlp = spacy.load(\"en_core_web_md\")\n",
    "nlp.max_length=10000000"
   ]
  },
  {
   "cell_type": "markdown",
   "id": "a80e2675-70c9-47bb-99d3-6db29f72d22d",
   "metadata": {
    "tags": []
   },
   "source": [
    "### HTML to TXT\n",
    "The HTML to TXT functions extract text from raw HTML files. "
   ]
  },
  {
   "cell_type": "code",
   "execution_count": 3,
   "id": "7ca2e8f0-a2fd-4bf7-8fef-f7a0e73b6afa",
   "metadata": {
    "jupyter": {
     "source_hidden": true
    },
    "tags": []
   },
   "outputs": [],
   "source": [
    "import re\n",
    "from bs4 import BeautifulSoup\n",
    "\n",
    "nlp = spacy.load(\"en_core_web_md\")\n",
    "\n",
    "# Reads an HTML file and returns a BeautifulSoup object\n",
    "def read_html_file(filename: str)->BeautifulSoup:\n",
    "    '''\n",
    "    Reads an HTML file and returns a BeautifulSoup object.\n",
    "    '''\n",
    "    with open(filename, 'r', encoding=\"utf-8\") as file:\n",
    "        soup: BeautifulSoup = BeautifulSoup(file, 'html.parser')\n",
    "    return soup\n",
    "\n",
    "\n",
    "def create_title(filepath: str)-> str:\n",
    "    \"\"\"Create a title for the text file from the html file name\"\"\"\n",
    "    path_list = filepath.split(\"/\")\n",
    "    title_list = path_list[-1].split(\".\")\n",
    "    title = title_list[0]\n",
    "    \n",
    "    # The first group of numbers is the year\n",
    "    year = re.findall(r\"\\d+\", title)[0]\n",
    "    # The second group of numbers is the file number\n",
    "    file_number = re.findall(r\"\\d+\", title)[1]\n",
    "    # The group of letters is the jurisdiction and court\n",
    "    jurisdiction = re.findall(r\"[a-z]+\", title)[0]\n",
    "    \n",
    "    if jurisdiction == \"canlii\":\n",
    "        jurisdiction = \"CanLII\"\n",
    "        title = f\"{year} {jurisdiction} {file_number}\"\n",
    "    else:\n",
    "        title = f\"{year} {jurisdiction.upper()} {file_number}\"\n",
    " \n",
    "    return title\n",
    "\n",
    "\n",
    "def decision_paragraphs(filename: str)->tuple:\n",
    "    '''\n",
    "    Extracts the decision paragraphs. The decision text\n",
    "    is contained in the <div class=\"paragWrapper\"> tags. This function extracts\n",
    "    the text from these tags and appends it to a list.\n",
    "    '''\n",
    "    \n",
    "    decision = read_html_file(filename)\n",
    "    \n",
    "    # Find the first and last instances of the \"paragWrapper\" div\n",
    "    first_div = decision.find(\"div\", class_=\"paragWrapper\")\n",
    "    last_div = decision.find_all(\"div\", class_=\"paragWrapper\")[-1]\n",
    "\n",
    "    paragraphs = []\n",
    "    footnotes = []\n",
    "\n",
    "    # Iterate over all siblings between the first and last instances of the \"paragWrapper\" div\n",
    "    sibling = first_div\n",
    "    paragraphs.append(first_div)\n",
    "    while sibling != last_div:\n",
    "        sibling = sibling.find_next_sibling()\n",
    "        paragraphs.append(sibling)\n",
    "        \n",
    "    # Finds and appends footnotes where applicable\n",
    "    if decision.find(\"SPAN\", class_=\"MsoFootnoteReference\"):\n",
    "        decision_footnotes(decision)\n",
    "        \n",
    "    return paragraphs, footnotes\n",
    "\n",
    "\n",
    "def decision_footnotes(decision: str)->list:\n",
    "    '''\n",
    "    Generates a list of footnotes in decisions containing them.\n",
    "    '''\n",
    "    footnote = decision.find(\"SPAN\", class_=\"MsoFootnoteReference\")\n",
    "    footnotes.append(footnote)\n",
    "    while footnote.find_next_sibling(\"SPAN\", class_=\"MsoFootnoteReference\"):\n",
    "        footnote = footnote.find_next_sibling(\"SPAN\", class_=\"MsoFootnoteReference\")\n",
    "        footnotes.append(footnote)\n",
    "    \n",
    "    return footnotes\n",
    "\n",
    "\n",
    "def clean_text(paragraph: str, remove_para_nums: bool=False)->list:\n",
    "    '''\n",
    "    Returns text with problematic characters removed. These include paragraph\n",
    "    numbers enclosed in square brackets and superfluous periods after paragraph\n",
    "    and section pinpoints, as these can sometimes confuse the sentence \n",
    "    detectors.\n",
    "    '''\n",
    "    doc = nlp(paragraph)\n",
    "    try:\n",
    "        if remove_para_nums and paragraph[0] == \"[\" and paragraph[1].isdigit():\n",
    "            doc = re.sub(r\"\\[\\d+\\]\\s\", \"\", paragraph)\n",
    "            return nlp(doc)\n",
    "        else:\n",
    "            return doc\n",
    "    except:\n",
    "        pass\n",
    "\n",
    "\n",
    "def compile_decision_text(filename)->list:\n",
    "    '''\n",
    "    The aggregate function that runs the others.\n",
    "    '''\n",
    "    \n",
    "    decision = decision_paragraphs(filename)[0]\n",
    "    footnotes = decision_paragraphs(filename)[1]\n",
    "    clean_decision = []\n",
    "    clean_decision.append(filename)\n",
    "    \n",
    "    for paragraph in decision:\n",
    "        clean_decision.append(clean_text(paragraph.text))\n",
    "\n",
    "    for item in clean_decision:\n",
    "        try:\n",
    "            if len(item) == 0:\n",
    "                clean_decision.remove(item)\n",
    "        except:\n",
    "            pass\n",
    "        \n",
    "    if footnotes:\n",
    "        for footnote in footnotes:\n",
    "            decision.append(clean_text(footnote, False))\n",
    "    \n",
    "    return clean_decision\n"
   ]
  },
  {
   "cell_type": "code",
   "execution_count": 5,
   "id": "ffe59973-db07-4fc7-9a59-e09cf527bcb0",
   "metadata": {},
   "outputs": [
    {
     "ename": "IndexError",
     "evalue": "list index out of range",
     "output_type": "error",
     "traceback": [
      "\u001b[0;31m---------------------------------------------------------------------------\u001b[0m",
      "\u001b[0;31mIndexError\u001b[0m                                Traceback (most recent call last)",
      "\u001b[0;32m/tmp/ipykernel_55529/2714627255.py\u001b[0m in \u001b[0;36m<module>\u001b[0;34m\u001b[0m\n\u001b[1;32m      1\u001b[0m \u001b[0;32mfor\u001b[0m \u001b[0mcase\u001b[0m \u001b[0;32min\u001b[0m \u001b[0mscc_2022\u001b[0m\u001b[0;34m:\u001b[0m\u001b[0;34m\u001b[0m\u001b[0;34m\u001b[0m\u001b[0m\n\u001b[0;32m----> 2\u001b[0;31m     \u001b[0mcompile_decision_text\u001b[0m\u001b[0;34m(\u001b[0m\u001b[0mcase\u001b[0m\u001b[0;34m)\u001b[0m\u001b[0;34m\u001b[0m\u001b[0;34m\u001b[0m\u001b[0m\n\u001b[0m",
      "\u001b[0;32m/tmp/ipykernel_55529/3727323292.py\u001b[0m in \u001b[0;36mcompile_decision_text\u001b[0;34m(filename)\u001b[0m\n\u001b[1;32m    102\u001b[0m     '''\n\u001b[1;32m    103\u001b[0m \u001b[0;34m\u001b[0m\u001b[0m\n\u001b[0;32m--> 104\u001b[0;31m     \u001b[0mdecision\u001b[0m \u001b[0;34m=\u001b[0m \u001b[0mdecision_paragraphs\u001b[0m\u001b[0;34m(\u001b[0m\u001b[0mfilename\u001b[0m\u001b[0;34m)\u001b[0m\u001b[0;34m[\u001b[0m\u001b[0;36m0\u001b[0m\u001b[0;34m]\u001b[0m\u001b[0;34m\u001b[0m\u001b[0;34m\u001b[0m\u001b[0m\n\u001b[0m\u001b[1;32m    105\u001b[0m     \u001b[0mfootnotes\u001b[0m \u001b[0;34m=\u001b[0m \u001b[0mdecision_paragraphs\u001b[0m\u001b[0;34m(\u001b[0m\u001b[0mfilename\u001b[0m\u001b[0;34m)\u001b[0m\u001b[0;34m[\u001b[0m\u001b[0;36m1\u001b[0m\u001b[0;34m]\u001b[0m\u001b[0;34m\u001b[0m\u001b[0;34m\u001b[0m\u001b[0m\n\u001b[1;32m    106\u001b[0m     \u001b[0mclean_decision\u001b[0m \u001b[0;34m=\u001b[0m \u001b[0;34m[\u001b[0m\u001b[0;34m]\u001b[0m\u001b[0;34m\u001b[0m\u001b[0;34m\u001b[0m\u001b[0m\n",
      "\u001b[0;32m/tmp/ipykernel_55529/3727323292.py\u001b[0m in \u001b[0;36mdecision_paragraphs\u001b[0;34m(filename)\u001b[0m\n\u001b[1;32m     47\u001b[0m     \u001b[0;31m# Find the first and last instances of the \"paragWrapper\" div\u001b[0m\u001b[0;34m\u001b[0m\u001b[0;34m\u001b[0m\u001b[0m\n\u001b[1;32m     48\u001b[0m     \u001b[0mfirst_div\u001b[0m \u001b[0;34m=\u001b[0m \u001b[0mdecision\u001b[0m\u001b[0;34m.\u001b[0m\u001b[0mfind\u001b[0m\u001b[0;34m(\u001b[0m\u001b[0;34m\"div\"\u001b[0m\u001b[0;34m,\u001b[0m \u001b[0mclass_\u001b[0m\u001b[0;34m=\u001b[0m\u001b[0;34m\"paragWrapper\"\u001b[0m\u001b[0;34m)\u001b[0m\u001b[0;34m\u001b[0m\u001b[0;34m\u001b[0m\u001b[0m\n\u001b[0;32m---> 49\u001b[0;31m     \u001b[0mlast_div\u001b[0m \u001b[0;34m=\u001b[0m \u001b[0mdecision\u001b[0m\u001b[0;34m.\u001b[0m\u001b[0mfind_all\u001b[0m\u001b[0;34m(\u001b[0m\u001b[0;34m\"div\"\u001b[0m\u001b[0;34m,\u001b[0m \u001b[0mclass_\u001b[0m\u001b[0;34m=\u001b[0m\u001b[0;34m\"paragWrapper\"\u001b[0m\u001b[0;34m)\u001b[0m\u001b[0;34m[\u001b[0m\u001b[0;34m-\u001b[0m\u001b[0;36m1\u001b[0m\u001b[0;34m]\u001b[0m\u001b[0;34m\u001b[0m\u001b[0;34m\u001b[0m\u001b[0m\n\u001b[0m\u001b[1;32m     50\u001b[0m \u001b[0;34m\u001b[0m\u001b[0m\n\u001b[1;32m     51\u001b[0m     \u001b[0mparagraphs\u001b[0m \u001b[0;34m=\u001b[0m \u001b[0;34m[\u001b[0m\u001b[0;34m]\u001b[0m\u001b[0;34m\u001b[0m\u001b[0;34m\u001b[0m\u001b[0m\n",
      "\u001b[0;31mIndexError\u001b[0m: list index out of range"
     ]
    }
   ],
   "source": [
    "for case in scc_2022:\n",
    "    compile_decision_text(case)"
   ]
  },
  {
   "cell_type": "markdown",
   "id": "d7825f68-7a8e-45e4-8957-7966bf7f8534",
   "metadata": {
    "tags": []
   },
   "source": [
    "### TXT to file\n",
    "The next set of functions sort and save the newly-created text files."
   ]
  },
  {
   "cell_type": "code",
   "execution_count": 4,
   "id": "d2e8b200-5e8c-4611-bcaf-890559190b05",
   "metadata": {
    "jupyter": {
     "source_hidden": true
    },
    "tags": []
   },
   "outputs": [],
   "source": [
    "def html_path_to_txt(filename: str) -> str:\n",
    "    file_path_list = filename.split(\"/\")\n",
    "    del file_path_list[2]\n",
    "    file_path_list.insert(2,\"txt\")\n",
    "    save_path = \"/\".join(file_path_list)\n",
    "    \n",
    "    save_path_corrected = save_path.split(\".\")\n",
    "    del save_path_corrected[-1]\n",
    "    save_path_corrected.append(\"txt\")\n",
    "    save_path_corrected = \".\".join(save_path_corrected)\n",
    "    \n",
    "    return save_path_corrected\n",
    "\n",
    "def export_to_file(clean_decision: list, filename: str):\n",
    "    '''\n",
    "    Saves a copy of the cleaned decision text to file.\n",
    "    '''\n",
    "    save_path_corrected = html_path_to_txt(filename)    \n",
    "    with open(save_path_corrected, \"w\") as f:\n",
    "        for paragraph in clean_decision:\n",
    "            try:\n",
    "                f.write(paragraph + \"\\n\")\n",
    "            except:\n",
    "                if paragraph:\n",
    "                    f.write(paragraph.text + \"\\n\")\n",
    "    \n",
    "    print(f\"Wrote {save_path_corrected}\")\n",
    "\n",
    "def export_all(jurisdiction_list: list):\n",
    "    '''\n",
    "    Takes file paths from the jurisdiction list and exports them to text en\n",
    "    masse.\n",
    "    '''\n",
    "    for court_list in jurisdiction_list:\n",
    "        for decision in court_list:\n",
    "            decision_text = compile_decision_text(decision)\n",
    "            decision_text_file = export_to_file(decision_text, decision)\n",
    "            "
   ]
  },
  {
   "cell_type": "markdown",
   "id": "32523006-75aa-4810-96a3-874d4c373df7",
   "metadata": {
    "tags": []
   },
   "source": [
    "### Text post-processing"
   ]
  },
  {
   "cell_type": "markdown",
   "id": "58044a71-01c1-427c-8736-56eed16eaca9",
   "metadata": {
    "tags": []
   },
   "source": [
    "#### Correcting fixed-width paragraphs\n",
    "Some of the HTML files converted to text were written with line breaks inside paragraph tags. When extracted, these line breaks make their way into the text files. These functions correct the affected files so that they can be more easily loaded into text classifier and NER functions later on. The correct_split_paragraphs function solves this problem by iterating through these files, removing intra-paragraph line breaks, and separating each newly-merged paragraph from the next with a single line space.\n",
    "\n",
    "HTML files susceptible to this problem are known to occur in the following jurisdiction lists:\n",
    "\n"
   ]
  },
  {
   "cell_type": "markdown",
   "id": "b5380571-7ad0-4cf0-a06e-a9360e73427d",
   "metadata": {
    "tags": []
   },
   "source": [
    "##### British Columbia\n",
    "* BCCA\n",
    "* BSCS\n",
    "* BCPC\n",
    "\n",
    "##### Saskatchewan\n",
    "* SKCA\n",
    "* SKKB\n",
    "* SKPC\n",
    "\n",
    "##### Manitoba\n",
    "* MBCA\n",
    "* MBKB\n",
    "\n",
    "##### Ontario\n",
    "* ONSC\n",
    "* ONCJ\n",
    "\n",
    "##### Quebec\n",
    "* QCCA\n",
    "* QCCQ\n",
    "\n",
    "##### New Brunswick\n",
    "* NBCA\n",
    "* NBPC\n",
    "\n",
    "##### Prince Edward Island\n",
    "* PESC\n",
    "\n",
    "##### Newfoundland & Labrador\n",
    "* NLSC\n",
    "* NLPC\n",
    "\n",
    "##### Yukon\n",
    "* YKTC\n"
   ]
  },
  {
   "cell_type": "code",
   "execution_count": 5,
   "id": "3a270813-05c9-4a11-9be2-04b9fd167b66",
   "metadata": {
    "jupyter": {
     "source_hidden": true
    },
    "tags": []
   },
   "outputs": [],
   "source": [
    "split_line_jurisdictions = [\"bcca\", \"bcsc\", \"bcpc\",\n",
    "                            \"skca\", \"skkb\", \"skpc\",\n",
    "                            \"mbca\", \"mbkb\",\n",
    "                            \"onsc\", \"oncj\",\n",
    "                            \"qcca\", \"qccq\",\n",
    "                            \"nbca\", \"nbpc\",\n",
    "                            \"pesc\",\n",
    "                            \"nlsc\", \"nlpc\",\n",
    "                            \"yktc\",]\n",
    "\n",
    "def create_split_lines():\n",
    "    '''\n",
    "    This function recreates the split line decisions.\n",
    "    '''\n",
    "    for jurisdiction in split_line_jurisdictions:\n",
    "        if jurisdiction in completed:\n",
    "            file_paths = completed[jurisdiction]\n",
    "            for file_path in file_paths:\n",
    "                clean_decision = compile_decision_text(file_path)\n",
    "                export_to_file(clean_decision, file_path)\n",
    "                print(f\"Wrote {file_path}\")\n",
    "\n",
    "def correct_split_paragraphs():\n",
    "\n",
    "    for jurisdiction in split_line_jurisdictions:\n",
    "        if jurisdiction in completed:\n",
    "            file_paths = completed[jurisdiction]\n",
    "            for file_path in file_paths:\n",
    "                text_file_path = html_path_to_txt(file_path)\n",
    "                \n",
    "                with open(text_file_path, 'r') as f:\n",
    "                    text = f.read()\n",
    "                \n",
    "                text = re.sub(r'(\\S)\\n(\\S)', r'\\1 \\2', text)\n",
    "                text = re.sub(r'\\n{2,}', '\\n', text)\n",
    "                \n",
    "                with open(text_file_path, 'w') as f:\n",
    "                    f.write(text)\n",
    "                    print(f\"Wrote {text_file_path}\")\n"
   ]
  },
  {
   "cell_type": "code",
   "execution_count": 204,
   "id": "5221a8eb-dcff-4a2a-a8f6-167a4f56e4d0",
   "metadata": {},
   "outputs": [],
   "source": [
    "#create_split_lines()\n",
    "#correct_split_paragraphs()"
   ]
  },
  {
   "cell_type": "markdown",
   "id": "265d6c1a-e23c-43c7-8cb2-b84bb4892965",
   "metadata": {
    "tags": []
   },
   "source": [
    "### Corpus construction\n",
    "Once the data is cleaned up, sorted out, and saved to file it needs to be added to the common corpus."
   ]
  },
  {
   "cell_type": "markdown",
   "id": "5058e5a7-513d-4d6a-ace3-d1487a8f63f6",
   "metadata": {
    "tags": []
   },
   "source": [
    "#### File amalgamation\n",
    "Reads disparate file contents into a single text file. The amalgamation is broken up into five different regions, as the full version was unwieldy on the equipment I tried compiling it on."
   ]
  },
  {
   "cell_type": "code",
   "execution_count": 29,
   "id": "4b8c8167-38ec-4452-99dc-518bb97906e5",
   "metadata": {
    "jupyter": {
     "source_hidden": true
    },
    "tags": []
   },
   "outputs": [],
   "source": [
    "# Federal\n",
    "directory_federal = [\"./canlii_crim_corpus/txt/2023/ca/scc\"]\n",
    "\n",
    "corpus_federal = \"./canlii_crim_corpus/canlii_crim_corpus_2023_01_fed.txt\"\n",
    "\n",
    "# Western Canada\n",
    "directories_west = [\"./canlii_crim_corpus/txt/2023/bc/ca\",\n",
    "                    \"./canlii_crim_corpus/txt/2023/bc/sc\",\n",
    "                    \"./canlii_crim_corpus/txt/2023/bc/pc\",\n",
    "                    \"./canlii_crim_corpus/txt/2023/ab/ca\",\n",
    "                    \"./canlii_crim_corpus/txt/2023/ab/kb\",\n",
    "                    \"./canlii_crim_corpus/txt/2023/ab/pc\",\n",
    "                    \"./canlii_crim_corpus/txt/2023/mb/ca\",\n",
    "                    \"./canlii_crim_corpus/txt/2023/mb/kb\",\n",
    "                    \"./canlii_crim_corpus/txt/2023/mb/pc\",]\n",
    "\n",
    "corpus_west = \"./canlii_crim_corpus/canlii_crim_corpus_2023_01_west.txt\"\n",
    "\n",
    "# Northern Canada\n",
    "directories_north = [\"./canlii_crim_corpus/txt/2023/yk/ca\",\n",
    "                     \"./canlii_crim_corpus/txt/2023/yk/sc\",\n",
    "                     \"./canlii_crim_corpus/txt/2023/yk/tc\",\n",
    "                     \"./canlii_crim_corpus/txt/2023/nt/ca\",\n",
    "                     \"./canlii_crim_corpus/txt/2023/nt/sc\",\n",
    "                     \"./canlii_crim_corpus/txt/2023/nt/tc\",\n",
    "                     \"./canlii_crim_corpus/txt/2023/nu/ca\",\n",
    "                     \"./canlii_crim_corpus/txt/2023/nu/cj\",]\n",
    "\n",
    "corpus_north = \"./canlii_crim_corpus/canlii_crim_corpus_2023_01_north.txt\"\n",
    "\n",
    "# Central Canada\n",
    "directories_central = [\"./canlii_crim_corpus/txt/2023/on/ca\",\n",
    "                       \"./canlii_crim_corpus/txt/2023/on/sc\",\n",
    "                       \"./canlii_crim_corpus/txt/2023/on/cj\",]\n",
    "\n",
    "corpus_central = \"./canlii_crim_corpus/canlii_crim_corpus_2023_01_central.txt\"\n",
    "\n",
    "# Eastrn Canada\n",
    "directories_east = [\"./canlii_crim_corpus/txt/2023/qc/ca\",\n",
    "                    \"./canlii_crim_corpus/txt/2023/qc/cs\",\n",
    "                    \"./canlii_crim_corpus/txt/2023/qc/cq\",\n",
    "                    \"./canlii_crim_corpus/txt/2023/nb/ca\",\n",
    "                    \"./canlii_crim_corpus/txt/2023/nb/kb\",\n",
    "                    \"./canlii_crim_corpus/txt/2023/nb/pc\",\n",
    "                    \"./canlii_crim_corpus/txt/2023/ns/ca\",\n",
    "                    \"./canlii_crim_corpus/txt/2023/ns/sc\",\n",
    "                    \"./canlii_crim_corpus/txt/2023/ns/pc\",\n",
    "                    \"./canlii_crim_corpus/txt/2023/pe/ca\",\n",
    "                    \"./canlii_crim_corpus/txt/2023/pe/sc\",\n",
    "                    \"./canlii_crim_corpus/txt/2023/pe/pc\",\n",
    "                    \"./canlii_crim_corpus/txt/2023/nl/ca\",\n",
    "                    \"./canlii_crim_corpus/txt/2023/nl/sc\",\n",
    "                    \"./canlii_crim_corpus/txt/2023/nl/pc\",]\n",
    "\n",
    "corpus_east = \"./canlii_crim_corpus/canlii_crim_corpus_2023_01_central.txt\"\n",
    "\n",
    "# Full corpus\n",
    "directories = [\"./canlii_crim_corpus/txt/2023/bc/ca\",\n",
    "               \"./canlii_crim_corpus/txt/2023/bc/sc\",\n",
    "               \"./canlii_crim_corpus/txt/2023/bc/pc\",\n",
    "               \"./canlii_crim_corpus/txt/2023/ab/ca\",\n",
    "               \"./canlii_crim_corpus/txt/2023/ab/kb\",\n",
    "               \"./canlii_crim_corpus/txt/2023/ab/pc\",\n",
    "               \"./canlii_crim_corpus/txt/2023/mb/ca\",\n",
    "               \"./canlii_crim_corpus/txt/2023/mb/kb\",\n",
    "               \"./canlii_crim_corpus/txt/2023/mb/pc\",\n",
    "               \"./canlii_crim_corpus/txt/2023/on/ca\",\n",
    "               \"./canlii_crim_corpus/txt/2023/on/sc\",\n",
    "               \"./canlii_crim_corpus/txt/2023/on/cj\",\n",
    "               \"./canlii_crim_corpus/txt/2023/qc/ca\",\n",
    "               \"./canlii_crim_corpus/txt/2023/qc/cs\",\n",
    "               \"./canlii_crim_corpus/txt/2023/qc/cq\",\n",
    "               \"./canlii_crim_corpus/txt/2023/nb/ca\",\n",
    "               \"./canlii_crim_corpus/txt/2023/nb/kb\",\n",
    "               \"./canlii_crim_corpus/txt/2023/nb/pc\",\n",
    "               \"./canlii_crim_corpus/txt/2023/ns/ca\",\n",
    "               \"./canlii_crim_corpus/txt/2023/ns/sc\",\n",
    "               \"./canlii_crim_corpus/txt/2023/ns/pc\",\n",
    "               \"./canlii_crim_corpus/txt/2023/pe/ca\",\n",
    "               \"./canlii_crim_corpus/txt/2023/pe/sc\",\n",
    "               \"./canlii_crim_corpus/txt/2023/pe/pc\",\n",
    "               \"./canlii_crim_corpus/txt/2023/nl/ca\",\n",
    "               \"./canlii_crim_corpus/txt/2023/nl/sc\",\n",
    "               \"./canlii_crim_corpus/txt/2023/nl/pc\",\n",
    "               \"./canlii_crim_corpus/txt/2023/yk/ca\",\n",
    "               \"./canlii_crim_corpus/txt/2023/yk/sc\",\n",
    "               \"./canlii_crim_corpus/txt/2023/yk/tc\",\n",
    "               \"./canlii_crim_corpus/txt/2023/nt/ca\",\n",
    "               \"./canlii_crim_corpus/txt/2023/nt/sc\",\n",
    "               \"./canlii_crim_corpus/txt/2023/nt/tc\",\n",
    "               \"./canlii_crim_corpus/txt/2023/nu/ca\",\n",
    "               \"./canlii_crim_corpus/txt/2023/nu/cj\",\n",
    "              ]\n",
    "\n",
    "corpus_file_full = \"./canlii_crim_corpus/canlii_crim_corpus_2023_01_full.txt\"\n"
   ]
  },
  {
   "cell_type": "code",
   "execution_count": 3,
   "id": "2a6876bf-84bc-442c-b756-691b6971995a",
   "metadata": {
    "jupyter": {
     "source_hidden": true
    },
    "tags": []
   },
   "outputs": [],
   "source": [
    "import os\n",
    "\n",
    "def generate_corpus(directories: list, corpus_file: str):\n",
    "    '''\n",
    "    Amalgamates the processed text files into a single corpus. Individual \n",
    "    decisions can still be distinguished by their file path in the corpus file\n",
    "    proper.\n",
    "    '''\n",
    "    contents = \"\"\n",
    "\n",
    "    for directory in directories:\n",
    "        for filename in os.listdir(directory):\n",
    "            # check if the file is a text file\n",
    "            if filename.endswith(\".txt\"):\n",
    "                # open the text file\n",
    "                with open(os.path.join(directory, filename), \"r\") as file:\n",
    "                    # read the contents of the text file\n",
    "                    file_contents = file.read()\n",
    "                    # add the contents of the text file to the contents string\n",
    "                    contents += file_contents\n",
    "    \n",
    "    if os.path.exists(corpus_file):\n",
    "        os.remove(corpus_file)\n",
    "    \n",
    "    with open(corpus_file, \"w\") as outfile:\n",
    "        outfile.write(contents)\n",
    "        print(f\"Wrote the corpus to {corpus_file}\")\n"
   ]
  },
  {
   "cell_type": "code",
   "execution_count": 30,
   "id": "abafa6a7-a433-488b-86ef-08e80e6ade77",
   "metadata": {},
   "outputs": [
    {
     "name": "stdout",
     "output_type": "stream",
     "text": [
      "Wrote the corpus to ./canlii_crim_corpus/canlii_crim_corpus_2023_01_fed.txt\n"
     ]
    }
   ],
   "source": [
    "generate_corpus(directory_federal, corpus_federal)"
   ]
  },
  {
   "cell_type": "markdown",
   "id": "e82f9531-7760-4717-9204-809c6204f3f4",
   "metadata": {
    "tags": []
   },
   "source": [
    "#### Tokenization\n",
    "Once the corpora are properly assembled into text files, the next step is to tokenize them so that they can be examined using spaCy."
   ]
  },
  {
   "cell_type": "code",
   "execution_count": null,
   "id": "69528d81-0704-4387-9c4e-bc68a8f95a69",
   "metadata": {
    "jupyter": {
     "source_hidden": true
    },
    "tags": []
   },
   "outputs": [],
   "source": [
    "with open(corpus_federal, \"r\") as f:\n",
    "    text = f.read()\n",
    "    doc = nlp(text)"
   ]
  },
  {
   "cell_type": "code",
   "execution_count": null,
   "id": "1eb00473-4dda-4a6e-9105-470c38abcaa0",
   "metadata": {
    "jupyter": {
     "source_hidden": true
    },
    "tags": []
   },
   "outputs": [],
   "source": [
    "with open(\"./canlii_crim_corpus/canlii_crim_corpus_2023_01_west_n.bin\", \"wb\") as file:\n",
    "    file.write(doc.to_bytes())"
   ]
  },
  {
   "cell_type": "markdown",
   "id": "dfc82b7f-e4e2-41e0-8ad8-ef30479f3145",
   "metadata": {
    "tags": []
   },
   "source": [
    "## Feature extraction"
   ]
  },
  {
   "cell_type": "markdown",
   "id": "c7e7c57e-5b52-4188-b449-dfae71f9e9ef",
   "metadata": {},
   "source": [
    "### Citations\n",
    "\n",
    "Citations are an important part of a reported case. They signify *stare decisis*, and in **most** cases imply that the words or axioms cited are true and authoritative. Identifying citations inside a reported case is a key step to understanding its internal logic. And because citations are lexicgraphically distinct from all other tokens in a reported decision, they make for a good subject for early experiments with named entity recognition (NER).\n"
   ]
  },
  {
   "cell_type": "markdown",
   "id": "5d017856-73f5-4fdb-8234-32bfb8903c7c",
   "metadata": {},
   "source": [
    "#### ner_citations_v1\n",
    "\n",
    "Version 1 uses three labels to identify citations as **case citations**, **statute citations**, or **other citations** (books, journal articles, factums, etc.). It treats full citations and citation fragments as fundamentally the same entities.\n",
    "\n",
    "##### Labels\n",
    "\n",
    "* CASE_CITATION\n",
    "* STATUTE_CITATION\n",
    "* OTHER_CITATION\n",
    "\n",
    "##### Corpus\n",
    "\n",
    "* [canlii_crim_corpus_2023_01_west_n.txt](canlii_crim_corpus/canlii_crim_corpus_2023_01_west_n.txt)\n",
    "* Same as [canlii_crim_corpus_2023_01_west.txt](canlii_crim_corpus/canlii_crim_corpus_2023_01_west.txt), but with some manual formatting\n",
    "\n",
    "##### Sample size & dimensions\n",
    "\n",
    "* Size: 1468 lines/paragraphs\n",
    "* Cases used:\n",
    "  * *R v Campbell*, 2023 BCCA 19\n",
    "  * *R v Kehoe*, 2023 BCCA 2\n",
    "  * *R v Zsombor*, 2023 BCCA 37\n",
    "  * *R v Kooner*, 2023 BCCA 8\n",
    "  * *R v Mohsenipour*, 2023 BCCA 6\n",
    "  * *R v Wilkinson*, 2023 BCCA 3\n",
    "  * *R v PRJ*, 2023 BCCA 13\n",
    "  * *R v Armstrong*, 2023 BCCA 50\n",
    "  * *R v Clayton*, 2023 BCCA 33\n",
    "  * *R v Prins*, 2023 BCCA 4\n",
    "  * *R v Richardson*, 2023 BCCA 29 \n",
    "  \n",
    "##### Efficacy\n",
    "\n",
    "The model claims accuracy scores up to 82% after training on just under 1500 cases consisting of about 82,350 words. Field accuracy leaves much to be desired, though, as the model has a great deal of difficulty correctly identifying citation fragments (eg. \"at para 34\", \"p. 708\", etc).\n",
    "\n",
    "The sample output is from a case I argued a few years back. \n"
   ]
  },
  {
   "cell_type": "markdown",
   "id": "a95a22a8-2b44-4b36-940a-0f6dd523ee97",
   "metadata": {},
   "source": [
    "#### span_citations_min_v1\n"
   ]
  },
  {
   "cell_type": "code",
   "execution_count": null,
   "id": "69d62a66-54c4-4b90-870c-d18b2cca0e4c",
   "metadata": {},
   "outputs": [],
   "source": []
  },
  {
   "cell_type": "code",
   "execution_count": 6,
   "id": "ed2d2af1-8b15-47ef-b420-0640b10b94ee",
   "metadata": {},
   "outputs": [],
   "source": [
    "import spacy\n",
    "from spacy import displacy"
   ]
  },
  {
   "cell_type": "code",
   "execution_count": 11,
   "id": "d66c5228-5d2c-4659-9c90-aa699f39b7b3",
   "metadata": {},
   "outputs": [],
   "source": [
    "with open(\"./data/training_data/2023onca150.txt\") as file:\n",
    "    sample_decision = file.read()"
   ]
  },
  {
   "cell_type": "code",
   "execution_count": 12,
   "id": "a3c1183d-dbb3-4bcb-8e40-030e99c7869b",
   "metadata": {
    "tags": []
   },
   "outputs": [
    {
     "data": {
      "text/html": [
       "<span class=\"tex2jax_ignore\"><div class=\"entities\" style=\"line-height: 2.5; direction: ltr\"> 2023 ONCA 150 (CanLII) | R. v. Sandhu | CanLII Home › Ontario › Court of Appeal for Ontario › 2023 ONCA 150 (CanLII) Loading paragraph markers R. v. Sandhu, 2023 ONCA 150 (CanLII) Document History Cited documents (11) Treatment CanLII Connects PDF Date: 2023-03-02 File number: C69477 Citation: R. v. Sandhu, 2023 ONCA 150 (CanLII), &lt;https://canlii.ca/t/jvwm5&gt;, retrieved on 2023-03-05 Legislation \n",
       "<mark class=\"entity\" style=\"background: #ddd; padding: 0.45em 0.6em; margin: 0 0.25em; line-height: 1; border-radius: 0.35em;\">\n",
       "    Criminal Code, RSC 1985, c C-46\n",
       "    <span style=\"font-size: 0.8em; font-weight: bold; line-height: 1; border-radius: 0.35em; vertical-align: middle; margin-left: 0.5rem\">STATUTE</span>\n",
       "</mark>\n",
       "; 271 — 486.4(1) — 486.4(2) — 486.4(2.1) — 486.4(2.2) — 486.4(3) — 486.4(4) — 486.6(1) — 486.6(2) — 601(4.1) Private Investigators and Security Guards Act, RSO 1990, c P.25 Decisions 1953-12-18 Binet v. The Queen, 1953 CanLII 69 (SCC), [1954] SCR 52 1979-06-14 Maxwell v. R., 1979 CanLII 47 (SCC), [1979] 2 SCR 1072 1990-06-07 R. v. B. (G.), 1990 CanLII 7308 (SCC), [1990] 2 SCR 30 2007-12-13 R. v. Daley, 2007 SCC 53 (CanLII), [2007] 3 SCR 523 2022-06-10 R. v. Goforth, 2022 SCC 25 (CanLII) 2017-06-15 R. v. Newton, 2017 ONCA 496 (CanLII) 2017-11-20 R. v. S.M., 2017 ONCA 878 (CanLII) 2021-12-20 R. v. Sanclemente, 2021 ONCA 906 (CanLII) 1995-04-11 R. v. Tarnovsky, 1995 CanLII 381 (ON CA) Citations Discussions Unfavourable mentions Expanded Collapsed WARNING The President of the panel hearing this appeal directs that the following should be attached to the file: An order restricting publication in this proceeding under \n",
       "<mark class=\"entity\" style=\"background: #ddd; padding: 0.45em 0.6em; margin: 0 0.25em; line-height: 1; border-radius: 0.35em;\">\n",
       "    ss. 486.4(1)\n",
       "    <span style=\"font-size: 0.8em; font-weight: bold; line-height: 1; border-radius: 0.35em; vertical-align: middle; margin-left: 0.5rem\">SECTION</span>\n",
       "</mark>\n",
       ", (2), (2.1), (2.2), (3) or (4) or 486.6(1) or (2) of the \n",
       "<mark class=\"entity\" style=\"background: #ddd; padding: 0.45em 0.6em; margin: 0 0.25em; line-height: 1; border-radius: 0.35em;\">\n",
       "    Criminal Code\n",
       "    <span style=\"font-size: 0.8em; font-weight: bold; line-height: 1; border-radius: 0.35em; vertical-align: middle; margin-left: 0.5rem\">STATUTE</span>\n",
       "</mark>\n",
       " shall continue. These sections of the \n",
       "<mark class=\"entity\" style=\"background: #ddd; padding: 0.45em 0.6em; margin: 0 0.25em; line-height: 1; border-radius: 0.35em;\">\n",
       "    Criminal Code\n",
       "    <span style=\"font-size: 0.8em; font-weight: bold; line-height: 1; border-radius: 0.35em; vertical-align: middle; margin-left: 0.5rem\">STATUTE</span>\n",
       "</mark>\n",
       " provide: 486.4(1) Subject to subsection (2), the presiding judge or justice may make an order directing that any information that could identify the victim or a witness shall not be published in any document or broadcast or transmitted in any way, in proceedings in respect of (a) any of the following offences; (i) an offence under \n",
       "<mark class=\"entity\" style=\"background: #ddd; padding: 0.45em 0.6em; margin: 0 0.25em; line-height: 1; border-radius: 0.35em;\">\n",
       "    section 151, 152, 153, 153.1, 155, 160, 162, 163.1, 170, 171, 171.1, 172, 172.1, 172.2, 173, 213, 271, 272, 273, 279.01, 279.011, 279.02, 279.03, 280, 281, 286.1, 286.2, 286.3, 346 or 347, or (ii) any offence under this\n",
       "    <span style=\"font-size: 0.8em; font-weight: bold; line-height: 1; border-radius: 0.35em; vertical-align: middle; margin-left: 0.5rem\">SECTION</span>\n",
       "</mark>\n",
       " Act, as it read from time to time before the day on which this subparagraph comes into force, if the conduct alleged would be an offence referred to in subparagraph (i) if it occurred on or after that day; or (b) two or more offences being dealt with in the same proceeding, at least one of which is an offence referred to in paragraph (a). (2) In proceedings in respect of the offences referred to in paragraph (1)(a) or (b), the presiding judge or justice shall (a) at the first reasonable opportunity, inform any witness under the age of eighteen years and the victim of the right to make an application for the order; and (b) on application made by the victim, the prosecutor or any such witness, make the order. (2.1) Subject to subsection (2.2), in proceedings in respect of an offence other than an offence referred to in subsection (1), if the victim is under the age of 18 years, the presiding judge or justice may make an order directing that any information that could identify the victim shall not be published in any document or broadcast or transmitted in any way. (2.2) In proceedings in respect of an offence other than an offence referred to in subsection (1), if the victim is under the age of 18 years, the presiding judge or justice shall (a) as soon as feasible, inform the victim of their right to make an application for the order; and (b) on application of the victim or the prosecutor, make the order. (3) In proceedings in respect of an offence under \n",
       "<mark class=\"entity\" style=\"background: #ddd; padding: 0.45em 0.6em; margin: 0 0.25em; line-height: 1; border-radius: 0.35em;\">\n",
       "    section 163.1\n",
       "    <span style=\"font-size: 0.8em; font-weight: bold; line-height: 1; border-radius: 0.35em; vertical-align: middle; margin-left: 0.5rem\">SECTION</span>\n",
       "</mark>\n",
       ", a judge or justice shall make an order directing that any information that could identify a witness who is under the age of eighteen years, or any person who is the subject of a representation, written material or a recording that constitutes child pornography within the meaning of that section, shall not be published in any document or broadcast or transmitted in any way. (4) An order made under this \n",
       "<mark class=\"entity\" style=\"background: #ddd; padding: 0.45em 0.6em; margin: 0 0.25em; line-height: 1; border-radius: 0.35em;\">\n",
       "    section does not apply in respect of the disclosure\n",
       "    <span style=\"font-size: 0.8em; font-weight: bold; line-height: 1; border-radius: 0.35em; vertical-align: middle; margin-left: 0.5rem\">SECTION</span>\n",
       "</mark>\n",
       " of information in the course of the administration of justice when it is not the purpose of the disclosure to make the information known in the community. 486.6(1) Every person who fails to comply with an order made under any of subsections 486.4(1) to (3) or subsection 486.5(1) or (2) is guilty of an offence punishable on summary conviction. (2) For greater certainty, an order referred to in subsection (1) applies to prohibit, in relation to proceedings taken against any person who fails to comply with the order, the publication in any document or the broadcasting or transmission in any way of information that could identify a victim, witness or justice system participant whose identity is protected by the order. COURT OF APPEAL FOR ONTARIO CITATION: R. v. Sandhu, 2023 ONCA 150 DATE: 20230302 DOCKET: C69477 Simmons, Lauwers and Zarnett JJ.A. BETWEEN His Majesty the King Respondent and Dhandev Sandhu Appellant Jessica Zita, for the appellant Catherine Weiler, for the respondent Heard: February 23, 2023 On appeal from the conviction entered on March 3, 2020 by Justice Joseph M. Fragomeni of the Superior Court of Justice, sitting with a jury. REASONS FOR DECISION Overview [1] The appellant was convicted by a jury of sexual assault against the complainant when she was a teenager. The timeframe specified in the indictment was between August 1, 2000, and October 31, 2003. [2] The case turned on the credibility of the complainant and the appellant, both of whom testified. The appeal was initially couched as a challenge to the adequacy of the jury charge on the issue of the timeframe of the offence. However, during oral argument, counsel for the appellant largely resiled from this ground of appeal. She instead argued that the trial judge failed to adequately caution the jury respecting a prior inconsistent statement made by the complainant under oath. Regardless of how the argument is framed, what the appellant really does is invite this court to retry the case. That is not our function. [3] After hearing oral argument, we dismissed the appeal with reasons to follow. These are those reasons. In a nutshell, the credibility issues were large, obvious and well laid out for the jury in the stark differences between the testimony of the complainant and the appellant, in the other evidence, in the jury addresses, and in the jury instructions. There is no possibility that the jury could have misunderstood its role and function or how it was to assess the evidence. The Complainant’s Version of Events [4] The complainant testified that she moved into the basement apartment of the appellant’s home along with her mother and younger brother in 2001. The family had recently returned from the complainant’s sister’s wedding celebration in India. The celebration turned acrimonious and caused her parents to separate. The complainant was 13 or 14 years old at the time, and the appellant was 36. The complainant and appellant would drive to a gym together. While a passenger in the appellant’s vehicle, the appellant would kiss the complainant and touch her breasts and legs. The complainant testified that this happened four or five times, ceasing only when she stopped going to the gym. [5] A few days after their last gym trip, the appellant came down to the basement apartment where the complainant was alone. The appellant kissed her, held her down on the bed, and initiated penetrative intercourse with her. He stopped when his wife called for him from upstairs. The appellant told the complainant that this was their secret, and she should not tell anybody. The complainant told her mother what happened that same day. She told her mother she no longer wanted to live there, and she moved in with her aunt and uncle. The complainant’s mother dissuaded her from reporting the incident to the police. The Appellant’s Version of Events [6] The appellant denied any sexual contact with the complainant. His evidence was that the complainant never lived in his house with him, and he did not know her well. The appellant testified that he only met the complainant’s mother in 2002. In 2003, he and the mother started a truck driving school together. He testified that he met the complainant for the first time at the inauguration of the driving school, which officially opened in November 2003. The appellant testified that the mother’s marriage ended in 2004. The mother and her son moved into the appellant’s basement for a week or two, but the complainant, who was then 16 or 17, was not with them. He testified that his relationship with the complainant’s mother became romantic in 2004. In 2009 their romantic and business relationships ended and the mother sued the appellant for almost $400,000. The litigation was not resolved when the complainant’s mother died in 2016. The Credibility Challenge [7] The appellant challenged the complainant’s credibility based on an affidavit in the family proceeding between her parents in which she adopted statements in her mother’s affidavit that her parents had separated in 2004, not in 2001 as she had testified at trial. The appellant had and took full opportunity to cross-examine the complainant on this issue and on several other issues, including: where she lived after leaving the residence of her aunt and uncle; where she worked; whether she was licensed at 16 years old, as she claimed, under the Private Investigators and Security Guards Act, R.S.O. 1990, c. P.25, which required her to be 18 years old; and whether the complaint was simply a continuation of her deceased mother’s vendetta against the appellant. [8] The complainant explained the discrepancy between her trial evidence and the affidavit. She testified that she did not read her affidavit, which she had sworn under oath and was simply following her mother’s lead. Further, the complainant’s testimony about the assault was supported by the testimony of her then best friend, who testified that the complainant disclosed the abuse to her at the time the complainant said it occurred. The complainant was able to give a clear description of the appellant’s house and his car, which rendered implausible the appellant’s testimony that she never lived with him. The appellant does not contest the admissibility of any of this evidence. [9] The defence position at trial is set out in the appellant’s factum: The [family law] affidavit was compelling evidence in support of the Appellant’s testimony – that the complainant’s parents had not separated until 2004. K.L. would have been 16-17 rather than 14 years old. This was consistent with the complainant’s inability to articulate where she resided for the remainder of her high school years, including her evidence that she may have lived alone in a basement apartment after moving out of her aunt and uncle’s residence – an unlikely proposition for a 15-year-old. The defence position was that the sexual assaults not only did not happen, but also that they could not have happened, as K.L. was still residing with both her parents in the matrimonial home during the relevant period of 2000-2003. [Emphasis original.] [10] As noted, the appellant’s position at trial was extensively explored in the evidence, in the cross-examinations, in the jury submissions and in the trial judge’s jury instructions. The jury plainly accepted the complainant’s version of events. Were the Jury Instructions Adequate? [11] The Crown agrees with the position that the appellant took in his factum that the timeframe of the offence specified in the indictment was critical to the defence, and that the Crown was required to prove that the offence occurred within that timeframe. The Crown also agrees with the appellant that “[t]he trial judge must instruct the jury that it can convict only if the Crown has proven beyond a reasonable doubt that the offence occurred within the timeframe specified in the indictment,” citing R. v. B.(G.), 1990 CanLII 7308 (SCC), [1990] 2 S.C.R. 30, at paras. 41-45; R. v. Tarnovsky (1995), 1995 CanLII 381 (ON CA), 98 C.C.C. (3d) 168 (Ont. C.A.), at paras. 10, 12 and 20, leave to appeal refused, [1995] S.C.C.A. No. 269; R. v. S.M., 2017 ONCA 878, at paras. 12, 15; and the \n",
       "<mark class=\"entity\" style=\"background: #ddd; padding: 0.45em 0.6em; margin: 0 0.25em; line-height: 1; border-radius: 0.35em;\">\n",
       "    Criminal Code\n",
       "    <span style=\"font-size: 0.8em; font-weight: bold; line-height: 1; border-radius: 0.35em; vertical-align: middle; margin-left: 0.5rem\">STATUTE</span>\n",
       "</mark>\n",
       ", \n",
       "<mark class=\"entity\" style=\"background: #ddd; padding: 0.45em 0.6em; margin: 0 0.25em; line-height: 1; border-radius: 0.35em;\">\n",
       "    s. 601(4.1)\n",
       "    <span style=\"font-size: 0.8em; font-weight: bold; line-height: 1; border-radius: 0.35em; vertical-align: middle; margin-left: 0.5rem\">SECTION</span>\n",
       "</mark>\n",
       ". [12] The appellant argued in his factum that the trial judge failed to adequately charge the jury on timing as an essential element of the offence. In oral argument, the appellant’s counsel took a different tack based almost entirely on the trial judge’s treatment of the inconsistency between the complainant’s trial evidence and her sworn statement in the affidavit in the family proceeding in 2006 about when her parents separated. Was it in 2001 as she said at trial, or was it in 2004 as she swore in her affidavit? The Text of the Charge [13] In his charge to the jury, the trial judge instructed: Mr. Sandhu is charged with sexual assault, and the charge reads as follows: That he, between the 1st day of August, 2000 and the 31st day of October, 2003 at the City of Brampton in the Central West Region, did commit a sexual assault of [the complainant] contrary to \n",
       "<mark class=\"entity\" style=\"background: #ddd; padding: 0.45em 0.6em; margin: 0 0.25em; line-height: 1; border-radius: 0.35em;\">\n",
       "    Section 271\n",
       "    <span style=\"font-size: 0.8em; font-weight: bold; line-height: 1; border-radius: 0.35em; vertical-align: middle; margin-left: 0.5rem\">SECTION</span>\n",
       "</mark>\n",
       " of the \n",
       "<mark class=\"entity\" style=\"background: #ddd; padding: 0.45em 0.6em; margin: 0 0.25em; line-height: 1; border-radius: 0.35em;\">\n",
       "    Criminal Code\n",
       "    <span style=\"font-size: 0.8em; font-weight: bold; line-height: 1; border-radius: 0.35em; vertical-align: middle; margin-left: 0.5rem\">STATUTE</span>\n",
       "</mark>\n",
       " of Canada. You must find Mr. Sandhu not guilty of sexual assault unless the crown has proved beyond a reasonable doubt that Mr. Sandhu is the person who committed the offence on the date and in the place described in the indictment. The crown must prove each of the following essential elements of the offence beyond a reasonable doubt: 1. That Dhandev Sandhu touched [the complainant] directly or indirectly. 2. That the touching by Dhandev Sandhu was intentional. 3. That the touching by Dhandev Sandhu took place in circumstances of a sexual nature. 4. That [the complainant] did not consent to the sexual activity in question, and that Dhandev Sandhu knew that [the complainant] did not consent to the sexual activity in question. [14] The appellant does not dispute the correctness of this portion of the charge on appeal. [15] At the end of the first day of jury instructions, defence counsel asked for a further instruction or reminder to the jury that the timeframe itself had to be proven beyond a reasonable doubt, submitting that the timeframe had been obscured by the instruction on the elements of the offence, which did not include the timeframe. As he put it, the timeframe issue was “buried under the elements”. The trial judge agreed that the timeframe was “critical” to the defence and agreed to provide a further explanation in the charge. [16] On the second day of jury instructions, the trial judge acceded to defence counsel’s concern. He summarized the defence position and explained the defence challenge to the complainant’s evidence on timing in these words: The indictment that you will have, it will go in with you, the formal charge, sets out that Mr. Sandhu committed the offence from the dates August 1st, 2000 to October 21st, [sic] 2003. [The complainant’s] testimony is that it happened in July of 2001, after the marriage of her sister in India. She testified that her sister’s marriage took place in July of 2001, and in that same month she and her mother came back to Canada, and that is when her parents separated from her father. [sic] The defence points you to Exhibit Number 1, which is the affidavit sworn by [the complainant] on July 18th, 2006 at which time she adopted the contents of her mother’s affidavit which stated that the separation was on February the 20th, 2006. [sic] The defence also points you to [the complainant’s] testimony that the reason for them living in Mr. Sandhu’s basement was that her mom and dad had separated in 2001. The defence submits that this is a significant inconsistency. [17] The trial judge then provided an additional reminder of the timeframe issue before introducing the decision tree: I just want to indicate to you, as I indicated to you earlier, you must find Dhandev Sandhu not guilty of sexual assault unless the Crown has proven beyond a reasonable doubt that he is the person who committed the offence on the date and in the place described in the indictment, that is between August of 2000 to October 31st, 2003. That is the time period set out in the indictment. In this case the defence advanced by Mr. Sandhu is that the allegations are a fabrication. The defence is that the events alleged to form the basis of the crime charged never took place. So in this case the date of the allegations as set out in the indictment, considering the position put forward by the defence, is an issue and as such, the Crown must prove that the offence occurred within the timeframe indicated in the indictment. [18] The defence at trial did not object to the terms of the re-charge nor to the absence of the dates on the decision tree. [19] In addition to providing a standard instruction on how the jury should use prior inconsistent statements when assessing credibility, as noted in para. 16 above, the trial judge, in reviewing the defence position, highlighted the defence view that the inconsistency between the affidavit and the complainant’s testimony at trial was significant. Analysis [20] In oral argument, counsel for the appellant argued that when a witness is confronted with a prior inconsistent statement made under oath, the trial judge should instruct the jury to take the credibility challenge especially seriously because the inconsistency may indicate a disregard for the solemnity of the oath or affirmation. Counsel did not refer to legal authority for the proposition. The trial judge did not provide such an instruction, nor did defence counsel request that he do so. It might be inferred that defence counsel was content with his own jury address, which reviewed at length the difference between the complainant’s trial evidence and the affidavit as a reason for reasonably doubting the complainant’s testimony, and with the trial judge’s restatement of the defence position, which also covered the issue. [21] As noted, appellant’s counsel provided no authority that a special instruction was required. In the colloquy with the court, Crown counsel noted that in David Watt, Watt’s Manual of Criminal Jury Instructions, 2nd ed. (Toronto: Carswell, 2015) (Final 25-A), there is no such instruction. The appellant’s counsel then accessed electronically the Model Jury Instructions published by the Canadian Judicial Council, which contain this note: (When the prior statement is under oath (e.g., preliminary inquiry or under oath at police station).) If you conclude that a witness has given significantly different versions of the same story while under oath, you should evaluate that witness’s testimony very carefully, as this may suggest that the witness does not take the oath seriously. [22] This statement is footnoted: There may be circumstances when this instruction should be strengthened. For example, when a principal Crown witness’s testimony on a vital issue conflicts with his or her earlier sworn statement, it may be appropriate to tell the jury that it is dangerous to rely on the witness’s evidence. See: Binet v. The Queen, 1953 CanLII 69 (SCC), [1954] S.C.R. 52 at 54. Also, R. v. Maxwell, 1979 CanLII 47 (SCC), [1979] 2 S.C.R. 1072.[1] [23] The judicial discretion connoted by the words, “it may be appropriate to tell the jury”, is supported by the Supreme Court’s decision in R. v. Maxwell, 1979 CanLII 47 (SCC), [1979] 2 S.C.R. 1072. In a split decision, the court limited the mandatory application of the instruction to the evidence of an accomplice who testified on a critical issue. [24] Further research reveals that the Canadian Criminal Jury Instructions (CRIMJI) takes a similar approach as the NJI and provides a lengthier instruction for an out-of-court statement given under an oath or by way of affirmation: As the previous statement of [the witness] was given under oath (or by way of affirmation), I should give you a special warning about (his/her/their) evidence. As I said earlier, it is up to you to decide whether or not the out-of-court statement is inconsistent with the evidence which [the witness] gave here in this courtroom. But it would be very dangerous for you to accept [the witness’s] testimony if you decide this previous sworn (or affirmed) statement is inconsistent with the sworn evidence [the witness] gave here to you, unless you are satisfied with [the witness’s] explanation. The reason for this is straightforward: where a witness tells inconsistent stories under oath (or by way of affirmation) at different times, it indicates that the witness does not take a solemn oath (or affirmation) very seriously.[2] [25] A footnote to the instruction states: Given that this rule is unsettled, it would probably be prudent to give this warning in any case where a Crown witness has given a prior sworn statement which is inconsistent with their testimony at trial and which appears to touch on a vital issue. Note that the majority in Maxwell did not suggest that it would be an error to give the warning with respect to the evidence of a witness who was not an accomplice. [26] An instruction highlighting the significance of a prior inconsistent statement given under oath was not mandatory in this case and was not sought by the defence at trial, even though giving such an instruction in this and similar cases would not be an error. That said, where the content of an instruction is not mandatory, the appeal cannot turn on a point that was not argued before the trial judge. Moreover, there can be no doubt that the jury was fully alive to the credibility issue posed by the difference between the complainant’s trial evidence and her prior inconsistent sworn statement. We find that the jury instructions satisfied the functional requirements expected of jury instructions: R v. Newton, 2017 ONCA 496, 349 C.C.C. (3d) 508, at para. 11; R. v. Goforth, 2022 SCC 25, 470 D.L.R. (4th) 617, at paras. 20-22; R. v. Daley, 2007 SCC 53, [2007] 3 S.C.R. 523, at para. 31; R. v. Sanclemente, 2021 ONCA 906, 408 C.C.C. (3d) 429, at paras. 156-157. [27] The instructions made it very clear that whether the offence occurred within the timeframe was a factual issue for the jury to decide. They underscored that the Crown had to prove that the offence occurred within the timeframe specified, and they addressed the credibility questions relating to the issue of the timeframe and the difference between the complainant’s trial evidence and her prior inconsistent sworn statement. [28] The essential elements of the offence and defence position were adequately conveyed in the jury instructions. In particular, the instructions covered the two main evidentiary points on timing raised by the defence: that the complainant’s mother moved into the appellant’s house in 2004, not in 2001, as the complainant asserted; and that her parents did not separate until 2004, as the complainant asserted in her affidavit in the 2006 family proceedings, rather than in 2001, as she testified at trial. There is no possibility that the jury misunderstood its responsibility to decide that credibility issue in light of the major and glaring discrepancies in the evidence of the complainant and the appellant. The jury accepted the complainant’s evidence as it was entitled to do. The trial was undoubtedly fair. We decline the appellant’s invitation to retry the case. [29] The appeal is dismissed. “Janet Simmons J.A.” “P. Lauwers J.A.” “B. Zarnett J.A.” [1] The Canadian Judicial Council, “Model Jury Instructions”, online: National Judicial Institute &lt;https://www.nji-inm.ca/index.cfm/publications/ model-jury-instructions/?langSwitch=en&gt; (the “NJI Model Instructions”) , 11.10 Prior Inconsistent Statements of Non-accused Witness (Credibility). [2] Gerry A. Ferguson, The Honourable Justice Michael R. Dambrot &amp; The Honourable Justice Elizabeth A. Bennet, Canadian Criminal Jury Instructions loose-leaf (December 2022 update), (Vancouver: Continuing Legal Education Society of British Columbia, 2005), at § 54.7. Back to top ABOUT What is CanLII Board of Directors Contact Us INFORMATION Terms of Use Privacy Policy Primary Law Databases CanLII Authors Program TOOLS RSS Feeds APIs Lexbox HELP Frequently Asked Questions Search Help Reflex Citator Legislation Help CanLII Guides Follow us DarkLII By </div></span>"
      ],
      "text/plain": [
       "<IPython.core.display.HTML object>"
      ]
     },
     "metadata": {},
     "output_type": "display_data"
    }
   ],
   "source": [
    "# Sample v1 output\n",
    "\n",
    "nlp = spacy.load(\"./models/ner_legislation_min_v1//model-last/\")\n",
    "doc = nlp(sample_decision)\n",
    "displacy.render(doc, style='ent')"
   ]
  },
  {
   "cell_type": "markdown",
   "id": "99437ad5-de5b-470b-b6a3-6176c2b6dabd",
   "metadata": {},
   "source": [
    "## Model development"
   ]
  },
  {
   "cell_type": "markdown",
   "id": "d0a03ce7-4d29-4708-a448-1615eb53f63f",
   "metadata": {
    "tags": []
   },
   "source": [
    "#### ner_citations_v2\n",
    "\n",
    "V2 uses ten labels to describe the same three general citation classes as V1. It treats full citations and citation fragments as different entities.\n",
    "\n",
    "##### Lables\n",
    "\n",
    "* Cases\n",
    "    * CASE_CITATION\n",
    "    * CASE_PINPOINT\n",
    "    * CASE_SHORTFORM\n",
    "    * CASE_HISTORY\n",
    "* Statutes\n",
    "    * STATUTE_CITATION\n",
    "    * STATUTE_PINPOINT\n",
    "    * STATUTE_SHORTFORM\n",
    "* Other\n",
    "    * OTHER_CITATION\n",
    "    * OTHER_PINPOINT\n",
    "    * OTHER_SHORTFORM\n",
    "    \n",
    "##### Efficacy\n",
    "\n",
    "The model began claiming accuracy scores up to 83% after training on just a few hundred paragraphs, and was more accurate on random unlabelled samples than the more fully-trained V1."
   ]
  },
  {
   "cell_type": "code",
   "execution_count": null,
   "id": "e012d991-fb4b-4486-b32a-f404fa12495b",
   "metadata": {
    "collapsed": true,
    "jupyter": {
     "outputs_hidden": true
    },
    "tags": []
   },
   "outputs": [
    {
     "ename": "ValueError",
     "evalue": "[E030] Sentence boundaries unset. You can add the 'sentencizer' component to the pipeline with: `nlp.add_pipe('sentencizer')`. Alternatively, add the dependency parser or sentence recognizer, or set sentence boundaries by setting `doc[i].is_sent_start`.",
     "output_type": "error",
     "traceback": [
      "\u001b[0;31m---------------------------------------------------------------------------\u001b[0m",
      "\u001b[0;31mValueError\u001b[0m                                Traceback (most recent call last)",
      "\u001b[0;32m/tmp/ipykernel_12298/497719562.py\u001b[0m in \u001b[0;36m<module>\u001b[0;34m\u001b[0m\n\u001b[1;32m      5\u001b[0m \u001b[0mnlp\u001b[0m \u001b[0;34m=\u001b[0m \u001b[0mspacy\u001b[0m\u001b[0;34m.\u001b[0m\u001b[0mload\u001b[0m\u001b[0;34m(\u001b[0m\u001b[0;34m\"./models/texcat_firac_v1/model-last/\"\u001b[0m\u001b[0;34m)\u001b[0m\u001b[0;34m\u001b[0m\u001b[0;34m\u001b[0m\u001b[0m\n\u001b[1;32m      6\u001b[0m \u001b[0mdoc\u001b[0m \u001b[0;34m=\u001b[0m \u001b[0mnlp\u001b[0m\u001b[0;34m(\u001b[0m\u001b[0msample_decision\u001b[0m\u001b[0;34m)\u001b[0m\u001b[0;34m\u001b[0m\u001b[0;34m\u001b[0m\u001b[0m\n\u001b[0;32m----> 7\u001b[0;31m \u001b[0msentences\u001b[0m \u001b[0;34m=\u001b[0m \u001b[0;34m[\u001b[0m\u001b[0msent\u001b[0m\u001b[0;34m.\u001b[0m\u001b[0mtext\u001b[0m \u001b[0;32mfor\u001b[0m \u001b[0msent\u001b[0m \u001b[0;32min\u001b[0m \u001b[0mdoc\u001b[0m\u001b[0;34m.\u001b[0m\u001b[0msents\u001b[0m\u001b[0;34m]\u001b[0m\u001b[0;34m\u001b[0m\u001b[0;34m\u001b[0m\u001b[0m\n\u001b[0m\u001b[1;32m      8\u001b[0m \u001b[0;32mfor\u001b[0m \u001b[0msentence\u001b[0m \u001b[0;32min\u001b[0m \u001b[0msentences\u001b[0m\u001b[0;34m:\u001b[0m\u001b[0;34m\u001b[0m\u001b[0;34m\u001b[0m\u001b[0m\n\u001b[1;32m      9\u001b[0m     \u001b[0mprint\u001b[0m\u001b[0;34m(\u001b[0m\u001b[0msentence\u001b[0m\u001b[0;34m.\u001b[0m\u001b[0mcats\u001b[0m\u001b[0;34m)\u001b[0m\u001b[0;34m\u001b[0m\u001b[0;34m\u001b[0m\u001b[0m\n",
      "\u001b[0;32m/tmp/ipykernel_12298/497719562.py\u001b[0m in \u001b[0;36m<listcomp>\u001b[0;34m(.0)\u001b[0m\n\u001b[1;32m      5\u001b[0m \u001b[0mnlp\u001b[0m \u001b[0;34m=\u001b[0m \u001b[0mspacy\u001b[0m\u001b[0;34m.\u001b[0m\u001b[0mload\u001b[0m\u001b[0;34m(\u001b[0m\u001b[0;34m\"./models/texcat_firac_v1/model-last/\"\u001b[0m\u001b[0;34m)\u001b[0m\u001b[0;34m\u001b[0m\u001b[0;34m\u001b[0m\u001b[0m\n\u001b[1;32m      6\u001b[0m \u001b[0mdoc\u001b[0m \u001b[0;34m=\u001b[0m \u001b[0mnlp\u001b[0m\u001b[0;34m(\u001b[0m\u001b[0msample_decision\u001b[0m\u001b[0;34m)\u001b[0m\u001b[0;34m\u001b[0m\u001b[0;34m\u001b[0m\u001b[0m\n\u001b[0;32m----> 7\u001b[0;31m \u001b[0msentences\u001b[0m \u001b[0;34m=\u001b[0m \u001b[0;34m[\u001b[0m\u001b[0msent\u001b[0m\u001b[0;34m.\u001b[0m\u001b[0mtext\u001b[0m \u001b[0;32mfor\u001b[0m \u001b[0msent\u001b[0m \u001b[0;32min\u001b[0m \u001b[0mdoc\u001b[0m\u001b[0;34m.\u001b[0m\u001b[0msents\u001b[0m\u001b[0;34m]\u001b[0m\u001b[0;34m\u001b[0m\u001b[0;34m\u001b[0m\u001b[0m\n\u001b[0m\u001b[1;32m      8\u001b[0m \u001b[0;32mfor\u001b[0m \u001b[0msentence\u001b[0m \u001b[0;32min\u001b[0m \u001b[0msentences\u001b[0m\u001b[0;34m:\u001b[0m\u001b[0;34m\u001b[0m\u001b[0;34m\u001b[0m\u001b[0m\n\u001b[1;32m      9\u001b[0m     \u001b[0mprint\u001b[0m\u001b[0;34m(\u001b[0m\u001b[0msentence\u001b[0m\u001b[0;34m.\u001b[0m\u001b[0mcats\u001b[0m\u001b[0;34m)\u001b[0m\u001b[0;34m\u001b[0m\u001b[0;34m\u001b[0m\u001b[0m\n",
      "\u001b[0;32m~/.local/lib/python3.10/site-packages/spacy/tokens/doc.pyx\u001b[0m in \u001b[0;36msents\u001b[0;34m()\u001b[0m\n",
      "\u001b[0;31mValueError\u001b[0m: [E030] Sentence boundaries unset. You can add the 'sentencizer' component to the pipeline with: `nlp.add_pipe('sentencizer')`. Alternatively, add the dependency parser or sentence recognizer, or set sentence boundaries by setting `doc[i].is_sent_start`."
     ]
    }
   ],
   "source": [
    "# Sample v2 output\n",
    "\n",
    "nlp = spacy.load(\"./models/ner_citations_v2/model-last/\")\n",
    "doc = nlp(sample_decision)\n",
    "displacy.render(doc, style='ent')"
   ]
  },
  {
   "cell_type": "markdown",
   "id": "2f37a01c-bb79-4381-b64f-10144fc69fee",
   "metadata": {},
   "source": [
    "### Text classification"
   ]
  },
  {
   "cell_type": "markdown",
   "id": "1420f0dc-8df5-4a06-b62c-2ebbabea4e65",
   "metadata": {
    "tags": []
   },
   "source": [
    "#### textcat_firac_v1"
   ]
  },
  {
   "cell_type": "markdown",
   "id": "46fecb44-1a4a-4502-9338-eaa4c13ba5dd",
   "metadata": {},
   "source": [
    "The methodology for text classification should comply with the following guidelines:\n",
    "\n",
    "##### **General**\n",
    "* Classify sentences, not whole paragraphs\n",
    "* The fewer labels, the better\n",
    "  * Try to stick with just one label per text block to the extent possible\n",
    "  * Anything more than two labels needs an explanation\n",
    "\n",
    "##### **Facts**\n",
    "* Any fact of factual finding related to an appeal issue\n",
    "  * May include procedural history where prior procedural events are a direct appellate issue (eg, ineffective assistance of counsel)\n",
    "\n",
    "##### *History*\n",
    "* (Procedural) History is a factual subset\n",
    "* This category covers the proceedings at trial and any subsequent appeals\n",
    "* Separating this category from **Facts** right off the bat will make for more economic factual summaries, as procedural history generally isn't relevant to an appeal issue\n",
    "\n",
    "##### **Issue**\n",
    "* The questions that the decision answers\n",
    "* These roughly correspond to the arguments one would define in argdown\n",
    "* Issues can be tricky to spot, as they are often phrased in their argumentative form\n",
    "  * Eg, The argument \"the defendant argues his detention was unlawful\" corresponds to the issue \"Was the defendant's detention unlawful?\"\n",
    "\n",
    "##### **Rule**\n",
    "* Axioms, legal tests, statutetory provisions and definitions\n",
    "* A rule should either be a major premise or readily capable of being translated into one\n",
    "\n",
    "##### **Analysis**\n",
    "- Parties' submissions at the appeal\n",
    "- Facts and decisions in cited cases\n",
    "- Court's opinion on the facts, history, and submissions\n",
    "\n",
    "##### **Conclusion**\n",
    "* Argument conclusions and issue resolutions\n",
    "* Dispositions"
   ]
  },
  {
   "cell_type": "code",
   "execution_count": 66,
   "id": "bdbec54b-acb8-4cb1-bc0f-a8a04b963a0c",
   "metadata": {},
   "outputs": [
    {
     "name": "stdout",
     "output_type": "stream",
     "text": [
      "  In the final analysis, I find it unnecessary to deal with the issue of extraterritoriality to dispose of this appeal. CONCLUSION\n",
      "This is so because the CFNIS did not violate the Charter. ANALYSIS\n",
      "Working within the constraints of its authority in Virginia, the CFNIS sought the cooperation of local authorities to obtain and execute a warrant under Virginia law. CONCLUSION\n",
      "The warrant which issued authorized the search, seizure, and analysis of Cpl. FACTS\n",
      "McGregor’s electronic devices expressly. ANALYSIS\n",
      "The evidence of sexual assault was discovered inadvertently by the investigators in the process of triaging the devices at the scene of the search; its incriminating nature was immediately apparent. ANALYSIS\n",
      "Although the warrant did not contemplate such evidence, the digital files in issue fell squarely within the purview of the plain view doctrine. ANALYSIS\n",
      "Furthermore, the CFNIS obtained Canadian warrants before conducting an in‑depth analysis of these devices. ANALYSIS\n",
      "It is difficult to see how the CFNIS investigators could have acted differently to attain their legitimate investigative objectives. ANALYSIS\n",
      "I conclude that they did not infringe Cpl. HISTORY\n",
      "McGregor’s rights under s. 8 of the Charter. ANALYSIS\n"
     ]
    }
   ],
   "source": [
    "import spacy\n",
    "from spacy import displacy\n",
    "\n",
    "nlp = spacy.load(\"./models/texcat_firac_v1/model-last/\")\n",
    "nlp.add_pipe(\"sentencizer\")\n",
    "\n",
    "paragraph = \"  In the final analysis, I find it unnecessary to deal with the issue of extraterritoriality to dispose of this appeal. This is so because the CFNIS did not violate the Charter. Working within the constraints of its authority in Virginia, the CFNIS sought the cooperation of local authorities to obtain and execute a warrant under Virginia law. The warrant which issued authorized the search, seizure, and analysis of Cpl. McGregor’s electronic devices expressly. The evidence of sexual assault was discovered inadvertently by the investigators in the process of triaging the devices at the scene of the search; its incriminating nature was immediately apparent. Although the warrant did not contemplate such evidence, the digital files in issue fell squarely within the purview of the plain view doctrine. Furthermore, the CFNIS obtained Canadian warrants before conducting an in‑depth analysis of these devices. It is difficult to see how the CFNIS investigators could have acted differently to attain their legitimate investigative objectives. I conclude that they did not infringe Cpl. McGregor’s rights under s. 8 of the Charter.\"\n",
    "doc = nlp(paragraph)\n",
    "\n",
    "sentence_list = []\n",
    "for sentence in doc.sents:\n",
    "    sentence_list.append(sentence)\n",
    "    categories = nlp(sentence.text).cats\n",
    "    max_key = max(categories, key=lambda k: categories[k])\n",
    "    print(sentence, max_key)\n",
    "    \n"
   ]
  },
  {
   "cell_type": "markdown",
   "id": "450e99ee-5157-45cd-aba0-86a25245e79f",
   "metadata": {},
   "source": [
    "#### textcat_firac_v2"
   ]
  },
  {
   "cell_type": "markdown",
   "id": "7e10ad06-ce7c-4fe7-9bf3-2486948b27d3",
   "metadata": {},
   "source": [
    "The methodology for text classification should comply with the following guidelines:\n",
    "\n",
    "##### **General**\n",
    "* Classify sentences, not whole paragraphs\n",
    "* The fewer labels, the better\n",
    "  * Try to stick with just one label per text block to the extent possible\n",
    "  * Anything more than two labels needs an explanation\n",
    "\n",
    "##### **Facts**\n",
    "* Events occurring prior to a court's involvement are facts\n",
    "* Events occurring after a court gets involved are generally not facts\n",
    "\n",
    "##### *History*\n",
    "* (Procedural) History is a factual subset\n",
    "* This category covers the proceedings at trial and any subsequent appeals\n",
    "\n",
    "##### **Issue**\n",
    "* The questions that the decision answers\n",
    "* These roughly correspond to the arguments one would define in argdown\n",
    "* Issues can be tricky to spot, as they are often phrased in their argumentative form\n",
    "  * Eg, The argument \"the defendant argues his detention was unlawful\" corresponds to the issue \"Was the defendant's detention unlawful?\"\n",
    "  * The courts will sometimes answer an issue prior to properly raising it\n",
    "    * I label these issue/conclusion\n",
    "\n",
    "##### **Rule**\n",
    "* Axioms, legal tests, statutetory provisions and definitions\n",
    "* A rule should either be a major premise or readily capable of being translated into one\n",
    "\n",
    "##### **Analysis**\n",
    "- Parties' submissions at the appeal\n",
    "- Facts and decisions in cited cases\n",
    "- Court's opinion on the facts, history, and submissions\n",
    "\n",
    "##### **Conclusion**\n",
    "* Argument conclusions and issue resolutions\n",
    "* Dispositions"
   ]
  },
  {
   "cell_type": "code",
   "execution_count": 1,
   "id": "e74415c2-172c-4291-870f-9e69ed139ebb",
   "metadata": {},
   "outputs": [
    {
     "name": "stdout",
     "output_type": "stream",
     "text": [
      "Section 8 of the Charter guarantees “the right to be secure against unreasonable search or seizure”. PROCEDURE\n",
      "A search is reasonable within the meaning of s. 8 “if it is authorized by law, if the law itself is reasonable and if the manner in which the search was carried out is reasonable” (R. v. Collins, 1987 CanLII 84 (SCC), [1987] 1 S.C.R. 265, at p. 278; see also R. v. Caslake, 1998 CanLII 838 (SCC), [1998] 1 S.C.R. 51, at para. ANALYSIS\n",
      "10; R. v. Nolet, 2010 SCC 24, [2010] 1 S.C.R. 851, at para. ANALYSIS\n",
      "21; R. v. Vu, 2013 SCC 60, [2013] 3 S.C.R. 657, at paras. RULE\n",
      "21‑23; Wakeling v. United States of America, 2014 SCC 72, [2014] 3 S.C.R. 549, at para. RULE\n",
      "41; R. v. Fearon, 2014 SCC 77, [2014] 3 S.C.R. 621, at para. RULE\n",
      "12; Goodwin v. British Columbia (Superintendent of Motor Vehicles), 2015 SCC 46, [2015] 3 S.C.R. 250, at para. RULE\n",
      "48; R. v. Saeed, 2016 SCC 24, [2016] 1 S.C.R. 518, at para. PROCEDURE\n",
      "36; R. v. Tim, 2022 SCC 12, at para. RULE\n",
      "46). ANALYSIS\n",
      "This Court has established a presumption that “a search requires prior authorization, usually in the form of a warrant, from a neutral arbiter” (R. v. M. (M.R.), 1998 CanLII 770 (SCC), [1998] 3 S.C.R. 393, at para. ANALYSIS\n",
      "44, referring to Hunter v. Southam Inc., 1984 CanLII 33 (SCC), [1984] 2 S.C.R. 145, at pp. RULE\n",
      "160‑62; see also Vu, at para. CONCLUSION\n",
      "22; R. v. Grant, 1993 CanLII 68 (SCC), [1993] 3 S.C.R. 223, at pp. RULE\n",
      "238‑39). HEADING\n"
     ]
    }
   ],
   "source": [
    "import spacy\n",
    "from spacy import displacy\n",
    "\n",
    "nlp = spacy.load(\"./models/texcat_firac_v2/model-last/\")\n",
    "nlp.add_pipe(\"sentencizer\")\n",
    "\n",
    "paragraph = \"Section 8 of the Charter guarantees “the right to be secure against unreasonable search or seizure”. A search is reasonable within the meaning of s. 8 “if it is authorized by law, if the law itself is reasonable and if the manner in which the search was carried out is reasonable” (R. v. Collins, 1987 CanLII 84 (SCC), [1987] 1 S.C.R. 265, at p. 278; see also R. v. Caslake, 1998 CanLII 838 (SCC), [1998] 1 S.C.R. 51, at para. 10; R. v. Nolet, 2010 SCC 24, [2010] 1 S.C.R. 851, at para. 21; R. v. Vu, 2013 SCC 60, [2013] 3 S.C.R. 657, at paras. 21‑23; Wakeling v. United States of America, 2014 SCC 72, [2014] 3 S.C.R. 549, at para. 41; R. v. Fearon, 2014 SCC 77, [2014] 3 S.C.R. 621, at para. 12; Goodwin v. British Columbia (Superintendent of Motor Vehicles), 2015 SCC 46, [2015] 3 S.C.R. 250, at para. 48; R. v. Saeed, 2016 SCC 24, [2016] 1 S.C.R. 518, at para. 36; R. v. Tim, 2022 SCC 12, at para. 46). This Court has established a presumption that “a search requires prior authorization, usually in the form of a warrant, from a neutral arbiter” (R. v. M. (M.R.), 1998 CanLII 770 (SCC), [1998] 3 S.C.R. 393, at para. 44, referring to Hunter v. Southam Inc., 1984 CanLII 33 (SCC), [1984] 2 S.C.R. 145, at pp. 160‑62; see also Vu, at para. 22; R. v. Grant, 1993 CanLII 68 (SCC), [1993] 3 S.C.R. 223, at pp. 238‑39).\"\n",
    "doc = nlp(paragraph)\n",
    "\n",
    "sentence_list = []\n",
    "for sentence in doc.sents:\n",
    "    sentence_list.append(sentence)\n",
    "    categories = nlp(sentence.text).cats\n",
    "    max_key = max(categories, key=lambda k: categories[k])\n",
    "    print(sentence, max_key)\n",
    "    \n"
   ]
  },
  {
   "cell_type": "markdown",
   "id": "c89eda79-4719-4ed5-8fee-d6dd89882c07",
   "metadata": {},
   "source": [
    "## Model assessment"
   ]
  },
  {
   "cell_type": "code",
   "execution_count": null,
   "id": "c5012dac-7fbe-4080-82e9-28a4ca216fe4",
   "metadata": {},
   "outputs": [],
   "source": []
  },
  {
   "cell_type": "markdown",
   "id": "e22e9c5a-7aab-4c94-84aa-5c7b43ddbdc2",
   "metadata": {},
   "source": [
    "## Model deployment"
   ]
  },
  {
   "cell_type": "code",
   "execution_count": null,
   "id": "8de2c362-25ec-4690-bd04-36bfe284c80d",
   "metadata": {},
   "outputs": [],
   "source": []
  }
 ],
 "metadata": {
  "kernelspec": {
   "display_name": "Python 3 (ipykernel)",
   "language": "python",
   "name": "python3"
  },
  "language_info": {
   "codemirror_mode": {
    "name": "ipython",
    "version": 3
   },
   "file_extension": ".py",
   "mimetype": "text/x-python",
   "name": "python",
   "nbconvert_exporter": "python",
   "pygments_lexer": "ipython3",
   "version": "3.10.6"
  }
 },
 "nbformat": 4,
 "nbformat_minor": 5
}
