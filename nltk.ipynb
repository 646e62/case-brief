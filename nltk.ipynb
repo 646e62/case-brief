{
 "cells": [
  {
   "cell_type": "code",
   "execution_count": 1,
   "id": "4c1d08ad-e719-452e-8758-76acab3f8460",
   "metadata": {},
   "outputs": [
    {
     "name": "stdout",
     "output_type": "stream",
     "text": [
      "*** Introductory Examples for the NLTK Book ***\n",
      "Loading text1, ..., text9 and sent1, ..., sent9\n",
      "Type the name of the text or sentence to view it.\n",
      "Type: 'texts()' or 'sents()' to list the materials.\n",
      "text1: Moby Dick by Herman Melville 1851\n",
      "text2: Sense and Sensibility by Jane Austen 1811\n",
      "text3: The Book of Genesis\n",
      "text4: Inaugural Address Corpus\n",
      "text5: Chat Corpus\n",
      "text6: Monty Python and the Holy Grail\n",
      "text7: Wall Street Journal\n",
      "text8: Personals Corpus\n",
      "text9: The Man Who Was Thursday by G . K . Chesterton 1908\n"
     ]
    }
   ],
   "source": [
    "import nltk\n",
    "from nltk.book import *"
   ]
  },
  {
   "cell_type": "code",
   "execution_count": 27,
   "id": "549f434f-acc9-4f07-8f3b-17d28bce317f",
   "metadata": {},
   "outputs": [
    {
     "name": "stdout",
     "output_type": "stream",
     "text": [
      "scene as become strange bad naughty\n"
     ]
    },
    {
     "data": {
      "text/plain": [
       "nltk.text.Text"
      ]
     },
     "execution_count": 27,
     "metadata": {},
     "output_type": "execute_result"
    }
   ],
   "source": [
    "text6.similar(\"silly\")\n",
    "type(text6)"
   ]
  },
  {
   "cell_type": "code",
   "execution_count": 10,
   "id": "5d831f3b-c276-4e66-9908-a2dbe8109bbb",
   "metadata": {},
   "outputs": [
    {
     "name": "stderr",
     "output_type": "stream",
     "text": [
      "Matplotlib is building the font cache; this may take a moment.\n"
     ]
    },
    {
     "data": {
      "image/png": "[encoded data removed]",
      "text/plain": [
       "<Figure size 432x288 with 1 Axes>"
      ]
     },
     "metadata": {
      "needs_background": "light"
     },
     "output_type": "display_data"
    }
   ],
   "source": [
    "text4.dispersion_plot([\"citizens\", \"democracy\", \"freedom\", \"duties\", \"America\"])"
   ]
  },
  {
   "cell_type": "code",
   "execution_count": 23,
   "id": "5cac50fe-5f4c-4f04-a706-d579f9ed73b1",
   "metadata": {},
   "outputs": [
    {
     "data": {
      "text/plain": [
       "'thee'"
      ]
     },
     "execution_count": 23,
     "metadata": {},
     "output_type": "execute_result"
    }
   ],
   "source": [
    "len(text3)\n",
    "len(set(text3))\n",
    "text3[14277]"
   ]
  },
  {
   "cell_type": "code",
   "execution_count": 37,
   "id": "7a14cf24-ac7a-4917-a05e-8c8fb6ed1a17",
   "metadata": {},
   "outputs": [
    {
     "name": "stdout",
     "output_type": "stream",
     "text": [
      "<Text: This is a sample text for NLTK ....>\n",
      "['Mark', 'Friesen', 'is', 'charged', 'that', 'on', 'December', '5', ',', '2020', ',', 'at', 'Saskatoon', ',', 'Saskatchewan', 'he', 'attended', 'a', 'public', 'gathering', 'at', 'Vimy', 'Memorial', 'in', 'Kiwanis', 'Park', 'in', 'Saskatoon', 'where', 'there', 'were', 'in', 'excess', 'of', '30', 'people', ',', 'contrary', 'to', 'the', 'Public', 'Health', 'Order', '[', 'PHO', ']', 'in', 'effect', 'at', 'that', 'time', '.', 'That', 'order', 'was', 'made', 'as', 'a', 'result', 'of', 'the', 'COVID-19', 'pandemic', 'then', 'sweeping', 'not', 'only', 'Saskatchewan', 'but', 'the', 'entire', 'world', '.']\n",
      "\n",
      "None\n"
     ]
    }
   ],
   "source": [
    "from nltk.text import Text\n",
    "\n",
    "text = \"This is a sample text for NLTK. Let's see how it works.\"\n",
    "words = nltk.word_tokenize(text)\n",
    "custom_text = Text(words)\n",
    "print(custom_text)\n",
    "\n",
    "\n",
    "\n",
    "para = \"Mark Friesen is charged that on December 5, 2020, at Saskatoon, Saskatchewan he attended a public gathering at Vimy Memorial in Kiwanis Park in Saskatoon where there were in excess of 30 people, contrary to the Public Health Order [PHO] in effect at that time.  That order was made as a result of the COVID-19 pandemic then sweeping not only Saskatchewan but the entire world.\"\n",
    "words = nltk.word_tokenize(para)\n",
    "print(words)\n",
    "custom_text = Text(words)\n",
    "print(custom_text.similar(\"effect\"))"
   ]
  },
  {
   "cell_type": "code",
   "execution_count": 40,
   "id": "29337e53-8bc7-4b03-ad61-d36b19d5e132",
   "metadata": {},
   "outputs": [
    {
     "data": {
      "text/plain": [
       "['said', 'than']"
      ]
     },
     "execution_count": 40,
     "metadata": {},
     "output_type": "execute_result"
    }
   ],
   "source": [
    "saying = ['After', 'all', 'is', 'said', 'and', 'done', 'more', 'is', 'said', 'than', 'done']\n",
    "tokens = sorted(set(saying))\n",
    "tokens[-2:]"
   ]
  },
  {
   "cell_type": "code",
   "execution_count": 51,
   "id": "e305e332-ed8a-45e8-9eec-dc51a493fe72",
   "metadata": {},
   "outputs": [
    {
     "name": "stdout",
     "output_type": "stream",
     "text": [
      "[('Saskatoon', 2), ('Saskatchewan', 2), ('Mark', 1), ('Friesen', 1), ('charged', 1), ('December', 1), ('5', 1), ('2020', 1), ('attended', 1), ('public', 1), ('gathering', 1), ('Vimy', 1), ('Memorial', 1), ('Kiwanis', 1), ('Park', 1), ('excess', 1), ('30', 1), ('people', 1), ('contrary', 1), ('Public', 1), ('Health', 1), ('Order', 1), ('PHO', 1), ('effect', 1), ('time', 1), ('That', 1), ('order', 1), ('made', 1), ('result', 1), ('pandemic', 1), ('sweeping', 1), ('entire', 1), ('world', 1)]\n"
     ]
    }
   ],
   "source": [
    "from nltk.corpus import stopwords\n",
    "stop_words = stopwords.words('english')\n",
    "\n",
    "para_no_stopwords = [word for word in custom_text if word not in stop_words and word.isalpha() or word.isdigit()]\n",
    "print(FreqDist(para_no_stopwords).most_common(50))"
   ]
  }
 ],
 "metadata": {
  "kernelspec": {
   "display_name": "Python 3 (ipykernel)",
   "language": "python",
   "name": "python3"
  },
  "language_info": {
   "codemirror_mode": {
    "name": "ipython",
    "version": 3
   },
   "file_extension": ".py",
   "mimetype": "text/x-python",
   "name": "python",
   "nbconvert_exporter": "python",
   "pygments_lexer": "ipython3",
   "version": "3.10.6"
  }
 },
 "nbformat": 4,
 "nbformat_minor": 5
}
