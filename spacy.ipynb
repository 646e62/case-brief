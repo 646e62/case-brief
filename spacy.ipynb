{
 "cells": [
  {
   "cell_type": "code",
   "execution_count": 13,
   "id": "6baf8616-f6a5-45b1-9293-7a3be556b517",
   "metadata": {},
   "outputs": [],
   "source": [
    "import spacy\n",
    "from spacy import displacy\n",
    "nlp = spacy.load(\"en_core_web_md\")"
   ]
  },
  {
   "cell_type": "code",
   "execution_count": 27,
   "id": "7464a730-c6b2-41ca-b5eb-65b3e93daf62",
   "metadata": {},
   "outputs": [
    {
     "data": {
      "text/html": [
       "<span class=\"tex2jax_ignore\"><div class=\"entities\" style=\"line-height: 2.5; direction: ltr\">  In addition, s. \n",
       "<mark class=\"entity\" style=\"background: #e4e7d2; padding: 0.45em 0.6em; margin: 0 0.25em; line-height: 1; border-radius: 0.35em;\">\n",
       "    344\n",
       "    <span style=\"font-size: 0.8em; font-weight: bold; line-height: 1; border-radius: 0.35em; vertical-align: middle; margin-left: 0.5rem\">CARDINAL</span>\n",
       "</mark>\n",
       " incorporates the definition of a “firearm” in \n",
       "<mark class=\"entity\" style=\"background: #ff8197; padding: 0.45em 0.6em; margin: 0 0.25em; line-height: 1; border-radius: 0.35em;\">\n",
       "    the Criminal Code\n",
       "    <span style=\"font-size: 0.8em; font-weight: bold; line-height: 1; border-radius: 0.35em; vertical-align: middle; margin-left: 0.5rem\">LAW</span>\n",
       "</mark>\n",
       ", as well as the terms “prohibited firearm” and “restricted firearm”. A “firearm” is defined at \n",
       "<mark class=\"entity\" style=\"background: #7aecec; padding: 0.45em 0.6em; margin: 0 0.25em; line-height: 1; border-radius: 0.35em;\">\n",
       "    s. 2\n",
       "    <span style=\"font-size: 0.8em; font-weight: bold; line-height: 1; border-radius: 0.35em; vertical-align: middle; margin-left: 0.5rem\">ORG</span>\n",
       "</mark>\n",
       " to mean “a barrelled weapon from which any shot, bullet or other projectile can be discharged and that is capable of causing serious bodily injury or death to a person”. “Prohibited firearms” and “restricted firearms” are \n",
       "<mark class=\"entity\" style=\"background: #e4e7d2; padding: 0.45em 0.6em; margin: 0 0.25em; line-height: 1; border-radius: 0.35em;\">\n",
       "    two\n",
       "    <span style=\"font-size: 0.8em; font-weight: bold; line-height: 1; border-radius: 0.35em; vertical-align: middle; margin-left: 0.5rem\">CARDINAL</span>\n",
       "</mark>\n",
       " specific classes of firearms subject to strict regulation under both \n",
       "<mark class=\"entity\" style=\"background: #ff8197; padding: 0.45em 0.6em; margin: 0 0.25em; line-height: 1; border-radius: 0.35em;\">\n",
       "    the Firearms Act\n",
       "    <span style=\"font-size: 0.8em; font-weight: bold; line-height: 1; border-radius: 0.35em; vertical-align: middle; margin-left: 0.5rem\">LAW</span>\n",
       "</mark>\n",
       " and \n",
       "<mark class=\"entity\" style=\"background: #ff8197; padding: 0.45em 0.6em; margin: 0 0.25em; line-height: 1; border-radius: 0.35em;\">\n",
       "    the Criminal Code\n",
       "    <span style=\"font-size: 0.8em; font-weight: bold; line-height: 1; border-radius: 0.35em; vertical-align: middle; margin-left: 0.5rem\">LAW</span>\n",
       "</mark>\n",
       ". Prohibited firearms include short-barrelled handguns, sawed-off rifles and shotguns, and automatic firearms (Criminal Code, s. 84(1); \n",
       "<mark class=\"entity\" style=\"background: #aa9cfc; padding: 0.45em 0.6em; margin: 0 0.25em; line-height: 1; border-radius: 0.35em;\">\n",
       "    Nur\n",
       "    <span style=\"font-size: 0.8em; font-weight: bold; line-height: 1; border-radius: 0.35em; vertical-align: middle; margin-left: 0.5rem\">PERSON</span>\n",
       "</mark>\n",
       ", at para. \n",
       "<mark class=\"entity\" style=\"background: #e4e7d2; padding: 0.45em 0.6em; margin: 0 0.25em; line-height: 1; border-radius: 0.35em;\">\n",
       "    7\n",
       "    <span style=\"font-size: 0.8em; font-weight: bold; line-height: 1; border-radius: 0.35em; vertical-align: middle; margin-left: 0.5rem\">CARDINAL</span>\n",
       "</mark>\n",
       "). The possession of a prohibited firearm is unlawful, unless the individual possessed the firearm before the prohibition coming into force (Firearms Act, s. \n",
       "<mark class=\"entity\" style=\"background: #e4e7d2; padding: 0.45em 0.6em; margin: 0 0.25em; line-height: 1; border-radius: 0.35em;\">\n",
       "    12\n",
       "    <span style=\"font-size: 0.8em; font-weight: bold; line-height: 1; border-radius: 0.35em; vertical-align: middle; margin-left: 0.5rem\">CARDINAL</span>\n",
       "</mark>\n",
       "; \n",
       "<mark class=\"entity\" style=\"background: #aa9cfc; padding: 0.45em 0.6em; margin: 0 0.25em; line-height: 1; border-radius: 0.35em;\">\n",
       "    Nur\n",
       "    <span style=\"font-size: 0.8em; font-weight: bold; line-height: 1; border-radius: 0.35em; vertical-align: middle; margin-left: 0.5rem\">PERSON</span>\n",
       "</mark>\n",
       ", at para. \n",
       "<mark class=\"entity\" style=\"background: #e4e7d2; padding: 0.45em 0.6em; margin: 0 0.25em; line-height: 1; border-radius: 0.35em;\">\n",
       "    7\n",
       "    <span style=\"font-size: 0.8em; font-weight: bold; line-height: 1; border-radius: 0.35em; vertical-align: middle; margin-left: 0.5rem\">CARDINAL</span>\n",
       "</mark>\n",
       "). Restricted firearms are “inherently dangerous and are commonly used in criminal activity”. They include any handgun that is not a prohibited firearm, some semi-automatic firearms, and some firearms that are less than a specified length (\n",
       "<mark class=\"entity\" style=\"background: #aa9cfc; padding: 0.45em 0.6em; margin: 0 0.25em; line-height: 1; border-radius: 0.35em;\">\n",
       "    Nur\n",
       "    <span style=\"font-size: 0.8em; font-weight: bold; line-height: 1; border-radius: 0.35em; vertical-align: middle; margin-left: 0.5rem\">PERSON</span>\n",
       "</mark>\n",
       ", at para. \n",
       "<mark class=\"entity\" style=\"background: #e4e7d2; padding: 0.45em 0.6em; margin: 0 0.25em; line-height: 1; border-radius: 0.35em;\">\n",
       "    7\n",
       "    <span style=\"font-size: 0.8em; font-weight: bold; line-height: 1; border-radius: 0.35em; vertical-align: middle; margin-left: 0.5rem\">CARDINAL</span>\n",
       "</mark>\n",
       "; Criminal Code, s. 84(1)).</div></span>"
      ],
      "text/plain": [
       "<IPython.core.display.HTML object>"
      ]
     },
     "metadata": {},
     "output_type": "display_data"
    }
   ],
   "source": [
    "doc = nlp(\"  In addition, s. 344 incorporates the definition of a “firearm” in the Criminal Code, as well as the terms “prohibited firearm” and “restricted firearm”. A “firearm” is defined at s. 2 to mean “a barrelled weapon from which any shot, bullet or other projectile can be discharged and that is capable of causing serious bodily injury or death to a person”. “Prohibited firearms” and “restricted firearms” are two specific classes of firearms subject to strict regulation under both the Firearms Act and the Criminal Code. Prohibited firearms include short-barrelled handguns, sawed-off rifles and shotguns, and automatic firearms (Criminal Code, s. 84(1); Nur, at para. 7). The possession of a prohibited firearm is unlawful, unless the individual possessed the firearm before the prohibition coming into force (Firearms Act, s. 12; Nur, at para. 7). Restricted firearms are “inherently dangerous and are commonly used in criminal activity”. They include any handgun that is not a prohibited firearm, some semi-automatic firearms, and some firearms that are less than a specified length (Nur, at para. 7; Criminal Code, s. 84(1)).\")\n",
    "displacy.render(doc, style='ent')"
   ]
  },
  {
   "cell_type": "code",
   "execution_count": 6,
   "id": "60e2c6bb-f4e0-4b59-848d-5e18e4d990a5",
   "metadata": {},
   "outputs": [
    {
     "name": "stdout",
     "output_type": "stream",
     "text": [
      "the Criminal Code LAW\n",
      "1985 DATE\n",
      "s. 12 LAW\n",
      "the Canadian Charter of Rights and Freedoms LAW\n",
      "Hilbach PERSON\n",
      "five years’ DATE\n",
      "s. 344(1)(a)(i LAW\n",
      "Zwozdesky PERSON\n",
      "four years’ DATE\n",
      "s. 344(1)(a.1 ORG\n",
      "s. 344(1)(a.1 GPE\n"
     ]
    },
    {
     "data": {
      "text/plain": [
       "'Named documents made into laws.'"
      ]
     },
     "execution_count": 6,
     "metadata": {},
     "output_type": "execute_result"
    }
   ],
   "source": [
    "for ent in doc.ents:\n",
    "    print(ent.text, ent.label_)\n",
    "spacy.explain(\"LAW\")"
   ]
  },
  {
   "cell_type": "code",
   "execution_count": null,
   "id": "dbaef2c4-9623-475b-8604-157064dbd5d8",
   "metadata": {},
   "outputs": [],
   "source": [
    "for i in range (len(doc)):\n",
    "    current_token = doc[i]\n",
    "    next_token = doc[i + 1]\n",
    "    if current_token.text = \"para\":\n",
    "for token in doc:\n",
    "    if token.text == \"para\":\n",
    "        "
   ]
  },
  {
   "cell_type": "code",
   "execution_count": 28,
   "id": "3e944f4e-29d6-4173-9c50-94a6fba39dd9",
   "metadata": {},
   "outputs": [
    {
     "name": "stdout",
     "output_type": "stream",
     "text": [
      "  \n",
      "In addition, s. 344 incorporates the definition of a “firearm” in the Criminal Code, as well as the terms “prohibited firearm” and “restricted firearm”.\n",
      "A “firearm” is defined at s. 2 to mean “a barrelled weapon from which any shot, bullet or other projectile can be discharged and that is capable of causing serious bodily injury or death to a person”.\n",
      "“Prohibited firearms” and “restricted firearms” are two specific classes of firearms subject to strict regulation under both the Firearms Act and the Criminal Code.\n",
      "Prohibited firearms include short-barrelled handguns, sawed-off rifles and shotguns, and automatic firearms (Criminal Code, s. 84(1); Nur, at para. 7).\n",
      "The possession of a prohibited firearm is unlawful, unless the individual possessed the firearm before the prohibition coming into force (Firearms Act, s. 12; Nur, at para. 7).\n",
      "Restricted firearms are “inherently dangerous and are commonly used in criminal activity”.\n",
      "They include any handgun that is not a prohibited firearm, some semi-automatic firearms, and some firearms that are less than a specified length (Nur, at para.\n",
      "7; Criminal Code, s. 84(1)).\n"
     ]
    }
   ],
   "source": [
    "for sentence in doc.sents:\n",
    "    print(sentence.text)"
   ]
  }
 ],
 "metadata": {
  "kernelspec": {
   "display_name": "Python 3 (ipykernel)",
   "language": "python",
   "name": "python3"
  },
  "language_info": {
   "codemirror_mode": {
    "name": "ipython",
    "version": 3
   },
   "file_extension": ".py",
   "mimetype": "text/x-python",
   "name": "python",
   "nbconvert_exporter": "python",
   "pygments_lexer": "ipython3",
   "version": "3.10.6"
  }
 },
 "nbformat": 4,
 "nbformat_minor": 5
}
