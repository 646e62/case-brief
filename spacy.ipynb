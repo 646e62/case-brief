{
 "cells": [
  {
   "cell_type": "code",
   "execution_count": 1,
   "id": "6baf8616-f6a5-45b1-9293-7a3be556b517",
   "metadata": {},
   "outputs": [
    {
     "name": "stdout",
     "output_type": "stream",
     "text": [
      "<spacy.lang.en.English object at 0x7fccefabf1f0>\n"
     ]
    }
   ],
   "source": [
    "import spacy\n",
    "\n",
    "nlp = spacy.load(\"en_core_web_sm\")\n",
    "print(nlp)"
   ]
  },
  {
   "cell_type": "code",
   "execution_count": 10,
   "id": "7464a730-c6b2-41ca-b5eb-65b3e93daf62",
   "metadata": {},
   "outputs": [
    {
     "name": "stdout",
     "output_type": "stream",
     "text": [
      "[('Mark', 'PROPN', 'compound', 'Friesen'), ('Friesen', 'PROPN', 'nsubjpass', 'charged'), ('is', 'AUX', 'auxpass', 'charged'), ('charged', 'VERB', 'ROOT', 'charged'), ('that', 'SCONJ', 'mark', 'attended'), ('on', 'ADP', 'prep', 'attended'), ('December', 'PROPN', 'pobj', 'on'), ('5', 'NUM', 'nummod', 'December'), (',', 'PUNCT', 'punct', 'December'), ('2020', 'NUM', 'nummod', 'December'), (',', 'PUNCT', 'punct', 'attended'), ('at', 'ADP', 'prep', 'attended'), ('Saskatoon', 'PROPN', 'pobj', 'at'), (',', 'PUNCT', 'punct', 'attended'), ('Saskatchewan', 'PROPN', 'npadvmod', 'attended'), ('he', 'PRON', 'nsubj', 'attended'), ('attended', 'VERB', 'ccomp', 'charged'), ('a', 'DET', 'det', 'gathering'), ('public', 'ADJ', 'amod', 'gathering'), ('gathering', 'NOUN', 'dobj', 'attended'), ('at', 'ADP', 'prep', 'gathering'), ('Vimy', 'PROPN', 'compound', 'Memorial'), ('Memorial', 'PROPN', 'pobj', 'at'), ('in', 'ADP', 'prep', 'Memorial'), ('Kiwanis', 'PROPN', 'compound', 'Park'), ('Park', 'PROPN', 'pobj', 'in'), ('in', 'ADP', 'prep', 'Memorial'), ('Saskatoon', 'PROPN', 'pobj', 'in'), ('where', 'SCONJ', 'advmod', 'were'), ('there', 'PRON', 'expl', 'were'), ('were', 'VERB', 'relcl', 'Memorial'), ('in', 'ADP', 'prep', 'were'), ('excess', 'NOUN', 'pobj', 'in'), ('of', 'ADP', 'prep', 'excess'), ('30', 'NUM', 'nummod', 'people'), ('people', 'NOUN', 'pobj', 'of'), (',', 'PUNCT', 'punct', 'attended'), ('contrary', 'ADJ', 'advmod', 'attended'), ('to', 'ADP', 'prep', 'contrary'), ('the', 'DET', 'det', 'Order'), ('Public', 'PROPN', 'compound', 'Health'), ('Health', 'PROPN', 'compound', 'Order'), ('Order', 'PROPN', 'pobj', 'to'), ('[', 'X', 'punct', 'attended'), ('PHO', 'NOUN', 'dobj', 'attended'), (']', 'X', 'punct', 'attended'), ('in', 'ADP', 'prep', 'attended'), ('effect', 'NOUN', 'pobj', 'in'), ('at', 'ADP', 'prep', 'effect'), ('that', 'DET', 'det', 'time'), ('time', 'NOUN', 'pobj', 'at'), ('.', 'PUNCT', 'punct', 'charged'), (' ', 'SPACE', 'dep', '.'), ('That', 'DET', 'det', 'order'), ('order', 'NOUN', 'nsubjpass', 'made'), ('was', 'AUX', 'auxpass', 'made'), ('made', 'VERB', 'ROOT', 'made'), ('as', 'ADP', 'prep', 'made'), ('a', 'DET', 'det', 'result'), ('result', 'NOUN', 'pobj', 'as'), ('of', 'ADP', 'prep', 'result'), ('the', 'DET', 'det', 'COVID-19'), ('COVID-19', 'NOUN', 'pobj', 'of'), ('pandemic', 'ADJ', 'advcl', 'made'), ('then', 'ADV', 'advmod', 'pandemic'), ('sweeping', 'VERB', 'advcl', 'made'), ('not', 'PART', 'preconj', 'Saskatchewan'), ('only', 'ADV', 'advmod', 'not'), ('Saskatchewan', 'PROPN', 'dobj', 'sweeping'), ('but', 'CCONJ', 'cc', 'Saskatchewan'), ('the', 'DET', 'det', 'world'), ('entire', 'ADJ', 'amod', 'world'), ('world', 'NOUN', 'conj', 'Saskatchewan'), ('.', 'PUNCT', 'punct', 'made')]\n"
     ]
    }
   ],
   "source": [
    "doc = nlp(\"Mark Friesen is charged that on December 5, 2020, at Saskatoon, Saskatchewan he attended a public gathering at Vimy Memorial in Kiwanis Park in Saskatoon where there were in excess of 30 people, contrary to the Public Health Order [PHO] in effect at that time.  That order was made as a result of the COVID-19 pandemic then sweeping not only Saskatchewan but the entire world.\")\n",
    "\n",
    "paragraph = []\n",
    "\n",
    "for token in doc:\n",
    "    paragraph.append((token.text, token.pos_, token.dep_, token.head.text))\n",
    "print(paragraph)"
   ]
  },
  {
   "cell_type": "code",
   "execution_count": 14,
   "id": "60e2c6bb-f4e0-4b59-848d-5e18e4d990a5",
   "metadata": {},
   "outputs": [
    {
     "name": "stdout",
     "output_type": "stream",
     "text": [
      "Mark Friesen PERSON\n",
      "December 5, 2020 DATE\n",
      "Saskatoon GPE\n",
      "Saskatchewan GPE\n",
      "Vimy Memorial FAC\n",
      "Kiwanis Park LOC\n",
      "Saskatoon LOC\n",
      "30 CARDINAL\n",
      "the Public Health Order ORG\n",
      "COVID-19 ORG\n",
      "Saskatchewan GPE\n"
     ]
    },
    {
     "data": {
      "text/plain": [
       "'Countries, cities, states'"
      ]
     },
     "execution_count": 14,
     "metadata": {},
     "output_type": "execute_result"
    }
   ],
   "source": [
    "for ent in doc.ents:\n",
    "    print(ent.text, ent.label_)\n",
    "spacy.explain(\"GPE\")"
   ]
  }
 ],
 "metadata": {
  "kernelspec": {
   "display_name": "Python 3 (ipykernel)",
   "language": "python",
   "name": "python3"
  },
  "language_info": {
   "codemirror_mode": {
    "name": "ipython",
    "version": 3
   },
   "file_extension": ".py",
   "mimetype": "text/x-python",
   "name": "python",
   "nbconvert_exporter": "python",
   "pygments_lexer": "ipython3",
   "version": "3.10.6"
  }
 },
 "nbformat": 4,
 "nbformat_minor": 5
}
