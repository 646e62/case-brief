{
 "cells": [
  {
   "cell_type": "code",
   "execution_count": 25,
   "id": "6baf8616-f6a5-45b1-9293-7a3be556b517",
   "metadata": {},
   "outputs": [],
   "source": [
    "import spacy\n",
    "from spacy import displacy"
   ]
  },
  {
   "cell_type": "code",
   "execution_count": 39,
   "id": "c33d9546-a6fa-4c38-bf9a-2bdf5dae4004",
   "metadata": {},
   "outputs": [
    {
     "data": {
      "text/html": [
       "<span class=\"tex2jax_ignore\"><div class=\"entities\" style=\"line-height: 2.5; direction: ltr\">The accused appeals her conviction for assaulting a peace officer (see \n",
       "<mark class=\"entity\" style=\"background: #ddd; padding: 0.45em 0.6em; margin: 0 0.25em; line-height: 1; border-radius: 0.35em;\">\n",
       "    section 270(1) of the Criminal Code\n",
       "    <span style=\"font-size: 0.8em; font-weight: bold; line-height: 1; border-radius: 0.35em; vertical-align: middle; margin-left: 0.5rem\">STATUTE</span>\n",
       "</mark>\n",
       ") after a trial before a Provincial Court judge. She asserts that the verdict was unreasonable because the trial judge erred in law by failing to apply the correct legal test regarding the requirement for mens rea to the evidence he found to be true and that the facts that he accepted were incompatible with a finding of guilt.</br>At the time of the incident, the accused was an inmate at the Women’s Correctional Center. On the day in question, she attempted to choke herself with a piece of ripped bedding. Correctional officers (officers) tried to restrain her with hand and leg cuffs to no avail. She was actively resisting, yelling and refusing to obey the officers’ directions to calm down. A decision was made to place her in a restraining chair. As the officers were completing this task, she spit several feet above the heads of the officers. The spit landed on the face of one of the officers who was trying to restrain her. Two video-recordings of the incident were tendered as evidence. At trial, the accused testified that she did not recall why she was trying to choke herself and that she panicked and actively resisted officers when they came into her cell because she did not want to be restrained. She said that, during the course of being restrained, she had phlegm in her throat and was choking and that is why she spit. She said that she did not intend to spit on the officers but, rather, into the air with the intent that the spit would fall back on her.</br>The trial judge rejected her evidence as being incredible and convicted her. He found that she intentionally spit at the officers.</br>The standard of review for an unreasonable verdict is whether the verdict was one that a properly instructed jury could have reached. In judge-alone trials, a verdict may also be found to be unreasonable in the exceedingly rare situation where the trial judge made a finding of fact that is directly contradicted by other evidence relied on in support of that finding or it is incompatible with evidence not otherwise contradicted or rejected by the trial judge (see R v Sinclair, \n",
       "<mark class=\"entity\" style=\"background: #ddd; padding: 0.45em 0.6em; margin: 0 0.25em; line-height: 1; border-radius: 0.35em;\">\n",
       "    2011 SCC 40 at para 22\n",
       "    <span style=\"font-size: 0.8em; font-weight: bold; line-height: 1; border-radius: 0.35em; vertical-align: middle; margin-left: 0.5rem\">CASE</span>\n",
       "</mark>\n",
       "; R v RP, \n",
       "<mark class=\"entity\" style=\"background: #ddd; padding: 0.45em 0.6em; margin: 0 0.25em; line-height: 1; border-radius: 0.35em;\">\n",
       "    2012 SCC 22 at paras 9-10\n",
       "    <span style=\"font-size: 0.8em; font-weight: bold; line-height: 1; border-radius: 0.35em; vertical-align: middle; margin-left: 0.5rem\">CASE</span>\n",
       "</mark>\n",
       "; and R v WAW, \n",
       "<mark class=\"entity\" style=\"background: #ddd; padding: 0.45em 0.6em; margin: 0 0.25em; line-height: 1; border-radius: 0.35em;\">\n",
       "    2016 MBCA 26 at para 15\n",
       "    <span style=\"font-size: 0.8em; font-weight: bold; line-height: 1; border-radius: 0.35em; vertical-align: middle; margin-left: 0.5rem\">CASE</span>\n",
       "</mark>\n",
       ").</br>The crux of the accused’s argument is that it was inconsistent for the trial judge to have found that she intended to assault the officer on the basis that he found that:</br>(a) she was hysterical and out of control at the time of the offence;</br>(b) due to her state of mind, she could not have known what was going on at the time of the offence;</br>(c) she was unable to apply reason to her thoughts or actions at the time of the offence; and</br>(d) she did not intend to hit the complainant with her spit.</br>At the hearing of this appeal, counsel for the accused conceded point (d), agreeing with the Crown that the accused need not have had the intent to spit on the officer that she ultimately hit. Rather, all that was required was the intent that the spit make contact with one of the officers (see Regina v Deakin (1974), 1974 CanLII 1464 (MB CA), 16 CCC (2d) 1 (Man CA)).</br>Regarding the statement at point (a), the finding that the accused was “hysterical” or “out of control” does not necessarily lead to the conclusion that she was unable to form the minimal intent required for assault (see R v Dawydiuk, \n",
       "<mark class=\"entity\" style=\"background: #ddd; padding: 0.45em 0.6em; margin: 0 0.25em; line-height: 1; border-radius: 0.35em;\">\n",
       "    2010 BCCA 162 at paras 27-29\n",
       "    <span style=\"font-size: 0.8em; font-weight: bold; line-height: 1; border-radius: 0.35em; vertical-align: middle; margin-left: 0.5rem\">CASE</span>\n",
       "</mark>\n",
       "). Much as in this case, such acts “may be the purely physical products of momentary passion” (\n",
       "<mark class=\"entity\" style=\"background: #ddd; padding: 0.45em 0.6em; margin: 0 0.25em; line-height: 1; border-radius: 0.35em;\">\n",
       "    Dawydiuk at para 28\n",
       "    <span style=\"font-size: 0.8em; font-weight: bold; line-height: 1; border-radius: 0.35em; vertical-align: middle; margin-left: 0.5rem\">CASE</span>\n",
       "</mark>\n",
       ", quoting The Queen v George, 1960 CanLII 45 (SCC), [1960] SCR 871 at 890).</br>Considering points (a) to (c), it is understandable that the accused argues that the statements made by the trial judge are inconsistent with his finding of intent. That is, his finding that she had the requisite intent to assault seems to evidence a contradictory reasoning process inconsistent with his findings regarding her emotional state at the time. Such an error would lead to an unreasonable verdict as described in \n",
       "<mark class=\"entity\" style=\"background: #ddd; padding: 0.45em 0.6em; margin: 0 0.25em; line-height: 1; border-radius: 0.35em;\">\n",
       "    R v Beaudry, 2007 SCC 5\n",
       "    <span style=\"font-size: 0.8em; font-weight: bold; line-height: 1; border-radius: 0.35em; vertical-align: middle; margin-left: 0.5rem\">CASE</span>\n",
       "</mark>\n",
       "; and Sinclair.</br>We all agree that the reasons of the trial judge were far from perfect. However, read in context, the findings at points (a) to (c) were directed to the credibility of the accused and not to the issue of her intent.</br>The trial judge rejected the accused’s assertion that she was choking, finding it to be inconsistent with the video. Regarding her testimony that she did not intend to spit on the officers, a review of the transcript shows that the trial judge said he did not think that, at the time, “there was any way in which [the accused] put her mind to anything in terms of reasonable thought.” It was his opinion that, in light of her emotional state at the time, the accused would not have been capable of engaging in a reasonable thought process by pre-determining the projectile of her spit. He also found that, due to her emotional state at the time, she would not have sufficient recollection of the event when she testified as to her intent when she spit. While he could have been far more precise in his description, the trial judge was commenting on the fact that the accused’s testimony was incredible and unreliable as a result of her emotional state at the time of the incident.</br>There is no doubt that a review of the video evidence shows that the accused was very upset. She was yelling and resisting the officers’ attempts to restrain her. She agreed that she was engaging in this behaviour as she did not want to be restrained. There is also no question that the spit was forceful, deliberate and that there were a number of officers directly above her at the time. In light of the fact that the officers were restraining her legs and arms, the trial judge concluded that spitting was the only option she had in terms of trying to assault any of the officers involved and that she intentionally did so. We are not convinced that he erred in this regard.</br>Ultimately, although counsel for the accused made a forceful submission based on the inelegant language the trial judge used, we are not satisfied that this is a rare case where the “reasoning process of the trial judge is so irrational, or so at odds with the evidence, that it vitiates the verdict” despite the verdict being available on the evidence as a whole (\n",
       "<mark class=\"entity\" style=\"background: #ddd; padding: 0.45em 0.6em; margin: 0 0.25em; line-height: 1; border-radius: 0.35em;\">\n",
       "    Sinclair at para 84\n",
       "    <span style=\"font-size: 0.8em; font-weight: bold; line-height: 1; border-radius: 0.35em; vertical-align: middle; margin-left: 0.5rem\">CASE</span>\n",
       "</mark>\n",
       ").</br>Therefore, based on all of the above, we would dismiss the appeal.</div></span>"
      ],
      "text/plain": [
       "<IPython.core.display.HTML object>"
      ]
     },
     "metadata": {},
     "output_type": "display_data"
    }
   ],
   "source": [
    "nlp = spacy.load(\"./models/ner_citations_v1/model-last/\")\n",
    "doc = nlp(\"The accused appeals her conviction for assaulting a peace officer (see section 270(1) of the Criminal Code) after a trial before a Provincial Court judge. She asserts that the verdict was unreasonable because the trial judge erred in law by failing to apply the correct legal test regarding the requirement for mens rea to the evidence he found to be true and that the facts that he accepted were incompatible with a finding of guilt.\\nAt the time of the incident, the accused was an inmate at the Women’s Correctional Center. On the day in question, she attempted to choke herself with a piece of ripped bedding. Correctional officers (officers) tried to restrain her with hand and leg cuffs to no avail. She was actively resisting, yelling and refusing to obey the officers’ directions to calm down. A decision was made to place her in a restraining chair. As the officers were completing this task, she spit several feet above the heads of the officers. The spit landed on the face of one of the officers who was trying to restrain her. Two video-recordings of the incident were tendered as evidence. At trial, the accused testified that she did not recall why she was trying to choke herself and that she panicked and actively resisted officers when they came into her cell because she did not want to be restrained. She said that, during the course of being restrained, she had phlegm in her throat and was choking and that is why she spit. She said that she did not intend to spit on the officers but, rather, into the air with the intent that the spit would fall back on her.\\nThe trial judge rejected her evidence as being incredible and convicted her. He found that she intentionally spit at the officers.\\nThe standard of review for an unreasonable verdict is whether the verdict was one that a properly instructed jury could have reached. In judge-alone trials, a verdict may also be found to be unreasonable in the exceedingly rare situation where the trial judge made a finding of fact that is directly contradicted by other evidence relied on in support of that finding or it is incompatible with evidence not otherwise contradicted or rejected by the trial judge (see R v Sinclair, 2011 SCC 40 at para 22; R v RP, 2012 SCC 22 at paras 9-10; and R v WAW, 2016 MBCA 26 at para 15).\\nThe crux of the accused’s argument is that it was inconsistent for the trial judge to have found that she intended to assault the officer on the basis that he found that:\\n(a) she was hysterical and out of control at the time of the offence;\\n(b) due to her state of mind, she could not have known what was going on at the time of the offence;\\n(c) she was unable to apply reason to her thoughts or actions at the time of the offence; and\\n(d) she did not intend to hit the complainant with her spit.\\nAt the hearing of this appeal, counsel for the accused conceded point (d), agreeing with the Crown that the accused need not have had the intent to spit on the officer that she ultimately hit. Rather, all that was required was the intent that the spit make contact with one of the officers (see Regina v Deakin (1974), 1974 CanLII 1464 (MB CA), 16 CCC (2d) 1 (Man CA)).\\nRegarding the statement at point (a), the finding that the accused was “hysterical” or “out of control” does not necessarily lead to the conclusion that she was unable to form the minimal intent required for assault (see R v Dawydiuk, 2010 BCCA 162 at paras 27-29). Much as in this case, such acts “may be the purely physical products of momentary passion” (Dawydiuk at para 28, quoting The Queen v George, 1960 CanLII 45 (SCC), [1960] SCR 871 at 890).\\nConsidering points (a) to (c), it is understandable that the accused argues that the statements made by the trial judge are inconsistent with his finding of intent. That is, his finding that she had the requisite intent to assault seems to evidence a contradictory reasoning process inconsistent with his findings regarding her emotional state at the time. Such an error would lead to an unreasonable verdict as described in R v Beaudry, 2007 SCC 5; and Sinclair.\\nWe all agree that the reasons of the trial judge were far from perfect. However, read in context, the findings at points (a) to (c) were directed to the credibility of the accused and not to the issue of her intent.\\nThe trial judge rejected the accused’s assertion that she was choking, finding it to be inconsistent with the video. Regarding her testimony that she did not intend to spit on the officers, a review of the transcript shows that the trial judge said he did not think that, at the time, “there was any way in which [the accused] put her mind to anything in terms of reasonable thought.” It was his opinion that, in light of her emotional state at the time, the accused would not have been capable of engaging in a reasonable thought process by pre-determining the projectile of her spit. He also found that, due to her emotional state at the time, she would not have sufficient recollection of the event when she testified as to her intent when she spit. While he could have been far more precise in his description, the trial judge was commenting on the fact that the accused’s testimony was incredible and unreliable as a result of her emotional state at the time of the incident.\\nThere is no doubt that a review of the video evidence shows that the accused was very upset. She was yelling and resisting the officers’ attempts to restrain her. She agreed that she was engaging in this behaviour as she did not want to be restrained. There is also no question that the spit was forceful, deliberate and that there were a number of officers directly above her at the time. In light of the fact that the officers were restraining her legs and arms, the trial judge concluded that spitting was the only option she had in terms of trying to assault any of the officers involved and that she intentionally did so. We are not convinced that he erred in this regard.\\nUltimately, although counsel for the accused made a forceful submission based on the inelegant language the trial judge used, we are not satisfied that this is a rare case where the “reasoning process of the trial judge is so irrational, or so at odds with the evidence, that it vitiates the verdict” despite the verdict being available on the evidence as a whole (Sinclair at para 84).\\nTherefore, based on all of the above, we would dismiss the appeal.\")\n",
    "displacy.render(doc, style='ent')"
   ]
  },
  {
   "cell_type": "code",
   "execution_count": 40,
   "id": "40330d80-20f3-4515-b29c-43108738fac5",
   "metadata": {},
   "outputs": [
    {
     "data": {
      "text/html": [
       "<span class=\"tex2jax_ignore\"><div class=\"entities\" style=\"line-height: 2.5; direction: ltr\">The accused appeals her conviction for assaulting a peace officer (see \n",
       "<mark class=\"entity\" style=\"background: #ddd; padding: 0.45em 0.6em; margin: 0 0.25em; line-height: 1; border-radius: 0.35em;\">\n",
       "    section 270(1)\n",
       "    <span style=\"font-size: 0.8em; font-weight: bold; line-height: 1; border-radius: 0.35em; vertical-align: middle; margin-left: 0.5rem\">STATUTE_SHORTFORM</span>\n",
       "</mark>\n",
       " of the \n",
       "<mark class=\"entity\" style=\"background: #ddd; padding: 0.45em 0.6em; margin: 0 0.25em; line-height: 1; border-radius: 0.35em;\">\n",
       "    Criminal Code)\n",
       "    <span style=\"font-size: 0.8em; font-weight: bold; line-height: 1; border-radius: 0.35em; vertical-align: middle; margin-left: 0.5rem\">STATUTE_SHORTFORM</span>\n",
       "</mark>\n",
       " after a trial before a Provincial Court judge. She asserts that the verdict was unreasonable because the trial judge erred in law by failing to apply the correct legal test regarding the requirement for mens rea to the evidence he found to be true and that the facts that he accepted were incompatible with a finding of guilt.</br>At the time of the incident, the accused was an inmate at the Women’s Correctional Center. On the day in question, she attempted to choke herself with a piece of ripped bedding. Correctional officers (officers) tried to restrain her with hand and leg cuffs to no avail. She was actively resisting, yelling and refusing to obey the officers’ directions to calm down. A decision was made to place her in a restraining chair. As the officers were completing this task, she spit several feet above the heads of the officers. The spit landed on the face of one of the officers who was trying to restrain her. Two video-recordings of the incident were tendered as evidence. At trial, the accused testified that she did not recall why she was trying to choke herself and that she panicked and actively resisted officers when they came into her cell because she did not want to be restrained. She said that, during the course of being restrained, she had phlegm in her throat and was choking and that is why she spit. She said that she did not intend to spit on the officers but, rather, into the air with the intent that the spit would fall back on her.</br>The trial judge rejected her evidence as being incredible and convicted her. He found that she intentionally spit at the officers.</br>The standard of review for an unreasonable verdict is whether the verdict was one that a properly instructed jury could have reached. In judge-alone trials, a verdict may also be found to be unreasonable in the exceedingly rare situation where the trial judge made a finding of fact that is directly contradicted by other evidence relied on in support of that finding or it is incompatible with evidence not otherwise contradicted or rejected by the trial judge (see \n",
       "<mark class=\"entity\" style=\"background: #ddd; padding: 0.45em 0.6em; margin: 0 0.25em; line-height: 1; border-radius: 0.35em;\">\n",
       "    R v Sinclair, 2011 SCC 40\n",
       "    <span style=\"font-size: 0.8em; font-weight: bold; line-height: 1; border-radius: 0.35em; vertical-align: middle; margin-left: 0.5rem\">CASE_CITATION</span>\n",
       "</mark>\n",
       " \n",
       "<mark class=\"entity\" style=\"background: #ddd; padding: 0.45em 0.6em; margin: 0 0.25em; line-height: 1; border-radius: 0.35em;\">\n",
       "    at para 22\n",
       "    <span style=\"font-size: 0.8em; font-weight: bold; line-height: 1; border-radius: 0.35em; vertical-align: middle; margin-left: 0.5rem\">CASE_PINPOINT</span>\n",
       "</mark>\n",
       "; R v RP, 2012 SCC 22 \n",
       "<mark class=\"entity\" style=\"background: #ddd; padding: 0.45em 0.6em; margin: 0 0.25em; line-height: 1; border-radius: 0.35em;\">\n",
       "    at paras 9-10\n",
       "    <span style=\"font-size: 0.8em; font-weight: bold; line-height: 1; border-radius: 0.35em; vertical-align: middle; margin-left: 0.5rem\">CASE_PINPOINT</span>\n",
       "</mark>\n",
       "; and R v WAW, 2016 MBCA 26 \n",
       "<mark class=\"entity\" style=\"background: #ddd; padding: 0.45em 0.6em; margin: 0 0.25em; line-height: 1; border-radius: 0.35em;\">\n",
       "    at para 15)\n",
       "    <span style=\"font-size: 0.8em; font-weight: bold; line-height: 1; border-radius: 0.35em; vertical-align: middle; margin-left: 0.5rem\">CASE_PINPOINT</span>\n",
       "</mark>\n",
       ".</br>The crux of the accused’s argument is that it was inconsistent for the trial judge to have found that she intended to assault the officer on the basis that he found that:</br>(a) she was hysterical and out of control at the time of the offence;</br>(b) due to her state of mind, she could not have known what was going on at the time of the offence;</br>(c) she was unable to apply reason to her thoughts or actions at the time of the offence; and</br>(d) she did not intend to hit the complainant with her spit.</br>At the hearing of this appeal, counsel for the accused conceded point (d), agreeing with the Crown that the accused need not have had the intent to spit on the officer that she ultimately hit. Rather, all that was required was the intent that the spit make contact with one of the officers (see Regina v Deakin (1974), \n",
       "<mark class=\"entity\" style=\"background: #ddd; padding: 0.45em 0.6em; margin: 0 0.25em; line-height: 1; border-radius: 0.35em;\">\n",
       "    1974 CanLII 1464 (MB CA)\n",
       "    <span style=\"font-size: 0.8em; font-weight: bold; line-height: 1; border-radius: 0.35em; vertical-align: middle; margin-left: 0.5rem\">CASE_CITATION</span>\n",
       "</mark>\n",
       ", 16 CCC (2d) 1 (Man CA)).</br>Regarding the statement at point (a), the finding that the accused was “hysterical” or “out of control” does not necessarily lead to the conclusion that she was unable to form the minimal intent required for assault (see R v Dawydiuk, \n",
       "<mark class=\"entity\" style=\"background: #ddd; padding: 0.45em 0.6em; margin: 0 0.25em; line-height: 1; border-radius: 0.35em;\">\n",
       "    2010 BCCA 162\n",
       "    <span style=\"font-size: 0.8em; font-weight: bold; line-height: 1; border-radius: 0.35em; vertical-align: middle; margin-left: 0.5rem\">CASE_CITATION</span>\n",
       "</mark>\n",
       " \n",
       "<mark class=\"entity\" style=\"background: #ddd; padding: 0.45em 0.6em; margin: 0 0.25em; line-height: 1; border-radius: 0.35em;\">\n",
       "    at paras 27-29\n",
       "    <span style=\"font-size: 0.8em; font-weight: bold; line-height: 1; border-radius: 0.35em; vertical-align: middle; margin-left: 0.5rem\">CASE_PINPOINT</span>\n",
       "</mark>\n",
       "). Much as in this case, such acts “may be the purely physical products of momentary passion” (\n",
       "<mark class=\"entity\" style=\"background: #ddd; padding: 0.45em 0.6em; margin: 0 0.25em; line-height: 1; border-radius: 0.35em;\">\n",
       "    Dawydiuk\n",
       "    <span style=\"font-size: 0.8em; font-weight: bold; line-height: 1; border-radius: 0.35em; vertical-align: middle; margin-left: 0.5rem\">CASE_SHORTFORM</span>\n",
       "</mark>\n",
       " \n",
       "<mark class=\"entity\" style=\"background: #ddd; padding: 0.45em 0.6em; margin: 0 0.25em; line-height: 1; border-radius: 0.35em;\">\n",
       "    at para 28\n",
       "    <span style=\"font-size: 0.8em; font-weight: bold; line-height: 1; border-radius: 0.35em; vertical-align: middle; margin-left: 0.5rem\">CASE_PINPOINT</span>\n",
       "</mark>\n",
       ", quoting The Queen v George, \n",
       "<mark class=\"entity\" style=\"background: #ddd; padding: 0.45em 0.6em; margin: 0 0.25em; line-height: 1; border-radius: 0.35em;\">\n",
       "    1960 CanLII 45 (SCC)\n",
       "    <span style=\"font-size: 0.8em; font-weight: bold; line-height: 1; border-radius: 0.35em; vertical-align: middle; margin-left: 0.5rem\">CASE_CITATION</span>\n",
       "</mark>\n",
       ", \n",
       "<mark class=\"entity\" style=\"background: #ddd; padding: 0.45em 0.6em; margin: 0 0.25em; line-height: 1; border-radius: 0.35em;\">\n",
       "    [1960] SCR 871\n",
       "    <span style=\"font-size: 0.8em; font-weight: bold; line-height: 1; border-radius: 0.35em; vertical-align: middle; margin-left: 0.5rem\">CASE_CITATION</span>\n",
       "</mark>\n",
       " \n",
       "<mark class=\"entity\" style=\"background: #ddd; padding: 0.45em 0.6em; margin: 0 0.25em; line-height: 1; border-radius: 0.35em;\">\n",
       "    at 890\n",
       "    <span style=\"font-size: 0.8em; font-weight: bold; line-height: 1; border-radius: 0.35em; vertical-align: middle; margin-left: 0.5rem\">CASE_PINPOINT</span>\n",
       "</mark>\n",
       ").</br>Considering points (a) to (c), it is understandable that the accused argues that the statements made by the trial judge are inconsistent with his finding of intent. That is, his finding that she had the requisite intent to assault seems to evidence a contradictory reasoning process inconsistent with his findings regarding her emotional state at the time. Such an error would lead to an unreasonable verdict as described in R v Beaudry, 2007 SCC 5; and \n",
       "<mark class=\"entity\" style=\"background: #ddd; padding: 0.45em 0.6em; margin: 0 0.25em; line-height: 1; border-radius: 0.35em;\">\n",
       "    Sinclair\n",
       "    <span style=\"font-size: 0.8em; font-weight: bold; line-height: 1; border-radius: 0.35em; vertical-align: middle; margin-left: 0.5rem\">CASE_SHORTFORM</span>\n",
       "</mark>\n",
       ".</br>We all agree that the reasons of the trial judge were far from perfect. However, read in context, the findings at points (a) to (c) were directed to the credibility of the accused and not to the issue of her intent.</br>The trial judge rejected the accused’s assertion that she was choking, finding it to be inconsistent with the video. Regarding her testimony that she did not intend to spit on the officers, a review of the transcript shows that the trial judge said he did not think that, at the time, “there was any way in which [the accused] put her mind to anything in terms of reasonable thought.” It was his opinion that, in light of her emotional state at the time, the accused would not have been capable of engaging in a reasonable thought process by pre-determining the projectile of her spit. He also found that, due to her emotional state at the time, she would not have sufficient recollection of the event when she testified as to her intent when she spit. While he could have been far more precise in his description, the trial judge was commenting on the fact that the accused’s testimony was incredible and unreliable as a result of her emotional state at the time of the incident.</br>There is no doubt that a review of the video evidence shows that the accused was very upset. She was yelling and resisting the officers’ attempts to restrain her. She agreed that she was engaging in this behaviour as she did not want to be restrained. There is also no question that the spit was forceful, deliberate and that there were a number of officers directly above her at the time. In light of the fact that the officers were restraining her legs and arms, the trial judge concluded that spitting was the only option she had in terms of trying to assault any of the officers involved and that she intentionally did so. We are not convinced that he erred in this regard.</br>Ultimately, although counsel for the accused made a forceful submission based on the inelegant language the trial judge used, we are not satisfied that this is a rare case where the “reasoning process of the trial judge is so irrational, or so at odds with the evidence, that it vitiates the verdict” despite the verdict being available on the evidence as a whole (\n",
       "<mark class=\"entity\" style=\"background: #ddd; padding: 0.45em 0.6em; margin: 0 0.25em; line-height: 1; border-radius: 0.35em;\">\n",
       "    Sinclair\n",
       "    <span style=\"font-size: 0.8em; font-weight: bold; line-height: 1; border-radius: 0.35em; vertical-align: middle; margin-left: 0.5rem\">CASE_SHORTFORM</span>\n",
       "</mark>\n",
       " \n",
       "<mark class=\"entity\" style=\"background: #ddd; padding: 0.45em 0.6em; margin: 0 0.25em; line-height: 1; border-radius: 0.35em;\">\n",
       "    at para 84\n",
       "    <span style=\"font-size: 0.8em; font-weight: bold; line-height: 1; border-radius: 0.35em; vertical-align: middle; margin-left: 0.5rem\">CASE_PINPOINT</span>\n",
       "</mark>\n",
       ").</br>Therefore, based on all of the above, we would dismiss the appeal.</div></span>"
      ],
      "text/plain": [
       "<IPython.core.display.HTML object>"
      ]
     },
     "metadata": {},
     "output_type": "display_data"
    }
   ],
   "source": [
    "nlp = spacy.load(\"./models/ner_citations_v2/model-last/\")\n",
    "doc = nlp(\"The accused appeals her conviction for assaulting a peace officer (see section 270(1) of the Criminal Code) after a trial before a Provincial Court judge. She asserts that the verdict was unreasonable because the trial judge erred in law by failing to apply the correct legal test regarding the requirement for mens rea to the evidence he found to be true and that the facts that he accepted were incompatible with a finding of guilt.\\nAt the time of the incident, the accused was an inmate at the Women’s Correctional Center. On the day in question, she attempted to choke herself with a piece of ripped bedding. Correctional officers (officers) tried to restrain her with hand and leg cuffs to no avail. She was actively resisting, yelling and refusing to obey the officers’ directions to calm down. A decision was made to place her in a restraining chair. As the officers were completing this task, she spit several feet above the heads of the officers. The spit landed on the face of one of the officers who was trying to restrain her. Two video-recordings of the incident were tendered as evidence. At trial, the accused testified that she did not recall why she was trying to choke herself and that she panicked and actively resisted officers when they came into her cell because she did not want to be restrained. She said that, during the course of being restrained, she had phlegm in her throat and was choking and that is why she spit. She said that she did not intend to spit on the officers but, rather, into the air with the intent that the spit would fall back on her.\\nThe trial judge rejected her evidence as being incredible and convicted her. He found that she intentionally spit at the officers.\\nThe standard of review for an unreasonable verdict is whether the verdict was one that a properly instructed jury could have reached. In judge-alone trials, a verdict may also be found to be unreasonable in the exceedingly rare situation where the trial judge made a finding of fact that is directly contradicted by other evidence relied on in support of that finding or it is incompatible with evidence not otherwise contradicted or rejected by the trial judge (see R v Sinclair, 2011 SCC 40 at para 22; R v RP, 2012 SCC 22 at paras 9-10; and R v WAW, 2016 MBCA 26 at para 15).\\nThe crux of the accused’s argument is that it was inconsistent for the trial judge to have found that she intended to assault the officer on the basis that he found that:\\n(a) she was hysterical and out of control at the time of the offence;\\n(b) due to her state of mind, she could not have known what was going on at the time of the offence;\\n(c) she was unable to apply reason to her thoughts or actions at the time of the offence; and\\n(d) she did not intend to hit the complainant with her spit.\\nAt the hearing of this appeal, counsel for the accused conceded point (d), agreeing with the Crown that the accused need not have had the intent to spit on the officer that she ultimately hit. Rather, all that was required was the intent that the spit make contact with one of the officers (see Regina v Deakin (1974), 1974 CanLII 1464 (MB CA), 16 CCC (2d) 1 (Man CA)).\\nRegarding the statement at point (a), the finding that the accused was “hysterical” or “out of control” does not necessarily lead to the conclusion that she was unable to form the minimal intent required for assault (see R v Dawydiuk, 2010 BCCA 162 at paras 27-29). Much as in this case, such acts “may be the purely physical products of momentary passion” (Dawydiuk at para 28, quoting The Queen v George, 1960 CanLII 45 (SCC), [1960] SCR 871 at 890).\\nConsidering points (a) to (c), it is understandable that the accused argues that the statements made by the trial judge are inconsistent with his finding of intent. That is, his finding that she had the requisite intent to assault seems to evidence a contradictory reasoning process inconsistent with his findings regarding her emotional state at the time. Such an error would lead to an unreasonable verdict as described in R v Beaudry, 2007 SCC 5; and Sinclair.\\nWe all agree that the reasons of the trial judge were far from perfect. However, read in context, the findings at points (a) to (c) were directed to the credibility of the accused and not to the issue of her intent.\\nThe trial judge rejected the accused’s assertion that she was choking, finding it to be inconsistent with the video. Regarding her testimony that she did not intend to spit on the officers, a review of the transcript shows that the trial judge said he did not think that, at the time, “there was any way in which [the accused] put her mind to anything in terms of reasonable thought.” It was his opinion that, in light of her emotional state at the time, the accused would not have been capable of engaging in a reasonable thought process by pre-determining the projectile of her spit. He also found that, due to her emotional state at the time, she would not have sufficient recollection of the event when she testified as to her intent when she spit. While he could have been far more precise in his description, the trial judge was commenting on the fact that the accused’s testimony was incredible and unreliable as a result of her emotional state at the time of the incident.\\nThere is no doubt that a review of the video evidence shows that the accused was very upset. She was yelling and resisting the officers’ attempts to restrain her. She agreed that she was engaging in this behaviour as she did not want to be restrained. There is also no question that the spit was forceful, deliberate and that there were a number of officers directly above her at the time. In light of the fact that the officers were restraining her legs and arms, the trial judge concluded that spitting was the only option she had in terms of trying to assault any of the officers involved and that she intentionally did so. We are not convinced that he erred in this regard.\\nUltimately, although counsel for the accused made a forceful submission based on the inelegant language the trial judge used, we are not satisfied that this is a rare case where the “reasoning process of the trial judge is so irrational, or so at odds with the evidence, that it vitiates the verdict” despite the verdict being available on the evidence as a whole (Sinclair at para 84).\\nTherefore, based on all of the above, we would dismiss the appeal.\")\n",
    "displacy.render(doc, style='ent')"
   ]
  },
  {
   "cell_type": "code",
   "execution_count": 38,
   "id": "0ec8db00-882a-4094-a71c-211fecb2d0e3",
   "metadata": {},
   "outputs": [
    {
     "data": {
      "text/html": [
       "<span class=\"tex2jax_ignore\"><div class=\"entities\" style=\"line-height: 2.5; direction: ltr\">In Thomson, a Hague Convention case, this Court clarified that the legislation governing non‑Hague and Hague Convention disputes “operate independently of one another” (\n",
       "<mark class=\"entity\" style=\"background: #ddd; padding: 0.45em 0.6em; margin: 0 0.25em; line-height: 1; border-radius: 0.35em;\">\n",
       "    p. 603\n",
       "    <span style=\"font-size: 0.8em; font-weight: bold; line-height: 1; border-radius: 0.35em; vertical-align: middle; margin-left: 0.5rem\">OTHER_PINPOINT</span>\n",
       "</mark>\n",
       "; see also \n",
       "<mark class=\"entity\" style=\"background: #ddd; padding: 0.45em 0.6em; margin: 0 0.25em; line-height: 1; border-radius: 0.35em;\">\n",
       "    L.S.I. v. G.P.I., 2011 ONCA 623\n",
       "    <span style=\"font-size: 0.8em; font-weight: bold; line-height: 1; border-radius: 0.35em; vertical-align: middle; margin-left: 0.5rem\">CASE_CITATION</span>\n",
       "</mark>\n",
       ", \n",
       "<mark class=\"entity\" style=\"background: #ddd; padding: 0.45em 0.6em; margin: 0 0.25em; line-height: 1; border-radius: 0.35em;\">\n",
       "    285 O.A.C. 111\n",
       "    <span style=\"font-size: 0.8em; font-weight: bold; line-height: 1; border-radius: 0.35em; vertical-align: middle; margin-left: 0.5rem\">CASE_CITATION</span>\n",
       "</mark>\n",
       ", \n",
       "<mark class=\"entity\" style=\"background: #ddd; padding: 0.45em 0.6em; margin: 0 0.25em; line-height: 1; border-radius: 0.35em;\">\n",
       "    at para. 46\n",
       "    <span style=\"font-size: 0.8em; font-weight: bold; line-height: 1; border-radius: 0.35em; vertical-align: middle; margin-left: 0.5rem\">CASE_PINPOINT</span>\n",
       "</mark>\n",
       "). As pointed out by Laskin J.A. in Ojeikere, in Hague Convention cases, “Ontario courts can have confidence that whatever jurisdiction decides on a child’s custody it will do so on the basis of the child’s best interests”, but they cannot have the same confidence in cases involving non‑party jurisdictions (\n",
       "<mark class=\"entity\" style=\"background: #ddd; padding: 0.45em 0.6em; margin: 0 0.25em; line-height: 1; border-radius: 0.35em;\">\n",
       "    para. 60\n",
       "    <span style=\"font-size: 0.8em; font-weight: bold; line-height: 1; border-radius: 0.35em; vertical-align: middle; margin-left: 0.5rem\">CASE_PINPOINT</span>\n",
       "</mark>\n",
       "; see also \n",
       "<mark class=\"entity\" style=\"background: #ddd; padding: 0.45em 0.6em; margin: 0 0.25em; line-height: 1; border-radius: 0.35em;\">\n",
       "    Geliedan\n",
       "    <span style=\"font-size: 0.8em; font-weight: bold; line-height: 1; border-radius: 0.35em; vertical-align: middle; margin-left: 0.5rem\">CASE_SHORTFORM</span>\n",
       "</mark>\n",
       ", \n",
       "<mark class=\"entity\" style=\"background: #ddd; padding: 0.45em 0.6em; margin: 0 0.25em; line-height: 1; border-radius: 0.35em;\">\n",
       "    at paras. 37‑38 and 45\n",
       "    <span style=\"font-size: 0.8em; font-weight: bold; line-height: 1; border-radius: 0.35em; vertical-align: middle; margin-left: 0.5rem\">CASE_PINPOINT</span>\n",
       "</mark>\n",
       "). The Ontario legislature makes plain, in \n",
       "<mark class=\"entity\" style=\"background: #ddd; padding: 0.45em 0.6em; margin: 0 0.25em; line-height: 1; border-radius: 0.35em;\">\n",
       "    s. 19(a)\n",
       "    <span style=\"font-size: 0.8em; font-weight: bold; line-height: 1; border-radius: 0.35em; vertical-align: middle; margin-left: 0.5rem\">STATUTE_PINPOINT</span>\n",
       "</mark>\n",
       " of the CLRA, that the ultimate determination of a parenting order on the merits will be made on the basis of the best interests of the child. To account for the fact that, in the non‑Hague Convention context, Ontario courts do not benefit from the a priori assumption that the best interests of the child principle will be applied to the merits of the custody dispute in the foreign country, judges assessing petitions for return to non‑party jurisdictions must therefore consider the tenor of foreign law, generally through expert evidence adduced by the parties. Nevertheless, in Thomson, La Forest J. explained that it is not improper to look at the Hague Convention for the interpretation of domestic legislation, “since the legislature’s adoption of the Convention is indicative of the legislature’s judgment that international child custody disputes are best resolved by returning the child to its habitual place of residence” (\n",
       "<mark class=\"entity\" style=\"background: #ddd; padding: 0.45em 0.6em; margin: 0 0.25em; line-height: 1; border-radius: 0.35em;\">\n",
       "    p. 603\n",
       "    <span style=\"font-size: 0.8em; font-weight: bold; line-height: 1; border-radius: 0.35em; vertical-align: middle; margin-left: 0.5rem\">OTHER_PINPOINT</span>\n",
       "</mark>\n",
       "; for the CLRA, see N. Bala, '\n",
       "<mark class=\"entity\" style=\"background: #ddd; padding: 0.45em 0.6em; margin: 0 0.25em; line-height: 1; border-radius: 0.35em;\">\n",
       "    O.C.L. v. Balev: Not an ‘Evisceration’ of the Hague Convention and the International Custody Jurisdiction of the CLRA' (2019), 38 C.F.L.Q. 301\n",
       "    <span style=\"font-size: 0.8em; font-weight: bold; line-height: 1; border-radius: 0.35em; vertical-align: middle; margin-left: 0.5rem\">CASE_CITATION</span>\n",
       "</mark>\n",
       ", \n",
       "<mark class=\"entity\" style=\"background: #ddd; padding: 0.45em 0.6em; margin: 0 0.25em; line-height: 1; border-radius: 0.35em;\">\n",
       "    at p. 308\n",
       "    <span style=\"font-size: 0.8em; font-weight: bold; line-height: 1; border-radius: 0.35em; vertical-align: middle; margin-left: 0.5rem\">CASE_PINPOINT</span>\n",
       "</mark>\n",
       ").</div></span>"
      ],
      "text/plain": [
       "<IPython.core.display.HTML object>"
      ]
     },
     "metadata": {},
     "output_type": "display_data"
    }
   ],
   "source": [
    "nlp = spacy.load(\"./models/ner_citations_v2/model-last/\")\n",
    "doc = nlp(\"In Thomson, a Hague Convention case, this Court clarified that the legislation governing non‑Hague and Hague Convention disputes “operate independently of one another” (p. 603; see also L.S.I. v. G.P.I., 2011 ONCA 623, 285 O.A.C. 111, at para. 46). As pointed out by Laskin J.A. in Ojeikere, in Hague Convention cases, “Ontario courts can have confidence that whatever jurisdiction decides on a child’s custody it will do so on the basis of the child’s best interests”, but they cannot have the same confidence in cases involving non‑party jurisdictions (para. 60; see also Geliedan, at paras. 37‑38 and 45). The Ontario legislature makes plain, in s. 19(a) of the CLRA, that the ultimate determination of a parenting order on the merits will be made on the basis of the best interests of the child. To account for the fact that, in the non‑Hague Convention context, Ontario courts do not benefit from the a priori assumption that the best interests of the child principle will be applied to the merits of the custody dispute in the foreign country, judges assessing petitions for return to non‑party jurisdictions must therefore consider the tenor of foreign law, generally through expert evidence adduced by the parties. Nevertheless, in Thomson, La Forest J. explained that it is not improper to look at the Hague Convention for the interpretation of domestic legislation, “since the legislature’s adoption of the Convention is indicative of the legislature’s judgment that international child custody disputes are best resolved by returning the child to its habitual place of residence” (p. 603; for the CLRA, see N. Bala, 'O.C.L. v. Balev: Not an ‘Evisceration’ of the Hague Convention and the International Custody Jurisdiction of the CLRA' (2019), 38 C.F.L.Q. 301, at p. 308).\")\n",
    "displacy.render(doc, style='ent')"
   ]
  },
  {
   "cell_type": "code",
   "execution_count": 10,
   "id": "60e2c6bb-f4e0-4b59-848d-5e18e4d990a5",
   "metadata": {},
   "outputs": [
    {
     "name": "stdout",
     "output_type": "stream",
     "text": [
      "s. 46(2) of the CLRA STATUTE\n",
      "pp. 575‑76 STATUTE\n",
      "Lawyer v. Balev, 2018 SCC 16, [2018] 1 S.C.R. 398, at paras. 22‑24 CASE\n",
      "QCCA 638, at para. 17 (CanLII) STATUTE\n",
      "Geliedan v. Rawdah, 2020 ONCA 254, 446 D.L.R. (4th) 440, at para. 37 CASE\n"
     ]
    },
    {
     "name": "stderr",
     "output_type": "stream",
     "text": [
      "/home/danielnathanbooy/.local/lib/python3.10/site-packages/spacy/glossary.py:19: UserWarning: [W118] Term 'CASE' not found in glossary. It may however be explained in documentation for the corpora used to train the language. Please check `nlp.meta[\"sources\"]` for any relevant links.\n",
      "  warnings.warn(Warnings.W118.format(term=term))\n"
     ]
    }
   ],
   "source": [
    "for ent in doc.ents:\n",
    "    print(ent.text, ent.label_)"
   ]
  }
 ],
 "metadata": {
  "kernelspec": {
   "display_name": "Python 3 (ipykernel)",
   "language": "python",
   "name": "python3"
  },
  "language_info": {
   "codemirror_mode": {
    "name": "ipython",
    "version": 3
   },
   "file_extension": ".py",
   "mimetype": "text/x-python",
   "name": "python",
   "nbconvert_exporter": "python",
   "pygments_lexer": "ipython3",
   "version": "3.10.6"
  }
 },
 "nbformat": 4,
 "nbformat_minor": 5
}
